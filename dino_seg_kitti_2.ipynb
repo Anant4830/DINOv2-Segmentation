{
 "cells": [
  {
   "cell_type": "code",
   "execution_count": 1,
   "id": "9a2285c9",
   "metadata": {},
   "outputs": [],
   "source": [
    "import torch\n",
    "from torch.utils.data import DataLoader\n",
    "from torchvision.datasets import VOCSegmentation\n",
    "import torchvision.transforms as T\n",
    "from PIL import Image\n"
   ]
  },
  {
   "cell_type": "code",
   "execution_count": 2,
   "id": "c4ed3164",
   "metadata": {},
   "outputs": [],
   "source": [
    "#train_dataset = VOCSegmentation(root='data/', year='2012', image_set='train', download=True)\n",
    "\n",
    "# writing custom dataset, inheriting from VOCSegmentation dataset\n",
    "class VOCSegmentationWithPIL(VOCSegmentation):\n",
    "    def __init__(self, root='data', year='2012', image_set='train',\n",
    "                 download=True, image_size=(224, 224)):\n",
    "        super().__init__(root=root, year=year, image_set=image_set, download=download)\n",
    "        self.image_resize = T.Resize(image_size)\n",
    "        self.mask_transform = T.Compose([\n",
    "            T.Resize(image_size, interpolation=Image.NEAREST),\n",
    "            T.PILToTensor(),  # Keeps label values intact\n",
    "        ])\n",
    "\n",
    "    def __getitem__(self, index):\n",
    "        image, mask = super().__getitem__(index)\n",
    "        image = self.image_resize(image)  # still PIL.Image\n",
    "        mask = self.mask_transform(mask).squeeze(0).long()  # [H, W] as LongTensor\n",
    "        return image, mask"
   ]
  },
  {
   "cell_type": "code",
   "execution_count": 3,
   "id": "4aace71b",
   "metadata": {},
   "outputs": [],
   "source": [
    "def collate_fn_pil(batch):\n",
    "    images, masks = zip(*batch)  # tuple of lists\n",
    "    return list(images), torch.stack(masks)  # keep images as list of PIL\n"
   ]
  },
  {
   "cell_type": "code",
   "execution_count": 4,
   "id": "4b9259d3",
   "metadata": {},
   "outputs": [
    {
     "name": "stdout",
     "output_type": "stream",
     "text": [
      "Using downloaded and verified file: src/data_train/VOCtrainval_11-May-2012.tar\n",
      "Extracting src/data_train/VOCtrainval_11-May-2012.tar to src/data_train\n"
     ]
    }
   ],
   "source": [
    "train_dataset = VOCSegmentationWithPIL(\n",
    "    root='src/data_train',\n",
    "    year='2012',\n",
    "    image_set='train',\n",
    "    download=True,\n",
    "    image_size=(224, 224)\n",
    ")\n",
    "\n",
    "train_loader = DataLoader(\n",
    "    train_dataset,\n",
    "    batch_size=8,\n",
    "    shuffle=True,\n",
    "    num_workers=4,\n",
    "    collate_fn=collate_fn_pil,\n",
    "    pin_memory=True\n",
    ")"
   ]
  },
  {
   "cell_type": "code",
   "execution_count": 5,
   "id": "34c5e30d",
   "metadata": {},
   "outputs": [
    {
     "name": "stdout",
     "output_type": "stream",
     "text": [
      "Using downloaded and verified file: src/data_val/VOCtrainval_11-May-2012.tar\n",
      "Extracting src/data_val/VOCtrainval_11-May-2012.tar to src/data_val\n"
     ]
    }
   ],
   "source": [
    "val_dataset = VOCSegmentationWithPIL(\n",
    "    root='src/data_val',\n",
    "    year='2012',\n",
    "    image_set='val',\n",
    "    download=True,\n",
    "    image_size=(224, 224)\n",
    ")\n",
    "\n",
    "val_loader = DataLoader(\n",
    "    val_dataset,\n",
    "    batch_size=8,\n",
    "    shuffle=False,\n",
    "    num_workers=2,\n",
    "    collate_fn=collate_fn_pil,\n",
    "    pin_memory=True\n",
    ")"
   ]
  },
  {
   "cell_type": "code",
   "execution_count": 6,
   "metadata": {},
   "outputs": [],
   "source": [
    "import torch.nn as nn\n",
    "import torch.nn.functional as F\n",
    "\n",
    "class UNetDecoder(nn.Module):\n",
    "    def __init__(self, in_channels=1024, num_classes=21):\n",
    "        super().__init__()\n",
    "\n",
    "        # Upsample from 16x16 -> 32x32 -> 64x64 -> 128x128 -> 224x224\n",
    "        self.up1 = self._upsample_block(in_channels, 512)\n",
    "        self.up2 = self._upsample_block(512, 256)\n",
    "        self.up3 = self._upsample_block(256, 128)\n",
    "        self.up4 = self._upsample_block(128, 64)\n",
    "\n",
    "        # Skip connections\n",
    "        self.skip_32 = nn.Conv2d(in_channels, 512, kernel_size=1)\n",
    "        self.skip_64 = nn.Conv2d(512, 256, kernel_size=1)\n",
    "        self.skip_128 = nn.Conv2d(256, 128, kernel_size=1)\n",
    "\n",
    "        # Final prediction layer\n",
    "        self.final_conv = nn.Conv2d(64, num_classes, kernel_size=1)\n",
    "\n",
    "        # Auxiliary outputs (for deeper supervision)\n",
    "        self.aux1_conv = nn.Conv2d(128, num_classes, kernel_size=1)  # from x3\n",
    "        self.aux2_conv = nn.Conv2d(64, num_classes, kernel_size=1)   # from x4    \n",
    "    \n",
    "    def _upsample_block(self, in_ch, out_ch):\n",
    "        return nn.Sequential(\n",
    "            nn.Upsample(scale_factor=2, mode='bilinear', align_corners=False),\n",
    "            nn.Conv2d(in_ch, out_ch, kernel_size=3, padding=1),\n",
    "            nn.BatchNorm2d(out_ch),\n",
    "            nn.ReLU(inplace=True),\n",
    "            nn.Dropout2d(p=0.2)  # just Added dropout to regularize because it was observed after 20 epoch it was overfitting\n",
    "        )\n",
    "\n",
    "    def forward(self, x):\n",
    "        # x: [B, 1024, 16, 16]\n",
    "\n",
    "        x1 = self.up1(x)  # 16 -> 32\n",
    "        skip_32 = F.interpolate(self.skip_32(x), size=x1.shape[2:], mode='bilinear', align_corners=False)\n",
    "        x1 = x1 + skip_32\n",
    "\n",
    "        x2 = self.up2(x1)  # 32 -> 64\n",
    "        skip_64 = F.interpolate(self.skip_64(x1), size=x2.shape[2:], mode='bilinear', align_corners=False)\n",
    "        x2 = x2 + skip_64\n",
    "\n",
    "        x3 = self.up3(x2)  # 64 -> 128\n",
    "        skip_128 = F.interpolate(self.skip_128(x2), size=x3.shape[2:], mode='bilinear', align_corners=False)\n",
    "        x3 = x3 + skip_128\n",
    "\n",
    "        x4 = self.up4(x3)  # 128 -> 256\n",
    "\n",
    "        # Main output\n",
    "        x_out = F.interpolate(x4, size=(224, 224), mode='bilinear', align_corners=False)\n",
    "        x_out = self.final_conv(x_out)\n",
    "\n",
    "        # Auxiliary outputs\n",
    "        aux1 = F.interpolate(self.aux1_conv(x3), size=(224, 224), mode='bilinear', align_corners=False)\n",
    "        aux2 = F.interpolate(self.aux2_conv(x4), size=(224, 224), mode='bilinear', align_corners=False)\n",
    "\n",
    "        return x_out, aux1, aux2"
   ]
  },
  {
   "cell_type": "code",
   "execution_count": 7,
   "id": "b2124208",
   "metadata": {},
   "outputs": [],
   "source": [
    "import torch\n",
    "from transformers import AutoImageProcessor, Dinov2Model"
   ]
  },
  {
   "cell_type": "code",
   "execution_count": 8,
   "id": "168e5479",
   "metadata": {},
   "outputs": [],
   "source": [
    "class DinoSegModel(nn.Module):\n",
    "    def __init__(self, freeze_dino=True, num_classes=21):\n",
    "        super().__init__()\n",
    "        self.dino = Dinov2Model.from_pretrained(\"facebook/dinov2-large\")\n",
    "        self.decoder = UNetDecoder(in_channels=1024, num_classes=num_classes)\n",
    "        \n",
    "\n",
    "        if freeze_dino:\n",
    "            # Step 1: Freeze all\n",
    "            for param in self.dino.parameters():\n",
    "                param.requires_grad = False\n",
    "\n",
    "            # Step 2: Unfreeze layers 18-23 explicitly\n",
    "            for i in range(22, 24):\n",
    "                for name, param in self.dino.named_parameters():\n",
    "                    if f\"encoder.layer.{i}.\" in name:\n",
    "                        param.requires_grad = True\n",
    "\n",
    "\n",
    "    def forward(self, pixel_values):  # Input: [B, 3, 224, 224]\n",
    "        feats = self.dino(pixel_values).last_hidden_state  # [B, 257, 1024]\n",
    "        feats = feats[:, 1:, :]  # remove CLS token\n",
    "        feats = feats.reshape(-1, 16, 16, 1024).permute(0, 3, 1, 2)  # [B, 1024, 16, 16]\n",
    "\n",
    "        x_out, aux1, aux2 = self.decoder(feats)\n",
    "        #x_out = self.decoder(feats)\n",
    "        return x_out, aux1, aux2"
   ]
  },
  {
   "cell_type": "code",
   "execution_count": 9,
   "id": "853c6ff2",
   "metadata": {},
   "outputs": [
    {
     "data": {
      "text/plain": [
       "(torch.Size([8, 19, 224, 224]),\n",
       " torch.Size([8, 19, 224, 224]),\n",
       " torch.Size([8, 19, 224, 224]))"
      ]
     },
     "execution_count": 9,
     "metadata": {},
     "output_type": "execute_result"
    }
   ],
   "source": [
    "rand = torch.rand(8, 3, 224, 224)\n",
    "model = DinoSegModel(freeze_dino=True, num_classes=19)\n",
    "op, ax1, ax2 = model(rand)\n",
    "op.shape, ax1.shape, ax2.shape"
   ]
  },
  {
   "cell_type": "code",
   "execution_count": 22,
   "id": "8527f7e0",
   "metadata": {},
   "outputs": [
    {
     "name": "stdout",
     "output_type": "stream",
     "text": [
      "Frozen: dino.embeddings.cls_token\n",
      "Frozen: dino.embeddings.mask_token\n",
      "Frozen: dino.embeddings.position_embeddings\n",
      "Frozen: dino.embeddings.patch_embeddings.projection.weight\n",
      "Frozen: dino.embeddings.patch_embeddings.projection.bias\n",
      "Frozen: dino.encoder.layer.0.norm1.weight\n",
      "Frozen: dino.encoder.layer.0.norm1.bias\n",
      "Frozen: dino.encoder.layer.0.attention.attention.query.weight\n",
      "Frozen: dino.encoder.layer.0.attention.attention.query.bias\n",
      "Frozen: dino.encoder.layer.0.attention.attention.key.weight\n",
      "Frozen: dino.encoder.layer.0.attention.attention.key.bias\n",
      "Frozen: dino.encoder.layer.0.attention.attention.value.weight\n",
      "Frozen: dino.encoder.layer.0.attention.attention.value.bias\n",
      "Frozen: dino.encoder.layer.0.attention.output.dense.weight\n",
      "Frozen: dino.encoder.layer.0.attention.output.dense.bias\n",
      "Frozen: dino.encoder.layer.0.layer_scale1.lambda1\n",
      "Frozen: dino.encoder.layer.0.norm2.weight\n",
      "Frozen: dino.encoder.layer.0.norm2.bias\n",
      "Frozen: dino.encoder.layer.0.mlp.fc1.weight\n",
      "Frozen: dino.encoder.layer.0.mlp.fc1.bias\n",
      "Frozen: dino.encoder.layer.0.mlp.fc2.weight\n",
      "Frozen: dino.encoder.layer.0.mlp.fc2.bias\n",
      "Frozen: dino.encoder.layer.0.layer_scale2.lambda1\n",
      "Frozen: dino.encoder.layer.1.norm1.weight\n",
      "Frozen: dino.encoder.layer.1.norm1.bias\n",
      "Frozen: dino.encoder.layer.1.attention.attention.query.weight\n",
      "Frozen: dino.encoder.layer.1.attention.attention.query.bias\n",
      "Frozen: dino.encoder.layer.1.attention.attention.key.weight\n",
      "Frozen: dino.encoder.layer.1.attention.attention.key.bias\n",
      "Frozen: dino.encoder.layer.1.attention.attention.value.weight\n",
      "Frozen: dino.encoder.layer.1.attention.attention.value.bias\n",
      "Frozen: dino.encoder.layer.1.attention.output.dense.weight\n",
      "Frozen: dino.encoder.layer.1.attention.output.dense.bias\n",
      "Frozen: dino.encoder.layer.1.layer_scale1.lambda1\n",
      "Frozen: dino.encoder.layer.1.norm2.weight\n",
      "Frozen: dino.encoder.layer.1.norm2.bias\n",
      "Frozen: dino.encoder.layer.1.mlp.fc1.weight\n",
      "Frozen: dino.encoder.layer.1.mlp.fc1.bias\n",
      "Frozen: dino.encoder.layer.1.mlp.fc2.weight\n",
      "Frozen: dino.encoder.layer.1.mlp.fc2.bias\n",
      "Frozen: dino.encoder.layer.1.layer_scale2.lambda1\n",
      "Frozen: dino.encoder.layer.2.norm1.weight\n",
      "Frozen: dino.encoder.layer.2.norm1.bias\n",
      "Frozen: dino.encoder.layer.2.attention.attention.query.weight\n",
      "Frozen: dino.encoder.layer.2.attention.attention.query.bias\n",
      "Frozen: dino.encoder.layer.2.attention.attention.key.weight\n",
      "Frozen: dino.encoder.layer.2.attention.attention.key.bias\n",
      "Frozen: dino.encoder.layer.2.attention.attention.value.weight\n",
      "Frozen: dino.encoder.layer.2.attention.attention.value.bias\n",
      "Frozen: dino.encoder.layer.2.attention.output.dense.weight\n",
      "Frozen: dino.encoder.layer.2.attention.output.dense.bias\n",
      "Frozen: dino.encoder.layer.2.layer_scale1.lambda1\n",
      "Frozen: dino.encoder.layer.2.norm2.weight\n",
      "Frozen: dino.encoder.layer.2.norm2.bias\n",
      "Frozen: dino.encoder.layer.2.mlp.fc1.weight\n",
      "Frozen: dino.encoder.layer.2.mlp.fc1.bias\n",
      "Frozen: dino.encoder.layer.2.mlp.fc2.weight\n",
      "Frozen: dino.encoder.layer.2.mlp.fc2.bias\n",
      "Frozen: dino.encoder.layer.2.layer_scale2.lambda1\n",
      "Frozen: dino.encoder.layer.3.norm1.weight\n",
      "Frozen: dino.encoder.layer.3.norm1.bias\n",
      "Frozen: dino.encoder.layer.3.attention.attention.query.weight\n",
      "Frozen: dino.encoder.layer.3.attention.attention.query.bias\n",
      "Frozen: dino.encoder.layer.3.attention.attention.key.weight\n",
      "Frozen: dino.encoder.layer.3.attention.attention.key.bias\n",
      "Frozen: dino.encoder.layer.3.attention.attention.value.weight\n",
      "Frozen: dino.encoder.layer.3.attention.attention.value.bias\n",
      "Frozen: dino.encoder.layer.3.attention.output.dense.weight\n",
      "Frozen: dino.encoder.layer.3.attention.output.dense.bias\n",
      "Frozen: dino.encoder.layer.3.layer_scale1.lambda1\n",
      "Frozen: dino.encoder.layer.3.norm2.weight\n",
      "Frozen: dino.encoder.layer.3.norm2.bias\n",
      "Frozen: dino.encoder.layer.3.mlp.fc1.weight\n",
      "Frozen: dino.encoder.layer.3.mlp.fc1.bias\n",
      "Frozen: dino.encoder.layer.3.mlp.fc2.weight\n",
      "Frozen: dino.encoder.layer.3.mlp.fc2.bias\n",
      "Frozen: dino.encoder.layer.3.layer_scale2.lambda1\n",
      "Frozen: dino.encoder.layer.4.norm1.weight\n",
      "Frozen: dino.encoder.layer.4.norm1.bias\n",
      "Frozen: dino.encoder.layer.4.attention.attention.query.weight\n",
      "Frozen: dino.encoder.layer.4.attention.attention.query.bias\n",
      "Frozen: dino.encoder.layer.4.attention.attention.key.weight\n",
      "Frozen: dino.encoder.layer.4.attention.attention.key.bias\n",
      "Frozen: dino.encoder.layer.4.attention.attention.value.weight\n",
      "Frozen: dino.encoder.layer.4.attention.attention.value.bias\n",
      "Frozen: dino.encoder.layer.4.attention.output.dense.weight\n",
      "Frozen: dino.encoder.layer.4.attention.output.dense.bias\n",
      "Frozen: dino.encoder.layer.4.layer_scale1.lambda1\n",
      "Frozen: dino.encoder.layer.4.norm2.weight\n",
      "Frozen: dino.encoder.layer.4.norm2.bias\n",
      "Frozen: dino.encoder.layer.4.mlp.fc1.weight\n",
      "Frozen: dino.encoder.layer.4.mlp.fc1.bias\n",
      "Frozen: dino.encoder.layer.4.mlp.fc2.weight\n",
      "Frozen: dino.encoder.layer.4.mlp.fc2.bias\n",
      "Frozen: dino.encoder.layer.4.layer_scale2.lambda1\n",
      "Frozen: dino.encoder.layer.5.norm1.weight\n",
      "Frozen: dino.encoder.layer.5.norm1.bias\n",
      "Frozen: dino.encoder.layer.5.attention.attention.query.weight\n",
      "Frozen: dino.encoder.layer.5.attention.attention.query.bias\n",
      "Frozen: dino.encoder.layer.5.attention.attention.key.weight\n",
      "Frozen: dino.encoder.layer.5.attention.attention.key.bias\n",
      "Frozen: dino.encoder.layer.5.attention.attention.value.weight\n",
      "Frozen: dino.encoder.layer.5.attention.attention.value.bias\n",
      "Frozen: dino.encoder.layer.5.attention.output.dense.weight\n",
      "Frozen: dino.encoder.layer.5.attention.output.dense.bias\n",
      "Frozen: dino.encoder.layer.5.layer_scale1.lambda1\n",
      "Frozen: dino.encoder.layer.5.norm2.weight\n",
      "Frozen: dino.encoder.layer.5.norm2.bias\n",
      "Frozen: dino.encoder.layer.5.mlp.fc1.weight\n",
      "Frozen: dino.encoder.layer.5.mlp.fc1.bias\n",
      "Frozen: dino.encoder.layer.5.mlp.fc2.weight\n",
      "Frozen: dino.encoder.layer.5.mlp.fc2.bias\n",
      "Frozen: dino.encoder.layer.5.layer_scale2.lambda1\n",
      "Frozen: dino.encoder.layer.6.norm1.weight\n",
      "Frozen: dino.encoder.layer.6.norm1.bias\n",
      "Frozen: dino.encoder.layer.6.attention.attention.query.weight\n",
      "Frozen: dino.encoder.layer.6.attention.attention.query.bias\n",
      "Frozen: dino.encoder.layer.6.attention.attention.key.weight\n",
      "Frozen: dino.encoder.layer.6.attention.attention.key.bias\n",
      "Frozen: dino.encoder.layer.6.attention.attention.value.weight\n",
      "Frozen: dino.encoder.layer.6.attention.attention.value.bias\n",
      "Frozen: dino.encoder.layer.6.attention.output.dense.weight\n",
      "Frozen: dino.encoder.layer.6.attention.output.dense.bias\n",
      "Frozen: dino.encoder.layer.6.layer_scale1.lambda1\n",
      "Frozen: dino.encoder.layer.6.norm2.weight\n",
      "Frozen: dino.encoder.layer.6.norm2.bias\n",
      "Frozen: dino.encoder.layer.6.mlp.fc1.weight\n",
      "Frozen: dino.encoder.layer.6.mlp.fc1.bias\n",
      "Frozen: dino.encoder.layer.6.mlp.fc2.weight\n",
      "Frozen: dino.encoder.layer.6.mlp.fc2.bias\n",
      "Frozen: dino.encoder.layer.6.layer_scale2.lambda1\n",
      "Frozen: dino.encoder.layer.7.norm1.weight\n",
      "Frozen: dino.encoder.layer.7.norm1.bias\n",
      "Frozen: dino.encoder.layer.7.attention.attention.query.weight\n",
      "Frozen: dino.encoder.layer.7.attention.attention.query.bias\n",
      "Frozen: dino.encoder.layer.7.attention.attention.key.weight\n",
      "Frozen: dino.encoder.layer.7.attention.attention.key.bias\n",
      "Frozen: dino.encoder.layer.7.attention.attention.value.weight\n",
      "Frozen: dino.encoder.layer.7.attention.attention.value.bias\n",
      "Frozen: dino.encoder.layer.7.attention.output.dense.weight\n",
      "Frozen: dino.encoder.layer.7.attention.output.dense.bias\n",
      "Frozen: dino.encoder.layer.7.layer_scale1.lambda1\n",
      "Frozen: dino.encoder.layer.7.norm2.weight\n",
      "Frozen: dino.encoder.layer.7.norm2.bias\n",
      "Frozen: dino.encoder.layer.7.mlp.fc1.weight\n",
      "Frozen: dino.encoder.layer.7.mlp.fc1.bias\n",
      "Frozen: dino.encoder.layer.7.mlp.fc2.weight\n",
      "Frozen: dino.encoder.layer.7.mlp.fc2.bias\n",
      "Frozen: dino.encoder.layer.7.layer_scale2.lambda1\n",
      "Frozen: dino.encoder.layer.8.norm1.weight\n",
      "Frozen: dino.encoder.layer.8.norm1.bias\n",
      "Frozen: dino.encoder.layer.8.attention.attention.query.weight\n",
      "Frozen: dino.encoder.layer.8.attention.attention.query.bias\n",
      "Frozen: dino.encoder.layer.8.attention.attention.key.weight\n",
      "Frozen: dino.encoder.layer.8.attention.attention.key.bias\n",
      "Frozen: dino.encoder.layer.8.attention.attention.value.weight\n",
      "Frozen: dino.encoder.layer.8.attention.attention.value.bias\n",
      "Frozen: dino.encoder.layer.8.attention.output.dense.weight\n",
      "Frozen: dino.encoder.layer.8.attention.output.dense.bias\n",
      "Frozen: dino.encoder.layer.8.layer_scale1.lambda1\n",
      "Frozen: dino.encoder.layer.8.norm2.weight\n",
      "Frozen: dino.encoder.layer.8.norm2.bias\n",
      "Frozen: dino.encoder.layer.8.mlp.fc1.weight\n",
      "Frozen: dino.encoder.layer.8.mlp.fc1.bias\n",
      "Frozen: dino.encoder.layer.8.mlp.fc2.weight\n",
      "Frozen: dino.encoder.layer.8.mlp.fc2.bias\n",
      "Frozen: dino.encoder.layer.8.layer_scale2.lambda1\n",
      "Frozen: dino.encoder.layer.9.norm1.weight\n",
      "Frozen: dino.encoder.layer.9.norm1.bias\n",
      "Frozen: dino.encoder.layer.9.attention.attention.query.weight\n",
      "Frozen: dino.encoder.layer.9.attention.attention.query.bias\n",
      "Frozen: dino.encoder.layer.9.attention.attention.key.weight\n",
      "Frozen: dino.encoder.layer.9.attention.attention.key.bias\n",
      "Frozen: dino.encoder.layer.9.attention.attention.value.weight\n",
      "Frozen: dino.encoder.layer.9.attention.attention.value.bias\n",
      "Frozen: dino.encoder.layer.9.attention.output.dense.weight\n",
      "Frozen: dino.encoder.layer.9.attention.output.dense.bias\n",
      "Frozen: dino.encoder.layer.9.layer_scale1.lambda1\n",
      "Frozen: dino.encoder.layer.9.norm2.weight\n",
      "Frozen: dino.encoder.layer.9.norm2.bias\n",
      "Frozen: dino.encoder.layer.9.mlp.fc1.weight\n",
      "Frozen: dino.encoder.layer.9.mlp.fc1.bias\n",
      "Frozen: dino.encoder.layer.9.mlp.fc2.weight\n",
      "Frozen: dino.encoder.layer.9.mlp.fc2.bias\n",
      "Frozen: dino.encoder.layer.9.layer_scale2.lambda1\n",
      "Frozen: dino.encoder.layer.10.norm1.weight\n",
      "Frozen: dino.encoder.layer.10.norm1.bias\n",
      "Frozen: dino.encoder.layer.10.attention.attention.query.weight\n",
      "Frozen: dino.encoder.layer.10.attention.attention.query.bias\n",
      "Frozen: dino.encoder.layer.10.attention.attention.key.weight\n",
      "Frozen: dino.encoder.layer.10.attention.attention.key.bias\n",
      "Frozen: dino.encoder.layer.10.attention.attention.value.weight\n",
      "Frozen: dino.encoder.layer.10.attention.attention.value.bias\n",
      "Frozen: dino.encoder.layer.10.attention.output.dense.weight\n",
      "Frozen: dino.encoder.layer.10.attention.output.dense.bias\n",
      "Frozen: dino.encoder.layer.10.layer_scale1.lambda1\n",
      "Frozen: dino.encoder.layer.10.norm2.weight\n",
      "Frozen: dino.encoder.layer.10.norm2.bias\n",
      "Frozen: dino.encoder.layer.10.mlp.fc1.weight\n",
      "Frozen: dino.encoder.layer.10.mlp.fc1.bias\n",
      "Frozen: dino.encoder.layer.10.mlp.fc2.weight\n",
      "Frozen: dino.encoder.layer.10.mlp.fc2.bias\n",
      "Frozen: dino.encoder.layer.10.layer_scale2.lambda1\n",
      "Frozen: dino.encoder.layer.11.norm1.weight\n",
      "Frozen: dino.encoder.layer.11.norm1.bias\n",
      "Frozen: dino.encoder.layer.11.attention.attention.query.weight\n",
      "Frozen: dino.encoder.layer.11.attention.attention.query.bias\n",
      "Frozen: dino.encoder.layer.11.attention.attention.key.weight\n",
      "Frozen: dino.encoder.layer.11.attention.attention.key.bias\n",
      "Frozen: dino.encoder.layer.11.attention.attention.value.weight\n",
      "Frozen: dino.encoder.layer.11.attention.attention.value.bias\n",
      "Frozen: dino.encoder.layer.11.attention.output.dense.weight\n",
      "Frozen: dino.encoder.layer.11.attention.output.dense.bias\n",
      "Frozen: dino.encoder.layer.11.layer_scale1.lambda1\n",
      "Frozen: dino.encoder.layer.11.norm2.weight\n",
      "Frozen: dino.encoder.layer.11.norm2.bias\n",
      "Frozen: dino.encoder.layer.11.mlp.fc1.weight\n",
      "Frozen: dino.encoder.layer.11.mlp.fc1.bias\n",
      "Frozen: dino.encoder.layer.11.mlp.fc2.weight\n",
      "Frozen: dino.encoder.layer.11.mlp.fc2.bias\n",
      "Frozen: dino.encoder.layer.11.layer_scale2.lambda1\n",
      "Frozen: dino.encoder.layer.12.norm1.weight\n",
      "Frozen: dino.encoder.layer.12.norm1.bias\n",
      "Frozen: dino.encoder.layer.12.attention.attention.query.weight\n",
      "Frozen: dino.encoder.layer.12.attention.attention.query.bias\n",
      "Frozen: dino.encoder.layer.12.attention.attention.key.weight\n",
      "Frozen: dino.encoder.layer.12.attention.attention.key.bias\n",
      "Frozen: dino.encoder.layer.12.attention.attention.value.weight\n",
      "Frozen: dino.encoder.layer.12.attention.attention.value.bias\n",
      "Frozen: dino.encoder.layer.12.attention.output.dense.weight\n",
      "Frozen: dino.encoder.layer.12.attention.output.dense.bias\n",
      "Frozen: dino.encoder.layer.12.layer_scale1.lambda1\n",
      "Frozen: dino.encoder.layer.12.norm2.weight\n",
      "Frozen: dino.encoder.layer.12.norm2.bias\n",
      "Frozen: dino.encoder.layer.12.mlp.fc1.weight\n",
      "Frozen: dino.encoder.layer.12.mlp.fc1.bias\n",
      "Frozen: dino.encoder.layer.12.mlp.fc2.weight\n",
      "Frozen: dino.encoder.layer.12.mlp.fc2.bias\n",
      "Frozen: dino.encoder.layer.12.layer_scale2.lambda1\n",
      "Frozen: dino.encoder.layer.13.norm1.weight\n",
      "Frozen: dino.encoder.layer.13.norm1.bias\n",
      "Frozen: dino.encoder.layer.13.attention.attention.query.weight\n",
      "Frozen: dino.encoder.layer.13.attention.attention.query.bias\n",
      "Frozen: dino.encoder.layer.13.attention.attention.key.weight\n",
      "Frozen: dino.encoder.layer.13.attention.attention.key.bias\n",
      "Frozen: dino.encoder.layer.13.attention.attention.value.weight\n",
      "Frozen: dino.encoder.layer.13.attention.attention.value.bias\n",
      "Frozen: dino.encoder.layer.13.attention.output.dense.weight\n",
      "Frozen: dino.encoder.layer.13.attention.output.dense.bias\n",
      "Frozen: dino.encoder.layer.13.layer_scale1.lambda1\n",
      "Frozen: dino.encoder.layer.13.norm2.weight\n",
      "Frozen: dino.encoder.layer.13.norm2.bias\n",
      "Frozen: dino.encoder.layer.13.mlp.fc1.weight\n",
      "Frozen: dino.encoder.layer.13.mlp.fc1.bias\n",
      "Frozen: dino.encoder.layer.13.mlp.fc2.weight\n",
      "Frozen: dino.encoder.layer.13.mlp.fc2.bias\n",
      "Frozen: dino.encoder.layer.13.layer_scale2.lambda1\n",
      "Frozen: dino.encoder.layer.14.norm1.weight\n",
      "Frozen: dino.encoder.layer.14.norm1.bias\n",
      "Frozen: dino.encoder.layer.14.attention.attention.query.weight\n",
      "Frozen: dino.encoder.layer.14.attention.attention.query.bias\n",
      "Frozen: dino.encoder.layer.14.attention.attention.key.weight\n",
      "Frozen: dino.encoder.layer.14.attention.attention.key.bias\n",
      "Frozen: dino.encoder.layer.14.attention.attention.value.weight\n",
      "Frozen: dino.encoder.layer.14.attention.attention.value.bias\n",
      "Frozen: dino.encoder.layer.14.attention.output.dense.weight\n",
      "Frozen: dino.encoder.layer.14.attention.output.dense.bias\n",
      "Frozen: dino.encoder.layer.14.layer_scale1.lambda1\n",
      "Frozen: dino.encoder.layer.14.norm2.weight\n",
      "Frozen: dino.encoder.layer.14.norm2.bias\n",
      "Frozen: dino.encoder.layer.14.mlp.fc1.weight\n",
      "Frozen: dino.encoder.layer.14.mlp.fc1.bias\n",
      "Frozen: dino.encoder.layer.14.mlp.fc2.weight\n",
      "Frozen: dino.encoder.layer.14.mlp.fc2.bias\n",
      "Frozen: dino.encoder.layer.14.layer_scale2.lambda1\n",
      "Frozen: dino.encoder.layer.15.norm1.weight\n",
      "Frozen: dino.encoder.layer.15.norm1.bias\n",
      "Frozen: dino.encoder.layer.15.attention.attention.query.weight\n",
      "Frozen: dino.encoder.layer.15.attention.attention.query.bias\n",
      "Frozen: dino.encoder.layer.15.attention.attention.key.weight\n",
      "Frozen: dino.encoder.layer.15.attention.attention.key.bias\n",
      "Frozen: dino.encoder.layer.15.attention.attention.value.weight\n",
      "Frozen: dino.encoder.layer.15.attention.attention.value.bias\n",
      "Frozen: dino.encoder.layer.15.attention.output.dense.weight\n",
      "Frozen: dino.encoder.layer.15.attention.output.dense.bias\n",
      "Frozen: dino.encoder.layer.15.layer_scale1.lambda1\n",
      "Frozen: dino.encoder.layer.15.norm2.weight\n",
      "Frozen: dino.encoder.layer.15.norm2.bias\n",
      "Frozen: dino.encoder.layer.15.mlp.fc1.weight\n",
      "Frozen: dino.encoder.layer.15.mlp.fc1.bias\n",
      "Frozen: dino.encoder.layer.15.mlp.fc2.weight\n",
      "Frozen: dino.encoder.layer.15.mlp.fc2.bias\n",
      "Frozen: dino.encoder.layer.15.layer_scale2.lambda1\n",
      "Frozen: dino.encoder.layer.16.norm1.weight\n",
      "Frozen: dino.encoder.layer.16.norm1.bias\n",
      "Frozen: dino.encoder.layer.16.attention.attention.query.weight\n",
      "Frozen: dino.encoder.layer.16.attention.attention.query.bias\n",
      "Frozen: dino.encoder.layer.16.attention.attention.key.weight\n",
      "Frozen: dino.encoder.layer.16.attention.attention.key.bias\n",
      "Frozen: dino.encoder.layer.16.attention.attention.value.weight\n",
      "Frozen: dino.encoder.layer.16.attention.attention.value.bias\n",
      "Frozen: dino.encoder.layer.16.attention.output.dense.weight\n",
      "Frozen: dino.encoder.layer.16.attention.output.dense.bias\n",
      "Frozen: dino.encoder.layer.16.layer_scale1.lambda1\n",
      "Frozen: dino.encoder.layer.16.norm2.weight\n",
      "Frozen: dino.encoder.layer.16.norm2.bias\n",
      "Frozen: dino.encoder.layer.16.mlp.fc1.weight\n",
      "Frozen: dino.encoder.layer.16.mlp.fc1.bias\n",
      "Frozen: dino.encoder.layer.16.mlp.fc2.weight\n",
      "Frozen: dino.encoder.layer.16.mlp.fc2.bias\n",
      "Frozen: dino.encoder.layer.16.layer_scale2.lambda1\n",
      "Frozen: dino.encoder.layer.17.norm1.weight\n",
      "Frozen: dino.encoder.layer.17.norm1.bias\n",
      "Frozen: dino.encoder.layer.17.attention.attention.query.weight\n",
      "Frozen: dino.encoder.layer.17.attention.attention.query.bias\n",
      "Frozen: dino.encoder.layer.17.attention.attention.key.weight\n",
      "Frozen: dino.encoder.layer.17.attention.attention.key.bias\n",
      "Frozen: dino.encoder.layer.17.attention.attention.value.weight\n",
      "Frozen: dino.encoder.layer.17.attention.attention.value.bias\n",
      "Frozen: dino.encoder.layer.17.attention.output.dense.weight\n",
      "Frozen: dino.encoder.layer.17.attention.output.dense.bias\n",
      "Frozen: dino.encoder.layer.17.layer_scale1.lambda1\n",
      "Frozen: dino.encoder.layer.17.norm2.weight\n",
      "Frozen: dino.encoder.layer.17.norm2.bias\n",
      "Frozen: dino.encoder.layer.17.mlp.fc1.weight\n",
      "Frozen: dino.encoder.layer.17.mlp.fc1.bias\n",
      "Frozen: dino.encoder.layer.17.mlp.fc2.weight\n",
      "Frozen: dino.encoder.layer.17.mlp.fc2.bias\n",
      "Frozen: dino.encoder.layer.17.layer_scale2.lambda1\n",
      "Frozen: dino.encoder.layer.18.norm1.weight\n",
      "Frozen: dino.encoder.layer.18.norm1.bias\n",
      "Frozen: dino.encoder.layer.18.attention.attention.query.weight\n",
      "Frozen: dino.encoder.layer.18.attention.attention.query.bias\n",
      "Frozen: dino.encoder.layer.18.attention.attention.key.weight\n",
      "Frozen: dino.encoder.layer.18.attention.attention.key.bias\n",
      "Frozen: dino.encoder.layer.18.attention.attention.value.weight\n",
      "Frozen: dino.encoder.layer.18.attention.attention.value.bias\n",
      "Frozen: dino.encoder.layer.18.attention.output.dense.weight\n",
      "Frozen: dino.encoder.layer.18.attention.output.dense.bias\n",
      "Frozen: dino.encoder.layer.18.layer_scale1.lambda1\n",
      "Frozen: dino.encoder.layer.18.norm2.weight\n",
      "Frozen: dino.encoder.layer.18.norm2.bias\n",
      "Frozen: dino.encoder.layer.18.mlp.fc1.weight\n",
      "Frozen: dino.encoder.layer.18.mlp.fc1.bias\n",
      "Frozen: dino.encoder.layer.18.mlp.fc2.weight\n",
      "Frozen: dino.encoder.layer.18.mlp.fc2.bias\n",
      "Frozen: dino.encoder.layer.18.layer_scale2.lambda1\n",
      "Frozen: dino.encoder.layer.19.norm1.weight\n",
      "Frozen: dino.encoder.layer.19.norm1.bias\n",
      "Frozen: dino.encoder.layer.19.attention.attention.query.weight\n",
      "Frozen: dino.encoder.layer.19.attention.attention.query.bias\n",
      "Frozen: dino.encoder.layer.19.attention.attention.key.weight\n",
      "Frozen: dino.encoder.layer.19.attention.attention.key.bias\n",
      "Frozen: dino.encoder.layer.19.attention.attention.value.weight\n",
      "Frozen: dino.encoder.layer.19.attention.attention.value.bias\n",
      "Frozen: dino.encoder.layer.19.attention.output.dense.weight\n",
      "Frozen: dino.encoder.layer.19.attention.output.dense.bias\n",
      "Frozen: dino.encoder.layer.19.layer_scale1.lambda1\n",
      "Frozen: dino.encoder.layer.19.norm2.weight\n",
      "Frozen: dino.encoder.layer.19.norm2.bias\n",
      "Frozen: dino.encoder.layer.19.mlp.fc1.weight\n",
      "Frozen: dino.encoder.layer.19.mlp.fc1.bias\n",
      "Frozen: dino.encoder.layer.19.mlp.fc2.weight\n",
      "Frozen: dino.encoder.layer.19.mlp.fc2.bias\n",
      "Frozen: dino.encoder.layer.19.layer_scale2.lambda1\n",
      "Frozen: dino.encoder.layer.20.norm1.weight\n",
      "Frozen: dino.encoder.layer.20.norm1.bias\n",
      "Frozen: dino.encoder.layer.20.attention.attention.query.weight\n",
      "Frozen: dino.encoder.layer.20.attention.attention.query.bias\n",
      "Frozen: dino.encoder.layer.20.attention.attention.key.weight\n",
      "Frozen: dino.encoder.layer.20.attention.attention.key.bias\n",
      "Frozen: dino.encoder.layer.20.attention.attention.value.weight\n",
      "Frozen: dino.encoder.layer.20.attention.attention.value.bias\n",
      "Frozen: dino.encoder.layer.20.attention.output.dense.weight\n",
      "Frozen: dino.encoder.layer.20.attention.output.dense.bias\n",
      "Frozen: dino.encoder.layer.20.layer_scale1.lambda1\n",
      "Frozen: dino.encoder.layer.20.norm2.weight\n",
      "Frozen: dino.encoder.layer.20.norm2.bias\n",
      "Frozen: dino.encoder.layer.20.mlp.fc1.weight\n",
      "Frozen: dino.encoder.layer.20.mlp.fc1.bias\n",
      "Frozen: dino.encoder.layer.20.mlp.fc2.weight\n",
      "Frozen: dino.encoder.layer.20.mlp.fc2.bias\n",
      "Frozen: dino.encoder.layer.20.layer_scale2.lambda1\n",
      "Frozen: dino.encoder.layer.21.norm1.weight\n",
      "Frozen: dino.encoder.layer.21.norm1.bias\n",
      "Frozen: dino.encoder.layer.21.attention.attention.query.weight\n",
      "Frozen: dino.encoder.layer.21.attention.attention.query.bias\n",
      "Frozen: dino.encoder.layer.21.attention.attention.key.weight\n",
      "Frozen: dino.encoder.layer.21.attention.attention.key.bias\n",
      "Frozen: dino.encoder.layer.21.attention.attention.value.weight\n",
      "Frozen: dino.encoder.layer.21.attention.attention.value.bias\n",
      "Frozen: dino.encoder.layer.21.attention.output.dense.weight\n",
      "Frozen: dino.encoder.layer.21.attention.output.dense.bias\n",
      "Frozen: dino.encoder.layer.21.layer_scale1.lambda1\n",
      "Frozen: dino.encoder.layer.21.norm2.weight\n",
      "Frozen: dino.encoder.layer.21.norm2.bias\n",
      "Frozen: dino.encoder.layer.21.mlp.fc1.weight\n",
      "Frozen: dino.encoder.layer.21.mlp.fc1.bias\n",
      "Frozen: dino.encoder.layer.21.mlp.fc2.weight\n",
      "Frozen: dino.encoder.layer.21.mlp.fc2.bias\n",
      "Frozen: dino.encoder.layer.21.layer_scale2.lambda1\n",
      "Trainable: dino.encoder.layer.22.norm1.weight\n",
      "Trainable: dino.encoder.layer.22.norm1.bias\n",
      "Trainable: dino.encoder.layer.22.attention.attention.query.weight\n",
      "Trainable: dino.encoder.layer.22.attention.attention.query.bias\n",
      "Trainable: dino.encoder.layer.22.attention.attention.key.weight\n",
      "Trainable: dino.encoder.layer.22.attention.attention.key.bias\n",
      "Trainable: dino.encoder.layer.22.attention.attention.value.weight\n",
      "Trainable: dino.encoder.layer.22.attention.attention.value.bias\n",
      "Trainable: dino.encoder.layer.22.attention.output.dense.weight\n",
      "Trainable: dino.encoder.layer.22.attention.output.dense.bias\n",
      "Trainable: dino.encoder.layer.22.layer_scale1.lambda1\n",
      "Trainable: dino.encoder.layer.22.norm2.weight\n",
      "Trainable: dino.encoder.layer.22.norm2.bias\n",
      "Trainable: dino.encoder.layer.22.mlp.fc1.weight\n",
      "Trainable: dino.encoder.layer.22.mlp.fc1.bias\n",
      "Trainable: dino.encoder.layer.22.mlp.fc2.weight\n",
      "Trainable: dino.encoder.layer.22.mlp.fc2.bias\n",
      "Trainable: dino.encoder.layer.22.layer_scale2.lambda1\n",
      "Trainable: dino.encoder.layer.23.norm1.weight\n",
      "Trainable: dino.encoder.layer.23.norm1.bias\n",
      "Trainable: dino.encoder.layer.23.attention.attention.query.weight\n",
      "Trainable: dino.encoder.layer.23.attention.attention.query.bias\n",
      "Trainable: dino.encoder.layer.23.attention.attention.key.weight\n",
      "Trainable: dino.encoder.layer.23.attention.attention.key.bias\n",
      "Trainable: dino.encoder.layer.23.attention.attention.value.weight\n",
      "Trainable: dino.encoder.layer.23.attention.attention.value.bias\n",
      "Trainable: dino.encoder.layer.23.attention.output.dense.weight\n",
      "Trainable: dino.encoder.layer.23.attention.output.dense.bias\n",
      "Trainable: dino.encoder.layer.23.layer_scale1.lambda1\n",
      "Trainable: dino.encoder.layer.23.norm2.weight\n",
      "Trainable: dino.encoder.layer.23.norm2.bias\n",
      "Trainable: dino.encoder.layer.23.mlp.fc1.weight\n",
      "Trainable: dino.encoder.layer.23.mlp.fc1.bias\n",
      "Trainable: dino.encoder.layer.23.mlp.fc2.weight\n",
      "Trainable: dino.encoder.layer.23.mlp.fc2.bias\n",
      "Trainable: dino.encoder.layer.23.layer_scale2.lambda1\n",
      "Frozen: dino.layernorm.weight\n",
      "Frozen: dino.layernorm.bias\n",
      "Trainable: decoder.up1.1.weight\n",
      "Trainable: decoder.up1.1.bias\n",
      "Trainable: decoder.up1.2.weight\n",
      "Trainable: decoder.up1.2.bias\n",
      "Trainable: decoder.up2.1.weight\n",
      "Trainable: decoder.up2.1.bias\n",
      "Trainable: decoder.up2.2.weight\n",
      "Trainable: decoder.up2.2.bias\n",
      "Trainable: decoder.up3.1.weight\n",
      "Trainable: decoder.up3.1.bias\n",
      "Trainable: decoder.up3.2.weight\n",
      "Trainable: decoder.up3.2.bias\n",
      "Trainable: decoder.up4.1.weight\n",
      "Trainable: decoder.up4.1.bias\n",
      "Trainable: decoder.up4.2.weight\n",
      "Trainable: decoder.up4.2.bias\n",
      "Trainable: decoder.skip_32.weight\n",
      "Trainable: decoder.skip_32.bias\n",
      "Trainable: decoder.skip_64.weight\n",
      "Trainable: decoder.skip_64.bias\n",
      "Trainable: decoder.skip_128.weight\n",
      "Trainable: decoder.skip_128.bias\n",
      "Trainable: decoder.final_conv.weight\n",
      "Trainable: decoder.final_conv.bias\n",
      "Trainable: decoder.aux1_conv.weight\n",
      "Trainable: decoder.aux1_conv.bias\n",
      "Trainable: decoder.aux2_conv.weight\n",
      "Trainable: decoder.aux2_conv.bias\n"
     ]
    }
   ],
   "source": [
    "# model = DinoSegModel()\n",
    "for name, param in model.named_parameters():\n",
    "    if param.requires_grad:\n",
    "        print(f\"Trainable: {name}\")\n",
    "    else:\n",
    "        print(f\"Frozen: {name}\")"
   ]
  },
  {
   "cell_type": "code",
   "execution_count": null,
   "id": "153a2944",
   "metadata": {},
   "outputs": [],
   "source": [
    "# import torch\n",
    "# import torch.nn as nn\n",
    "# import torch.nn.functional as F\n",
    "# from transformers import Dinov2Model\n",
    "\n",
    "\n",
    "# class SimplePixelDecoder(nn.Module):\n",
    "#     \"\"\"\n",
    "#     A simplified version of Mask2Former's pixel decoder.\n",
    "#     Converts DINO features into multi-scale features for the transformer decoder.\n",
    "#     \"\"\"\n",
    "#     def __init__(self, in_channels=1024, embed_dim=256):\n",
    "#         super().__init__()\n",
    "#         self.proj = nn.Conv2d(in_channels, embed_dim, kernel_size=1)\n",
    "#         self.out_norm = nn.BatchNorm2d(embed_dim)\n",
    "\n",
    "#     def forward(self, x):\n",
    "#         # x: [B, 1024, 16, 16] -> [B, 256, 16, 16]\n",
    "#         x = self.proj(x)\n",
    "#         x = self.out_norm(x)\n",
    "#         return x\n",
    "\n",
    "\n",
    "# class TransformerDecoder(nn.Module):\n",
    "#     \"\"\"\n",
    "#     A simplified transformer decoder for segmentation.\n",
    "#     Inspired by Mask2Former: takes features and learns query embeddings to predict masks.\n",
    "#     \"\"\"\n",
    "#     def __init__(self, embed_dim=256, num_queries=100, num_classes=21):\n",
    "#         super().__init__()\n",
    "#         self.query_embed = nn.Embedding(num_queries, embed_dim)\n",
    "#         self.transformer_decoder_layer = nn.TransformerDecoderLayer(embed_dim, nhead=8, dim_feedforward=1024)\n",
    "#         self.transformer_decoder = nn.TransformerDecoder(self.transformer_decoder_layer, num_layers=6)\n",
    "#         self.class_embed = nn.Linear(embed_dim, num_classes)\n",
    "#         self.mask_embed = nn.Sequential(\n",
    "#             nn.Linear(embed_dim, embed_dim),\n",
    "#             nn.ReLU(),\n",
    "#             nn.Linear(embed_dim, embed_dim)\n",
    "#         )\n",
    "\n",
    "#     def forward(self, x):\n",
    "#         # x: [B, C, H, W] -> [B, HW, C]\n",
    "#         B, C, H, W = x.shape\n",
    "#         x_flat = x.flatten(2).permute(2, 0, 1)  # [HW, B, C]\n",
    "#         query_embed = self.query_embed.weight.unsqueeze(1).repeat(1, B, 1)  # [num_queries, B, C]\n",
    "\n",
    "#         tgt = torch.zeros_like(query_embed)  # [num_queries, B, C]\n",
    "#         hs = self.transformer_decoder(tgt, x_flat)  # [num_queries, B, C]\n",
    "\n",
    "#         hs = hs.transpose(0, 1)  # [B, num_queries, C]\n",
    "#         class_logits = self.class_embed(hs)  # [B, num_queries, num_classes]\n",
    "#         mask_embed = self.mask_embed(hs)  # [B, num_queries, C]\n",
    "\n",
    "#         # Predict masks: linear projection to per-pixel mask logits\n",
    "#         masks = torch.einsum(\"bqc, bchw -> bqhw\", mask_embed, x)\n",
    "\n",
    "#         return class_logits, masks\n",
    "\n",
    "\n",
    "# class DINO_Mask2Former_Segmentation(nn.Module):\n",
    "#     def __init__(self, num_classes=21, freeze_dino=True):\n",
    "#         super().__init__()\n",
    "#         self.dino = Dinov2Model.from_pretrained(\"facebook/dinov2-large\")\n",
    "#         self.pixel_decoder = SimplePixelDecoder(in_channels=1024, embed_dim=256)\n",
    "#         self.transformer_decoder = TransformerDecoder(embed_dim=256, num_queries=100, num_classes=num_classes)\n",
    "\n",
    "#         if freeze_dino:\n",
    "#             for param in self.dino.parameters():\n",
    "#                 param.requires_grad = False\n",
    "#             for name, param in self.dino.named_parameters():\n",
    "#                 if any(f\"blocks.{i}\" in name for i in range(18, 24)):\n",
    "#                     param.requires_grad = True\n",
    "\n",
    "#     def forward(self, pixel_values):\n",
    "#         # pixel_values: [B, 3, 224, 224]\n",
    "#         feats = self.dino(pixel_values).last_hidden_state  # [B, 257, 1024]\n",
    "#         feats = feats[:, 1:, :].reshape(-1, 16, 16, 1024).permute(0, 3, 1, 2)  # [B, 1024, 16, 16]\n",
    "\n",
    "#         pixel_feats = self.pixel_decoder(feats)  # [B, 256, 16, 16]\n",
    "#         class_logits, masks = self.transformer_decoder(pixel_feats)  # logits: [B, Q, C], masks: [B, Q, H, W]\n",
    "\n",
    "#         return {\n",
    "#             \"class_logits\": class_logits,  # For classification loss (cross-entropy)\n",
    "#             \"masks\": masks                # For mask loss (e.g., BCE or dice)\n",
    "#         }\n",
    "\n"
   ]
  },
  {
   "cell_type": "code",
   "execution_count": 10,
   "id": "c0208f56",
   "metadata": {},
   "outputs": [],
   "source": [
    "device = torch.device('cuda' if torch.cuda.is_available() else 'cpu')"
   ]
  },
  {
   "cell_type": "markdown",
   "id": "58a94f3b",
   "metadata": {},
   "source": [
    "### With checkpoints"
   ]
  },
  {
   "cell_type": "code",
   "execution_count": null,
   "id": "cb758271",
   "metadata": {},
   "outputs": [],
   "source": [
    "# from src.lovasz_losses import lovasz_softmax\n",
    "# def hybrid_loss_fn(logits, target, ignore_index=255):\n",
    "#     ce = F.cross_entropy(logits, target, ignore_index=ignore_index)\n",
    "#     lv = lovasz_softmax(logits, target, ignore=ignore_index)\n",
    "#     return ce + lv"
   ]
  },
  {
   "cell_type": "code",
   "execution_count": 26,
   "id": "9ed5c854",
   "metadata": {},
   "outputs": [
    {
     "name": "stdout",
     "output_type": "stream",
     "text": [
      "Resumed training from checkpoint at epoch 30\n"
     ]
    },
    {
     "name": "stderr",
     "output_type": "stream",
     "text": [
      "Epoch 31/50: 100%|██████████| 183/183 [00:27<00:00,  6.57it/s, loss=0.036] \n"
     ]
    },
    {
     "name": "stdout",
     "output_type": "stream",
     "text": [
      "Checkpoint saved at epoch 31\n"
     ]
    },
    {
     "name": "stderr",
     "output_type": "stream",
     "text": [
      "Epoch 32/50: 100%|██████████| 183/183 [00:27<00:00,  6.56it/s, loss=0.0593]\n"
     ]
    },
    {
     "name": "stdout",
     "output_type": "stream",
     "text": [
      "Checkpoint saved at epoch 32\n"
     ]
    },
    {
     "name": "stderr",
     "output_type": "stream",
     "text": [
      "Epoch 33/50: 100%|██████████| 183/183 [00:27<00:00,  6.56it/s, loss=0.137] \n"
     ]
    },
    {
     "name": "stdout",
     "output_type": "stream",
     "text": [
      "Checkpoint saved at epoch 33\n"
     ]
    },
    {
     "name": "stderr",
     "output_type": "stream",
     "text": [
      "Epoch 34/50: 100%|██████████| 183/183 [00:27<00:00,  6.57it/s, loss=0.0862]\n"
     ]
    },
    {
     "name": "stdout",
     "output_type": "stream",
     "text": [
      "Checkpoint saved at epoch 34\n"
     ]
    },
    {
     "name": "stderr",
     "output_type": "stream",
     "text": [
      "Epoch 35/50: 100%|██████████| 183/183 [00:27<00:00,  6.57it/s, loss=0.0931]\n"
     ]
    },
    {
     "name": "stdout",
     "output_type": "stream",
     "text": [
      "Checkpoint saved at epoch 35\n"
     ]
    },
    {
     "name": "stderr",
     "output_type": "stream",
     "text": [
      "Epoch 36/50: 100%|██████████| 183/183 [00:27<00:00,  6.54it/s, loss=0.0643]\n"
     ]
    },
    {
     "name": "stdout",
     "output_type": "stream",
     "text": [
      "Checkpoint saved at epoch 36\n"
     ]
    },
    {
     "name": "stderr",
     "output_type": "stream",
     "text": [
      "Epoch 37/50: 100%|██████████| 183/183 [00:28<00:00,  6.52it/s, loss=0.0592]\n"
     ]
    },
    {
     "name": "stdout",
     "output_type": "stream",
     "text": [
      "Checkpoint saved at epoch 37\n"
     ]
    },
    {
     "name": "stderr",
     "output_type": "stream",
     "text": [
      "Epoch 38/50: 100%|██████████| 183/183 [00:28<00:00,  6.52it/s, loss=0.0779]\n"
     ]
    },
    {
     "name": "stdout",
     "output_type": "stream",
     "text": [
      "Checkpoint saved at epoch 38\n"
     ]
    },
    {
     "name": "stderr",
     "output_type": "stream",
     "text": [
      "Epoch 39/50: 100%|██████████| 183/183 [00:28<00:00,  6.53it/s, loss=0.0394]\n"
     ]
    },
    {
     "name": "stdout",
     "output_type": "stream",
     "text": [
      "Checkpoint saved at epoch 39\n"
     ]
    },
    {
     "name": "stderr",
     "output_type": "stream",
     "text": [
      "Epoch 40/50: 100%|██████████| 183/183 [00:28<00:00,  6.50it/s, loss=0.049] \n",
      "Validation Epoch 40: 100%|██████████| 182/182 [00:25<00:00,  7.08it/s, val_loss=0.0458]\n"
     ]
    },
    {
     "name": "stdout",
     "output_type": "stream",
     "text": [
      "Epoch 40 | Train Loss: 0.0641 | Val Loss: 0.2968 | Val mIoU: 0.8275\n",
      "Checkpoint saved at epoch 40\n"
     ]
    },
    {
     "name": "stderr",
     "output_type": "stream",
     "text": [
      "Epoch 41/50: 100%|██████████| 183/183 [00:28<00:00,  6.51it/s, loss=0.0432]\n"
     ]
    },
    {
     "name": "stdout",
     "output_type": "stream",
     "text": [
      "Checkpoint saved at epoch 41\n"
     ]
    },
    {
     "name": "stderr",
     "output_type": "stream",
     "text": [
      "Epoch 42/50: 100%|██████████| 183/183 [00:28<00:00,  6.51it/s, loss=0.0459]\n"
     ]
    },
    {
     "name": "stdout",
     "output_type": "stream",
     "text": [
      "Checkpoint saved at epoch 42\n"
     ]
    },
    {
     "name": "stderr",
     "output_type": "stream",
     "text": [
      "Epoch 43/50: 100%|██████████| 183/183 [00:28<00:00,  6.54it/s, loss=0.0373]\n"
     ]
    },
    {
     "name": "stdout",
     "output_type": "stream",
     "text": [
      "Checkpoint saved at epoch 43\n"
     ]
    },
    {
     "name": "stderr",
     "output_type": "stream",
     "text": [
      "Epoch 44/50: 100%|██████████| 183/183 [00:28<00:00,  6.54it/s, loss=0.0754]\n"
     ]
    },
    {
     "name": "stdout",
     "output_type": "stream",
     "text": [
      "Checkpoint saved at epoch 44\n"
     ]
    },
    {
     "name": "stderr",
     "output_type": "stream",
     "text": [
      "Epoch 45/50: 100%|██████████| 183/183 [00:28<00:00,  6.54it/s, loss=0.0425]\n"
     ]
    },
    {
     "name": "stdout",
     "output_type": "stream",
     "text": [
      "Checkpoint saved at epoch 45\n"
     ]
    },
    {
     "name": "stderr",
     "output_type": "stream",
     "text": [
      "Epoch 46/50: 100%|██████████| 183/183 [00:28<00:00,  6.53it/s, loss=0.0246]\n"
     ]
    },
    {
     "name": "stdout",
     "output_type": "stream",
     "text": [
      "Checkpoint saved at epoch 46\n"
     ]
    },
    {
     "name": "stderr",
     "output_type": "stream",
     "text": [
      "Epoch 47/50: 100%|██████████| 183/183 [00:28<00:00,  6.53it/s, loss=0.19]  \n"
     ]
    },
    {
     "name": "stdout",
     "output_type": "stream",
     "text": [
      "Checkpoint saved at epoch 47\n"
     ]
    },
    {
     "name": "stderr",
     "output_type": "stream",
     "text": [
      "Epoch 48/50: 100%|██████████| 183/183 [00:28<00:00,  6.53it/s, loss=0.0943]\n"
     ]
    },
    {
     "name": "stdout",
     "output_type": "stream",
     "text": [
      "Checkpoint saved at epoch 48\n"
     ]
    },
    {
     "name": "stderr",
     "output_type": "stream",
     "text": [
      "Epoch 49/50: 100%|██████████| 183/183 [00:28<00:00,  6.51it/s, loss=0.0232]\n"
     ]
    },
    {
     "name": "stdout",
     "output_type": "stream",
     "text": [
      "Checkpoint saved at epoch 49\n"
     ]
    },
    {
     "name": "stderr",
     "output_type": "stream",
     "text": [
      "Epoch 50/50: 100%|██████████| 183/183 [00:28<00:00,  6.50it/s, loss=0.029] \n",
      "Validation Epoch 50: 100%|██████████| 182/182 [00:25<00:00,  7.09it/s, val_loss=0.0347]\n"
     ]
    },
    {
     "name": "stdout",
     "output_type": "stream",
     "text": [
      "Epoch 50 | Train Loss: 0.0484 | Val Loss: 0.2915 | Val mIoU: 0.8329\n",
      "Checkpoint saved at epoch 50\n"
     ]
    }
   ],
   "source": [
    "import torch.nn as nn\n",
    "import torch.optim as optim\n",
    "from torchmetrics.classification import MulticlassJaccardIndex\n",
    "import matplotlib.pyplot as plt\n",
    "from tqdm import tqdm\n",
    "import os\n",
    "\n",
    "# ------------------ Setup ------------------\n",
    "num_classes = 21\n",
    "ignore_index = 255\n",
    "device = torch.device(\"cuda\" if torch.cuda.is_available() else \"cpu\")\n",
    "\n",
    "# Model\n",
    "model = DinoSegModel(freeze_dino=True).to(device)\n",
    "image_processor = AutoImageProcessor.from_pretrained(\"facebook/dinov2-large\")\n",
    "\n",
    "# Loss, Optimizer, Scheduler\n",
    "criterion = nn.CrossEntropyLoss(ignore_index=ignore_index)\n",
    "\n",
    "# from src.lovasz_losses import lovasz_softmax\n",
    "# def lovasz_loss_fn(logits, targets):\n",
    "#     return lovasz_softmax(logits, targets, ignore=255)\n",
    "# criterion = lovasz_loss_fn\n",
    "\n",
    "#criterion = hybrid_loss_fn\n",
    "\n",
    "optimizer = optim.Adam(filter(lambda p: p.requires_grad, model.parameters()), lr=1e-4)\n",
    "scheduler = optim.lr_scheduler.ReduceLROnPlateau(optimizer, mode='min', factor=0.5, patience=2, verbose=True)\n",
    "\n",
    "# Metric\n",
    "miou_metric = MulticlassJaccardIndex(num_classes=num_classes, ignore_index=ignore_index).to(device)\n",
    "\n",
    "# Training config\n",
    "num_epochs = 50\n",
    "train_losses, val_losses, val_ious = [], [], []\n",
    "\n",
    "# Paths\n",
    "best_model_path = \"best_model.pth\"\n",
    "checkpoint_path = \"last_checkpoint.pth\"\n",
    "best_val_loss = float('inf')\n",
    "start_epoch = 0\n",
    "\n",
    "# ------------------ Load from Checkpoint (if exists) ------------------\n",
    "if os.path.exists(checkpoint_path):\n",
    "    checkpoint = torch.load(checkpoint_path)\n",
    "    model.load_state_dict(checkpoint['model_state_dict'])\n",
    "    optimizer.load_state_dict(checkpoint['optimizer_state_dict'])\n",
    "    scheduler.load_state_dict(checkpoint['scheduler_state_dict'])\n",
    "    start_epoch = checkpoint['epoch'] + 1\n",
    "    best_val_loss = checkpoint['best_val_loss']\n",
    "    print(f\"Resumed training from checkpoint at epoch {start_epoch}\")\n",
    "\n",
    "# ------------------ Validation ------------------\n",
    "def evaluate(model, loader, criterion, image_processor, device, epoch):\n",
    "    model.eval()\n",
    "    val_loss = 0.0\n",
    "    miou_metric.reset()\n",
    "    save_dir = os.path.join(\"val_preds_kitto\", f\"epoch_{epoch+1}\")\n",
    "    os.makedirs(save_dir, exist_ok=True)\n",
    "\n",
    "    with torch.no_grad():\n",
    "        val_loop = tqdm(loader, desc=f\"Validation Epoch {epoch+1}\")\n",
    "        for step, (images, masks) in enumerate(val_loop):\n",
    "            #inputs = image_processor(images, return_tensors='pt').to(device)\n",
    "\n",
    "            inputs = torch.stack([T.ToTensor()(img) for img in images]).to(device)\n",
    "            inputs = T.Normalize(mean=[0.5]*3, std=[0.5]*3)(inputs)\n",
    "\n",
    "            masks = masks.to(device)\n",
    "            \n",
    "            #outputs, _, _ = model(inputs.pixel_values)\n",
    "            # outputs, _, _ = model(inputs)\n",
    "            # loss = criterion(outputs, masks)\n",
    "            \n",
    "            #out, aux1, aux2 = model(inputs.pixel_values) # if using AutoImageProcessor of DINO\n",
    "            out, aux1, aux2 = model(inputs)\n",
    "            main_loss = criterion(out, masks)\n",
    "            aux_loss1 = criterion(aux1, F.interpolate(masks.unsqueeze(1).float(), size=aux1.shape[2:], mode='nearest').squeeze(1).long())\n",
    "            aux_loss2 = criterion(aux2, F.interpolate(masks.unsqueeze(1).float(), size=aux2.shape[2:], mode='nearest').squeeze(1).long())\n",
    "            loss = main_loss + 0.4 * aux_loss1 + 0.4 * aux_loss2\n",
    "        \n",
    "            val_loss += loss.item()\n",
    "            val_loop.set_postfix(val_loss=loss.item())\n",
    "\n",
    "            #preds = outputs.argmax(dim=1)\n",
    "            preds = out.argmax(dim=1)\n",
    "            miou_metric.update(preds, masks)\n",
    "\n",
    "            # Save every sample in the batch\n",
    "            for i in range(len(images)):\n",
    "                #image_np = images[i]\n",
    "                mask_np = masks[i].cpu().numpy()\n",
    "                pred_np = preds[i].cpu().numpy()\n",
    "\n",
    "                #plt.imsave(os.path.join(save_dir, f\"image_{step}_{i}.jpg\"), image_np)\n",
    "                plt.imsave(os.path.join(save_dir, f\"gt_{step}_{i}.png\"), mask_np, cmap='nipy_spectral')\n",
    "                plt.imsave(os.path.join(save_dir, f\"pred_{step}_{i}.png\"), pred_np, cmap='nipy_spectral')\n",
    "\n",
    "    return val_loss / len(loader), miou_metric.compute().item()\n",
    "\n",
    "# ------------------ Training Loop ------------------\n",
    "for epoch in range(start_epoch, num_epochs):\n",
    "    model.train()\n",
    "    train_loss = 0.0\n",
    "    loop = tqdm(train_loader, desc=f\"Epoch {epoch+1}/{num_epochs}\")\n",
    "\n",
    "    for images, masks in loop:\n",
    "        #inputs = image_processor(images, return_tensors='pt').to(device)\n",
    "        \n",
    "        inputs = torch.stack([T.ToTensor()(img) for img in images]).to(device)\n",
    "        inputs = T.Normalize(mean=[0.5]*3, std=[0.5]*3)(inputs)\n",
    "        \n",
    "        masks = masks.to(device)\n",
    "\n",
    "        #outputs, _, _ = model(inputs.pixel_values)\n",
    "        # outputs, _, _ = model(inputs)\n",
    "        # loss = criterion(outputs, masks)\n",
    "        \n",
    "        #out, aux1, aux2 = model(inputs.pixel_values)\n",
    "        out, aux1, aux2 = model(inputs)\n",
    "        main_loss = criterion(out, masks)\n",
    "        aux_loss1 = criterion(aux1, F.interpolate(masks.unsqueeze(1).float(), size=aux1.shape[2:], mode='nearest').squeeze(1).long())\n",
    "        aux_loss2 = criterion(aux2, F.interpolate(masks.unsqueeze(1).float(), size=aux2.shape[2:], mode='nearest').squeeze(1).long())\n",
    "        loss = main_loss + 0.4 * aux_loss1 + 0.4 * aux_loss2\n",
    "        \n",
    "        \n",
    "        optimizer.zero_grad()\n",
    "        loss.backward()\n",
    "        optimizer.step()\n",
    "\n",
    "        train_loss += loss.item()\n",
    "        loop.set_postfix(loss=loss.item())\n",
    "\n",
    "    avg_train_loss = train_loss / len(train_loader)\n",
    "    train_losses.append(avg_train_loss)\n",
    "\n",
    "    # Evaluate only every 10 epochs\n",
    "    if (epoch + 1) % 10 == 0:\n",
    "        avg_val_loss, val_miou = evaluate(model, val_loader, criterion, image_processor, device, epoch)\n",
    "        scheduler.step(avg_val_loss)\n",
    "        val_losses.append(avg_val_loss)\n",
    "        val_ious.append(val_miou)\n",
    "\n",
    "        print(f\"Epoch {epoch+1} | Train Loss: {avg_train_loss:.4f} | Val Loss: {avg_val_loss:.4f} | Val mIoU: {val_miou:.4f}\")\n",
    "\n",
    "        # Save best model\n",
    "        if avg_val_loss < best_val_loss:\n",
    "            best_val_loss = avg_val_loss\n",
    "            torch.save(model.state_dict(), best_model_path)\n",
    "            print(f\"Saved best model at epoch {epoch+1} with val loss {avg_val_loss:.4f}\")\n",
    "    else:\n",
    "        val_losses.append(None)\n",
    "        val_ious.append(None)\n",
    "\n",
    "    # Save checkpoint every epoch\n",
    "    checkpoint = {\n",
    "        'epoch': epoch,\n",
    "        'model_state_dict': model.state_dict(),\n",
    "        'optimizer_state_dict': optimizer.state_dict(),\n",
    "        'scheduler_state_dict': scheduler.state_dict(),\n",
    "        'best_val_loss': best_val_loss\n",
    "    }\n",
    "    torch.save(checkpoint, checkpoint_path)\n",
    "    print(f\"Checkpoint saved at epoch {epoch+1}\")\n"
   ]
  },
  {
   "cell_type": "code",
   "execution_count": 30,
   "id": "ef69bf37",
   "metadata": {},
   "outputs": [],
   "source": [
    "#from torchinfo import summary\n",
    "\n",
    "# Print the model architecture and parameter summary\n",
    "#summary(model, input_size=(1, 3, 224, 224), device=device.type)\n",
    "\n"
   ]
  },
  {
   "cell_type": "code",
   "execution_count": null,
   "id": "f8d50b8c",
   "metadata": {},
   "outputs": [],
   "source": [
    "# from torchviz import make_dot\n",
    "\n",
    "# dummy_input = torch.randn(1, 3, 224, 224).to(device)\n",
    "# out, _, _ = model(dummy_input)\n",
    "\n",
    "# make_dot(out, params=dict(model.named_parameters())).render(\"model_graph\", format=\"png\")\n",
    "\n",
    "# for name, param in model.named_parameters():\n",
    "#     print(f\"{name}: requires_grad={param.requires_grad}, shape={param.shape}\")\n"
   ]
  },
  {
   "cell_type": "code",
   "execution_count": null,
   "id": "73a926ec",
   "metadata": {},
   "outputs": [],
   "source": []
  },
  {
   "cell_type": "code",
   "execution_count": null,
   "id": "50d8e29c",
   "metadata": {},
   "outputs": [],
   "source": []
  },
  {
   "cell_type": "code",
   "execution_count": 32,
   "id": "4e2734d2",
   "metadata": {},
   "outputs": [],
   "source": [
    "from torch.utils.data import Dataset\n",
    "from PIL import Image\n",
    "import os\n",
    "\n",
    "class KITTISegmentationDataset(Dataset):\n",
    "    def __init__(self, image_dir, mask_dir, image_size=(224, 224)):\n",
    "        self.image_paths = sorted([os.path.join(image_dir, fname) for fname in os.listdir(image_dir) if fname.endswith('.png') or fname.endswith('.jpg')])\n",
    "        self.mask_paths = sorted([os.path.join(mask_dir, fname) for fname in os.listdir(mask_dir) if fname.endswith('.png')])\n",
    "\n",
    "        self.image_transform = T.Compose([\n",
    "            T.Resize(image_size),\n",
    "            T.ToTensor(),\n",
    "            T.Normalize(mean=[0.5]*3, std=[0.5]*3)\n",
    "        ])\n",
    "        \n",
    "        self.mask_transform = T.Compose([\n",
    "            T.Resize(image_size, interpolation=Image.NEAREST),\n",
    "            T.PILToTensor()\n",
    "        ])\n",
    "\n",
    "    def __len__(self):\n",
    "        return len(self.image_paths)\n",
    "\n",
    "    def __getitem__(self, idx):\n",
    "        image = Image.open(self.image_paths[idx]).convert('RGB')\n",
    "        mask = Image.open(self.mask_paths[idx])  # Assumes masks are already in correct class format\n",
    "        return self.image_transform(image), self.mask_transform(mask).squeeze(0).long()\n"
   ]
  },
  {
   "cell_type": "code",
   "execution_count": null,
   "id": "3720a106",
   "metadata": {},
   "outputs": [],
   "source": [
    "kitti_dataset = KITTISegmentationDataset(\n",
    "    image_dir='kitti_data/training/image_2',\n",
    "    mask_dir='kitti_data/training/semantic',\n",
    "    image_size=(224, 224)\n",
    ")\n",
    "\n",
    "kitti_loader = DataLoader(\n",
    "    kitti_dataset,\n",
    "    batch_size=8,\n",
    "    shuffle=False,\n",
    "    num_workers=4,\n",
    "    pin_memory=True\n",
    ")"
   ]
  },
  {
   "cell_type": "code",
   "execution_count": null,
   "id": "82c19fd7",
   "metadata": {},
   "outputs": [
    {
     "data": {
      "text/plain": [
       "DinoSegModel(\n",
       "  (dino): Dinov2Model(\n",
       "    (embeddings): Dinov2Embeddings(\n",
       "      (patch_embeddings): Dinov2PatchEmbeddings(\n",
       "        (projection): Conv2d(3, 1024, kernel_size=(14, 14), stride=(14, 14))\n",
       "      )\n",
       "      (dropout): Dropout(p=0.0, inplace=False)\n",
       "    )\n",
       "    (encoder): Dinov2Encoder(\n",
       "      (layer): ModuleList(\n",
       "        (0-23): 24 x Dinov2Layer(\n",
       "          (norm1): LayerNorm((1024,), eps=1e-06, elementwise_affine=True)\n",
       "          (attention): Dinov2Attention(\n",
       "            (attention): Dinov2SelfAttention(\n",
       "              (query): Linear(in_features=1024, out_features=1024, bias=True)\n",
       "              (key): Linear(in_features=1024, out_features=1024, bias=True)\n",
       "              (value): Linear(in_features=1024, out_features=1024, bias=True)\n",
       "              (dropout): Dropout(p=0.0, inplace=False)\n",
       "            )\n",
       "            (output): Dinov2SelfOutput(\n",
       "              (dense): Linear(in_features=1024, out_features=1024, bias=True)\n",
       "              (dropout): Dropout(p=0.0, inplace=False)\n",
       "            )\n",
       "          )\n",
       "          (layer_scale1): Dinov2LayerScale()\n",
       "          (drop_path): Identity()\n",
       "          (norm2): LayerNorm((1024,), eps=1e-06, elementwise_affine=True)\n",
       "          (mlp): Dinov2MLP(\n",
       "            (fc1): Linear(in_features=1024, out_features=4096, bias=True)\n",
       "            (activation): GELUActivation()\n",
       "            (fc2): Linear(in_features=4096, out_features=1024, bias=True)\n",
       "          )\n",
       "          (layer_scale2): Dinov2LayerScale()\n",
       "        )\n",
       "      )\n",
       "    )\n",
       "    (layernorm): LayerNorm((1024,), eps=1e-06, elementwise_affine=True)\n",
       "  )\n",
       "  (decoder): UNetDecoder(\n",
       "    (up1): Sequential(\n",
       "      (0): Upsample(scale_factor=2.0, mode='bilinear')\n",
       "      (1): Conv2d(1024, 512, kernel_size=(3, 3), stride=(1, 1), padding=(1, 1))\n",
       "      (2): BatchNorm2d(512, eps=1e-05, momentum=0.1, affine=True, track_running_stats=True)\n",
       "      (3): ReLU(inplace=True)\n",
       "      (4): Dropout2d(p=0.2, inplace=False)\n",
       "    )\n",
       "    (up2): Sequential(\n",
       "      (0): Upsample(scale_factor=2.0, mode='bilinear')\n",
       "      (1): Conv2d(512, 256, kernel_size=(3, 3), stride=(1, 1), padding=(1, 1))\n",
       "      (2): BatchNorm2d(256, eps=1e-05, momentum=0.1, affine=True, track_running_stats=True)\n",
       "      (3): ReLU(inplace=True)\n",
       "      (4): Dropout2d(p=0.2, inplace=False)\n",
       "    )\n",
       "    (up3): Sequential(\n",
       "      (0): Upsample(scale_factor=2.0, mode='bilinear')\n",
       "      (1): Conv2d(256, 128, kernel_size=(3, 3), stride=(1, 1), padding=(1, 1))\n",
       "      (2): BatchNorm2d(128, eps=1e-05, momentum=0.1, affine=True, track_running_stats=True)\n",
       "      (3): ReLU(inplace=True)\n",
       "      (4): Dropout2d(p=0.2, inplace=False)\n",
       "    )\n",
       "    (up4): Sequential(\n",
       "      (0): Upsample(scale_factor=2.0, mode='bilinear')\n",
       "      (1): Conv2d(128, 64, kernel_size=(3, 3), stride=(1, 1), padding=(1, 1))\n",
       "      (2): BatchNorm2d(64, eps=1e-05, momentum=0.1, affine=True, track_running_stats=True)\n",
       "      (3): ReLU(inplace=True)\n",
       "      (4): Dropout2d(p=0.2, inplace=False)\n",
       "    )\n",
       "    (skip_32): Conv2d(1024, 512, kernel_size=(1, 1), stride=(1, 1))\n",
       "    (skip_64): Conv2d(512, 256, kernel_size=(1, 1), stride=(1, 1))\n",
       "    (skip_128): Conv2d(256, 128, kernel_size=(1, 1), stride=(1, 1))\n",
       "    (final_conv): Conv2d(64, 21, kernel_size=(1, 1), stride=(1, 1))\n",
       "    (aux1_conv): Conv2d(128, 21, kernel_size=(1, 1), stride=(1, 1))\n",
       "    (aux2_conv): Conv2d(64, 21, kernel_size=(1, 1), stride=(1, 1))\n",
       "  )\n",
       ")"
      ]
     },
     "execution_count": 11,
     "metadata": {},
     "output_type": "execute_result"
    }
   ],
   "source": [
    "#model = DinoSegModel(freeze_dino=True, num_classes=21).to(device)\n",
    "#model.load_state_dict(torch.load(\"/home/iiitb/Desktop/anant/playground/ProjectBytes/best_model.pth\", map_location=device))\n",
    "#model.eval()\n"
   ]
  },
  {
   "cell_type": "code",
   "execution_count": 35,
   "id": "fe657010",
   "metadata": {},
   "outputs": [
    {
     "name": "stdout",
     "output_type": "stream",
     "text": [
      "25\n"
     ]
    }
   ],
   "source": [
    "count = 0\n",
    "for images, masks in kitti_loader:\n",
    "        # print(images.shape, masks.shape)\n",
    "        # print(\"Unique labels in masks:\", torch.unique(masks))\n",
    "        count += 1 \n",
    "        # if count ==100:\n",
    "        #         break\n",
    "        \n",
    "print(count)"
   ]
  },
  {
   "cell_type": "code",
   "execution_count": 38,
   "id": "0b51cb6f",
   "metadata": {},
   "outputs": [
    {
     "data": {
      "text/plain": [
       "DinoSegModel(\n",
       "  (dino): Dinov2Model(\n",
       "    (embeddings): Dinov2Embeddings(\n",
       "      (patch_embeddings): Dinov2PatchEmbeddings(\n",
       "        (projection): Conv2d(3, 1024, kernel_size=(14, 14), stride=(14, 14))\n",
       "      )\n",
       "      (dropout): Dropout(p=0.0, inplace=False)\n",
       "    )\n",
       "    (encoder): Dinov2Encoder(\n",
       "      (layer): ModuleList(\n",
       "        (0-23): 24 x Dinov2Layer(\n",
       "          (norm1): LayerNorm((1024,), eps=1e-06, elementwise_affine=True)\n",
       "          (attention): Dinov2Attention(\n",
       "            (attention): Dinov2SelfAttention(\n",
       "              (query): Linear(in_features=1024, out_features=1024, bias=True)\n",
       "              (key): Linear(in_features=1024, out_features=1024, bias=True)\n",
       "              (value): Linear(in_features=1024, out_features=1024, bias=True)\n",
       "              (dropout): Dropout(p=0.0, inplace=False)\n",
       "            )\n",
       "            (output): Dinov2SelfOutput(\n",
       "              (dense): Linear(in_features=1024, out_features=1024, bias=True)\n",
       "              (dropout): Dropout(p=0.0, inplace=False)\n",
       "            )\n",
       "          )\n",
       "          (layer_scale1): Dinov2LayerScale()\n",
       "          (drop_path): Identity()\n",
       "          (norm2): LayerNorm((1024,), eps=1e-06, elementwise_affine=True)\n",
       "          (mlp): Dinov2MLP(\n",
       "            (fc1): Linear(in_features=1024, out_features=4096, bias=True)\n",
       "            (activation): GELUActivation()\n",
       "            (fc2): Linear(in_features=4096, out_features=1024, bias=True)\n",
       "          )\n",
       "          (layer_scale2): Dinov2LayerScale()\n",
       "        )\n",
       "      )\n",
       "    )\n",
       "    (layernorm): LayerNorm((1024,), eps=1e-06, elementwise_affine=True)\n",
       "  )\n",
       "  (decoder): UNetDecoder(\n",
       "    (up1): Sequential(\n",
       "      (0): Upsample(scale_factor=2.0, mode='bilinear')\n",
       "      (1): Conv2d(1024, 512, kernel_size=(3, 3), stride=(1, 1), padding=(1, 1))\n",
       "      (2): BatchNorm2d(512, eps=1e-05, momentum=0.1, affine=True, track_running_stats=True)\n",
       "      (3): ReLU(inplace=True)\n",
       "      (4): Dropout2d(p=0.2, inplace=False)\n",
       "    )\n",
       "    (up2): Sequential(\n",
       "      (0): Upsample(scale_factor=2.0, mode='bilinear')\n",
       "      (1): Conv2d(512, 256, kernel_size=(3, 3), stride=(1, 1), padding=(1, 1))\n",
       "      (2): BatchNorm2d(256, eps=1e-05, momentum=0.1, affine=True, track_running_stats=True)\n",
       "      (3): ReLU(inplace=True)\n",
       "      (4): Dropout2d(p=0.2, inplace=False)\n",
       "    )\n",
       "    (up3): Sequential(\n",
       "      (0): Upsample(scale_factor=2.0, mode='bilinear')\n",
       "      (1): Conv2d(256, 128, kernel_size=(3, 3), stride=(1, 1), padding=(1, 1))\n",
       "      (2): BatchNorm2d(128, eps=1e-05, momentum=0.1, affine=True, track_running_stats=True)\n",
       "      (3): ReLU(inplace=True)\n",
       "      (4): Dropout2d(p=0.2, inplace=False)\n",
       "    )\n",
       "    (up4): Sequential(\n",
       "      (0): Upsample(scale_factor=2.0, mode='bilinear')\n",
       "      (1): Conv2d(128, 64, kernel_size=(3, 3), stride=(1, 1), padding=(1, 1))\n",
       "      (2): BatchNorm2d(64, eps=1e-05, momentum=0.1, affine=True, track_running_stats=True)\n",
       "      (3): ReLU(inplace=True)\n",
       "      (4): Dropout2d(p=0.2, inplace=False)\n",
       "    )\n",
       "    (skip_32): Conv2d(1024, 512, kernel_size=(1, 1), stride=(1, 1))\n",
       "    (skip_64): Conv2d(512, 256, kernel_size=(1, 1), stride=(1, 1))\n",
       "    (skip_128): Conv2d(256, 128, kernel_size=(1, 1), stride=(1, 1))\n",
       "    (final_conv): Conv2d(64, 21, kernel_size=(1, 1), stride=(1, 1))\n",
       "    (aux1_conv): Conv2d(128, 21, kernel_size=(1, 1), stride=(1, 1))\n",
       "    (aux2_conv): Conv2d(64, 21, kernel_size=(1, 1), stride=(1, 1))\n",
       "  )\n",
       ")"
      ]
     },
     "execution_count": 38,
     "metadata": {},
     "output_type": "execute_result"
    }
   ],
   "source": [
    "model"
   ]
  },
  {
   "cell_type": "code",
   "execution_count": 44,
   "id": "8c2f26d8",
   "metadata": {},
   "outputs": [
    {
     "data": {
      "text/plain": [
       "device(type='cuda')"
      ]
     },
     "execution_count": 44,
     "metadata": {},
     "output_type": "execute_result"
    }
   ],
   "source": [
    "device"
   ]
  },
  {
   "cell_type": "code",
   "execution_count": 45,
   "id": "c5ae254b",
   "metadata": {},
   "outputs": [],
   "source": [
    "# Load model trained on VOC\n",
    "model = DinoSegModel(freeze_dino=True).to(device)\n",
    "model.load_state_dict(torch.load(\"best_model.pth\"))\n",
    "\n",
    "# Replace final head (assume it's named `self.head`)\n",
    "# If it's DPT or Linear, adjust the naming accordingly.\n",
    "num_kitti_classes = 34\n",
    "#model.head[4] = nn.Conv2d(256, num_kitti_classes, kernel_size=1)\n",
    "model.decoder.final_conv = nn.Conv2d(64, 34, kernel_size=1)\n",
    "model.decoder.aux1_conv = nn.Conv2d(128, 34, kernel_size=1)\n",
    "model.decoder.aux2_conv = nn.Conv2d(64, 34, kernel_size=1)\n",
    "\n",
    "# Freeze all parameters first\n",
    "for param in model.parameters():\n",
    "    param.requires_grad = False\n",
    "\n",
    "# Unfreeze only the new classifier layers\n",
    "for layer in [model.decoder.final_conv, model.decoder.aux1_conv, model.decoder.aux2_conv]:\n",
    "    for param in layer.parameters():\n",
    "        param.requires_grad = True"
   ]
  },
  {
   "cell_type": "code",
   "execution_count": 46,
   "id": "cf1c46cd",
   "metadata": {},
   "outputs": [
    {
     "name": "stdout",
     "output_type": "stream",
     "text": [
      "dino.embeddings.cls_token - requires_grad: False\n",
      "dino.embeddings.mask_token - requires_grad: False\n",
      "dino.embeddings.position_embeddings - requires_grad: False\n",
      "dino.embeddings.patch_embeddings.projection.weight - requires_grad: False\n",
      "dino.embeddings.patch_embeddings.projection.bias - requires_grad: False\n",
      "dino.encoder.layer.0.norm1.weight - requires_grad: False\n",
      "dino.encoder.layer.0.norm1.bias - requires_grad: False\n",
      "dino.encoder.layer.0.attention.attention.query.weight - requires_grad: False\n",
      "dino.encoder.layer.0.attention.attention.query.bias - requires_grad: False\n",
      "dino.encoder.layer.0.attention.attention.key.weight - requires_grad: False\n",
      "dino.encoder.layer.0.attention.attention.key.bias - requires_grad: False\n",
      "dino.encoder.layer.0.attention.attention.value.weight - requires_grad: False\n",
      "dino.encoder.layer.0.attention.attention.value.bias - requires_grad: False\n",
      "dino.encoder.layer.0.attention.output.dense.weight - requires_grad: False\n",
      "dino.encoder.layer.0.attention.output.dense.bias - requires_grad: False\n",
      "dino.encoder.layer.0.layer_scale1.lambda1 - requires_grad: False\n",
      "dino.encoder.layer.0.norm2.weight - requires_grad: False\n",
      "dino.encoder.layer.0.norm2.bias - requires_grad: False\n",
      "dino.encoder.layer.0.mlp.fc1.weight - requires_grad: False\n",
      "dino.encoder.layer.0.mlp.fc1.bias - requires_grad: False\n",
      "dino.encoder.layer.0.mlp.fc2.weight - requires_grad: False\n",
      "dino.encoder.layer.0.mlp.fc2.bias - requires_grad: False\n",
      "dino.encoder.layer.0.layer_scale2.lambda1 - requires_grad: False\n",
      "dino.encoder.layer.1.norm1.weight - requires_grad: False\n",
      "dino.encoder.layer.1.norm1.bias - requires_grad: False\n",
      "dino.encoder.layer.1.attention.attention.query.weight - requires_grad: False\n",
      "dino.encoder.layer.1.attention.attention.query.bias - requires_grad: False\n",
      "dino.encoder.layer.1.attention.attention.key.weight - requires_grad: False\n",
      "dino.encoder.layer.1.attention.attention.key.bias - requires_grad: False\n",
      "dino.encoder.layer.1.attention.attention.value.weight - requires_grad: False\n",
      "dino.encoder.layer.1.attention.attention.value.bias - requires_grad: False\n",
      "dino.encoder.layer.1.attention.output.dense.weight - requires_grad: False\n",
      "dino.encoder.layer.1.attention.output.dense.bias - requires_grad: False\n",
      "dino.encoder.layer.1.layer_scale1.lambda1 - requires_grad: False\n",
      "dino.encoder.layer.1.norm2.weight - requires_grad: False\n",
      "dino.encoder.layer.1.norm2.bias - requires_grad: False\n",
      "dino.encoder.layer.1.mlp.fc1.weight - requires_grad: False\n",
      "dino.encoder.layer.1.mlp.fc1.bias - requires_grad: False\n",
      "dino.encoder.layer.1.mlp.fc2.weight - requires_grad: False\n",
      "dino.encoder.layer.1.mlp.fc2.bias - requires_grad: False\n",
      "dino.encoder.layer.1.layer_scale2.lambda1 - requires_grad: False\n",
      "dino.encoder.layer.2.norm1.weight - requires_grad: False\n",
      "dino.encoder.layer.2.norm1.bias - requires_grad: False\n",
      "dino.encoder.layer.2.attention.attention.query.weight - requires_grad: False\n",
      "dino.encoder.layer.2.attention.attention.query.bias - requires_grad: False\n",
      "dino.encoder.layer.2.attention.attention.key.weight - requires_grad: False\n",
      "dino.encoder.layer.2.attention.attention.key.bias - requires_grad: False\n",
      "dino.encoder.layer.2.attention.attention.value.weight - requires_grad: False\n",
      "dino.encoder.layer.2.attention.attention.value.bias - requires_grad: False\n",
      "dino.encoder.layer.2.attention.output.dense.weight - requires_grad: False\n",
      "dino.encoder.layer.2.attention.output.dense.bias - requires_grad: False\n",
      "dino.encoder.layer.2.layer_scale1.lambda1 - requires_grad: False\n",
      "dino.encoder.layer.2.norm2.weight - requires_grad: False\n",
      "dino.encoder.layer.2.norm2.bias - requires_grad: False\n",
      "dino.encoder.layer.2.mlp.fc1.weight - requires_grad: False\n",
      "dino.encoder.layer.2.mlp.fc1.bias - requires_grad: False\n",
      "dino.encoder.layer.2.mlp.fc2.weight - requires_grad: False\n",
      "dino.encoder.layer.2.mlp.fc2.bias - requires_grad: False\n",
      "dino.encoder.layer.2.layer_scale2.lambda1 - requires_grad: False\n",
      "dino.encoder.layer.3.norm1.weight - requires_grad: False\n",
      "dino.encoder.layer.3.norm1.bias - requires_grad: False\n",
      "dino.encoder.layer.3.attention.attention.query.weight - requires_grad: False\n",
      "dino.encoder.layer.3.attention.attention.query.bias - requires_grad: False\n",
      "dino.encoder.layer.3.attention.attention.key.weight - requires_grad: False\n",
      "dino.encoder.layer.3.attention.attention.key.bias - requires_grad: False\n",
      "dino.encoder.layer.3.attention.attention.value.weight - requires_grad: False\n",
      "dino.encoder.layer.3.attention.attention.value.bias - requires_grad: False\n",
      "dino.encoder.layer.3.attention.output.dense.weight - requires_grad: False\n",
      "dino.encoder.layer.3.attention.output.dense.bias - requires_grad: False\n",
      "dino.encoder.layer.3.layer_scale1.lambda1 - requires_grad: False\n",
      "dino.encoder.layer.3.norm2.weight - requires_grad: False\n",
      "dino.encoder.layer.3.norm2.bias - requires_grad: False\n",
      "dino.encoder.layer.3.mlp.fc1.weight - requires_grad: False\n",
      "dino.encoder.layer.3.mlp.fc1.bias - requires_grad: False\n",
      "dino.encoder.layer.3.mlp.fc2.weight - requires_grad: False\n",
      "dino.encoder.layer.3.mlp.fc2.bias - requires_grad: False\n",
      "dino.encoder.layer.3.layer_scale2.lambda1 - requires_grad: False\n",
      "dino.encoder.layer.4.norm1.weight - requires_grad: False\n",
      "dino.encoder.layer.4.norm1.bias - requires_grad: False\n",
      "dino.encoder.layer.4.attention.attention.query.weight - requires_grad: False\n",
      "dino.encoder.layer.4.attention.attention.query.bias - requires_grad: False\n",
      "dino.encoder.layer.4.attention.attention.key.weight - requires_grad: False\n",
      "dino.encoder.layer.4.attention.attention.key.bias - requires_grad: False\n",
      "dino.encoder.layer.4.attention.attention.value.weight - requires_grad: False\n",
      "dino.encoder.layer.4.attention.attention.value.bias - requires_grad: False\n",
      "dino.encoder.layer.4.attention.output.dense.weight - requires_grad: False\n",
      "dino.encoder.layer.4.attention.output.dense.bias - requires_grad: False\n",
      "dino.encoder.layer.4.layer_scale1.lambda1 - requires_grad: False\n",
      "dino.encoder.layer.4.norm2.weight - requires_grad: False\n",
      "dino.encoder.layer.4.norm2.bias - requires_grad: False\n",
      "dino.encoder.layer.4.mlp.fc1.weight - requires_grad: False\n",
      "dino.encoder.layer.4.mlp.fc1.bias - requires_grad: False\n",
      "dino.encoder.layer.4.mlp.fc2.weight - requires_grad: False\n",
      "dino.encoder.layer.4.mlp.fc2.bias - requires_grad: False\n",
      "dino.encoder.layer.4.layer_scale2.lambda1 - requires_grad: False\n",
      "dino.encoder.layer.5.norm1.weight - requires_grad: False\n",
      "dino.encoder.layer.5.norm1.bias - requires_grad: False\n",
      "dino.encoder.layer.5.attention.attention.query.weight - requires_grad: False\n",
      "dino.encoder.layer.5.attention.attention.query.bias - requires_grad: False\n",
      "dino.encoder.layer.5.attention.attention.key.weight - requires_grad: False\n",
      "dino.encoder.layer.5.attention.attention.key.bias - requires_grad: False\n",
      "dino.encoder.layer.5.attention.attention.value.weight - requires_grad: False\n",
      "dino.encoder.layer.5.attention.attention.value.bias - requires_grad: False\n",
      "dino.encoder.layer.5.attention.output.dense.weight - requires_grad: False\n",
      "dino.encoder.layer.5.attention.output.dense.bias - requires_grad: False\n",
      "dino.encoder.layer.5.layer_scale1.lambda1 - requires_grad: False\n",
      "dino.encoder.layer.5.norm2.weight - requires_grad: False\n",
      "dino.encoder.layer.5.norm2.bias - requires_grad: False\n",
      "dino.encoder.layer.5.mlp.fc1.weight - requires_grad: False\n",
      "dino.encoder.layer.5.mlp.fc1.bias - requires_grad: False\n",
      "dino.encoder.layer.5.mlp.fc2.weight - requires_grad: False\n",
      "dino.encoder.layer.5.mlp.fc2.bias - requires_grad: False\n",
      "dino.encoder.layer.5.layer_scale2.lambda1 - requires_grad: False\n",
      "dino.encoder.layer.6.norm1.weight - requires_grad: False\n",
      "dino.encoder.layer.6.norm1.bias - requires_grad: False\n",
      "dino.encoder.layer.6.attention.attention.query.weight - requires_grad: False\n",
      "dino.encoder.layer.6.attention.attention.query.bias - requires_grad: False\n",
      "dino.encoder.layer.6.attention.attention.key.weight - requires_grad: False\n",
      "dino.encoder.layer.6.attention.attention.key.bias - requires_grad: False\n",
      "dino.encoder.layer.6.attention.attention.value.weight - requires_grad: False\n",
      "dino.encoder.layer.6.attention.attention.value.bias - requires_grad: False\n",
      "dino.encoder.layer.6.attention.output.dense.weight - requires_grad: False\n",
      "dino.encoder.layer.6.attention.output.dense.bias - requires_grad: False\n",
      "dino.encoder.layer.6.layer_scale1.lambda1 - requires_grad: False\n",
      "dino.encoder.layer.6.norm2.weight - requires_grad: False\n",
      "dino.encoder.layer.6.norm2.bias - requires_grad: False\n",
      "dino.encoder.layer.6.mlp.fc1.weight - requires_grad: False\n",
      "dino.encoder.layer.6.mlp.fc1.bias - requires_grad: False\n",
      "dino.encoder.layer.6.mlp.fc2.weight - requires_grad: False\n",
      "dino.encoder.layer.6.mlp.fc2.bias - requires_grad: False\n",
      "dino.encoder.layer.6.layer_scale2.lambda1 - requires_grad: False\n",
      "dino.encoder.layer.7.norm1.weight - requires_grad: False\n",
      "dino.encoder.layer.7.norm1.bias - requires_grad: False\n",
      "dino.encoder.layer.7.attention.attention.query.weight - requires_grad: False\n",
      "dino.encoder.layer.7.attention.attention.query.bias - requires_grad: False\n",
      "dino.encoder.layer.7.attention.attention.key.weight - requires_grad: False\n",
      "dino.encoder.layer.7.attention.attention.key.bias - requires_grad: False\n",
      "dino.encoder.layer.7.attention.attention.value.weight - requires_grad: False\n",
      "dino.encoder.layer.7.attention.attention.value.bias - requires_grad: False\n",
      "dino.encoder.layer.7.attention.output.dense.weight - requires_grad: False\n",
      "dino.encoder.layer.7.attention.output.dense.bias - requires_grad: False\n",
      "dino.encoder.layer.7.layer_scale1.lambda1 - requires_grad: False\n",
      "dino.encoder.layer.7.norm2.weight - requires_grad: False\n",
      "dino.encoder.layer.7.norm2.bias - requires_grad: False\n",
      "dino.encoder.layer.7.mlp.fc1.weight - requires_grad: False\n",
      "dino.encoder.layer.7.mlp.fc1.bias - requires_grad: False\n",
      "dino.encoder.layer.7.mlp.fc2.weight - requires_grad: False\n",
      "dino.encoder.layer.7.mlp.fc2.bias - requires_grad: False\n",
      "dino.encoder.layer.7.layer_scale2.lambda1 - requires_grad: False\n",
      "dino.encoder.layer.8.norm1.weight - requires_grad: False\n",
      "dino.encoder.layer.8.norm1.bias - requires_grad: False\n",
      "dino.encoder.layer.8.attention.attention.query.weight - requires_grad: False\n",
      "dino.encoder.layer.8.attention.attention.query.bias - requires_grad: False\n",
      "dino.encoder.layer.8.attention.attention.key.weight - requires_grad: False\n",
      "dino.encoder.layer.8.attention.attention.key.bias - requires_grad: False\n",
      "dino.encoder.layer.8.attention.attention.value.weight - requires_grad: False\n",
      "dino.encoder.layer.8.attention.attention.value.bias - requires_grad: False\n",
      "dino.encoder.layer.8.attention.output.dense.weight - requires_grad: False\n",
      "dino.encoder.layer.8.attention.output.dense.bias - requires_grad: False\n",
      "dino.encoder.layer.8.layer_scale1.lambda1 - requires_grad: False\n",
      "dino.encoder.layer.8.norm2.weight - requires_grad: False\n",
      "dino.encoder.layer.8.norm2.bias - requires_grad: False\n",
      "dino.encoder.layer.8.mlp.fc1.weight - requires_grad: False\n",
      "dino.encoder.layer.8.mlp.fc1.bias - requires_grad: False\n",
      "dino.encoder.layer.8.mlp.fc2.weight - requires_grad: False\n",
      "dino.encoder.layer.8.mlp.fc2.bias - requires_grad: False\n",
      "dino.encoder.layer.8.layer_scale2.lambda1 - requires_grad: False\n",
      "dino.encoder.layer.9.norm1.weight - requires_grad: False\n",
      "dino.encoder.layer.9.norm1.bias - requires_grad: False\n",
      "dino.encoder.layer.9.attention.attention.query.weight - requires_grad: False\n",
      "dino.encoder.layer.9.attention.attention.query.bias - requires_grad: False\n",
      "dino.encoder.layer.9.attention.attention.key.weight - requires_grad: False\n",
      "dino.encoder.layer.9.attention.attention.key.bias - requires_grad: False\n",
      "dino.encoder.layer.9.attention.attention.value.weight - requires_grad: False\n",
      "dino.encoder.layer.9.attention.attention.value.bias - requires_grad: False\n",
      "dino.encoder.layer.9.attention.output.dense.weight - requires_grad: False\n",
      "dino.encoder.layer.9.attention.output.dense.bias - requires_grad: False\n",
      "dino.encoder.layer.9.layer_scale1.lambda1 - requires_grad: False\n",
      "dino.encoder.layer.9.norm2.weight - requires_grad: False\n",
      "dino.encoder.layer.9.norm2.bias - requires_grad: False\n",
      "dino.encoder.layer.9.mlp.fc1.weight - requires_grad: False\n",
      "dino.encoder.layer.9.mlp.fc1.bias - requires_grad: False\n",
      "dino.encoder.layer.9.mlp.fc2.weight - requires_grad: False\n",
      "dino.encoder.layer.9.mlp.fc2.bias - requires_grad: False\n",
      "dino.encoder.layer.9.layer_scale2.lambda1 - requires_grad: False\n",
      "dino.encoder.layer.10.norm1.weight - requires_grad: False\n",
      "dino.encoder.layer.10.norm1.bias - requires_grad: False\n",
      "dino.encoder.layer.10.attention.attention.query.weight - requires_grad: False\n",
      "dino.encoder.layer.10.attention.attention.query.bias - requires_grad: False\n",
      "dino.encoder.layer.10.attention.attention.key.weight - requires_grad: False\n",
      "dino.encoder.layer.10.attention.attention.key.bias - requires_grad: False\n",
      "dino.encoder.layer.10.attention.attention.value.weight - requires_grad: False\n",
      "dino.encoder.layer.10.attention.attention.value.bias - requires_grad: False\n",
      "dino.encoder.layer.10.attention.output.dense.weight - requires_grad: False\n",
      "dino.encoder.layer.10.attention.output.dense.bias - requires_grad: False\n",
      "dino.encoder.layer.10.layer_scale1.lambda1 - requires_grad: False\n",
      "dino.encoder.layer.10.norm2.weight - requires_grad: False\n",
      "dino.encoder.layer.10.norm2.bias - requires_grad: False\n",
      "dino.encoder.layer.10.mlp.fc1.weight - requires_grad: False\n",
      "dino.encoder.layer.10.mlp.fc1.bias - requires_grad: False\n",
      "dino.encoder.layer.10.mlp.fc2.weight - requires_grad: False\n",
      "dino.encoder.layer.10.mlp.fc2.bias - requires_grad: False\n",
      "dino.encoder.layer.10.layer_scale2.lambda1 - requires_grad: False\n",
      "dino.encoder.layer.11.norm1.weight - requires_grad: False\n",
      "dino.encoder.layer.11.norm1.bias - requires_grad: False\n",
      "dino.encoder.layer.11.attention.attention.query.weight - requires_grad: False\n",
      "dino.encoder.layer.11.attention.attention.query.bias - requires_grad: False\n",
      "dino.encoder.layer.11.attention.attention.key.weight - requires_grad: False\n",
      "dino.encoder.layer.11.attention.attention.key.bias - requires_grad: False\n",
      "dino.encoder.layer.11.attention.attention.value.weight - requires_grad: False\n",
      "dino.encoder.layer.11.attention.attention.value.bias - requires_grad: False\n",
      "dino.encoder.layer.11.attention.output.dense.weight - requires_grad: False\n",
      "dino.encoder.layer.11.attention.output.dense.bias - requires_grad: False\n",
      "dino.encoder.layer.11.layer_scale1.lambda1 - requires_grad: False\n",
      "dino.encoder.layer.11.norm2.weight - requires_grad: False\n",
      "dino.encoder.layer.11.norm2.bias - requires_grad: False\n",
      "dino.encoder.layer.11.mlp.fc1.weight - requires_grad: False\n",
      "dino.encoder.layer.11.mlp.fc1.bias - requires_grad: False\n",
      "dino.encoder.layer.11.mlp.fc2.weight - requires_grad: False\n",
      "dino.encoder.layer.11.mlp.fc2.bias - requires_grad: False\n",
      "dino.encoder.layer.11.layer_scale2.lambda1 - requires_grad: False\n",
      "dino.encoder.layer.12.norm1.weight - requires_grad: False\n",
      "dino.encoder.layer.12.norm1.bias - requires_grad: False\n",
      "dino.encoder.layer.12.attention.attention.query.weight - requires_grad: False\n",
      "dino.encoder.layer.12.attention.attention.query.bias - requires_grad: False\n",
      "dino.encoder.layer.12.attention.attention.key.weight - requires_grad: False\n",
      "dino.encoder.layer.12.attention.attention.key.bias - requires_grad: False\n",
      "dino.encoder.layer.12.attention.attention.value.weight - requires_grad: False\n",
      "dino.encoder.layer.12.attention.attention.value.bias - requires_grad: False\n",
      "dino.encoder.layer.12.attention.output.dense.weight - requires_grad: False\n",
      "dino.encoder.layer.12.attention.output.dense.bias - requires_grad: False\n",
      "dino.encoder.layer.12.layer_scale1.lambda1 - requires_grad: False\n",
      "dino.encoder.layer.12.norm2.weight - requires_grad: False\n",
      "dino.encoder.layer.12.norm2.bias - requires_grad: False\n",
      "dino.encoder.layer.12.mlp.fc1.weight - requires_grad: False\n",
      "dino.encoder.layer.12.mlp.fc1.bias - requires_grad: False\n",
      "dino.encoder.layer.12.mlp.fc2.weight - requires_grad: False\n",
      "dino.encoder.layer.12.mlp.fc2.bias - requires_grad: False\n",
      "dino.encoder.layer.12.layer_scale2.lambda1 - requires_grad: False\n",
      "dino.encoder.layer.13.norm1.weight - requires_grad: False\n",
      "dino.encoder.layer.13.norm1.bias - requires_grad: False\n",
      "dino.encoder.layer.13.attention.attention.query.weight - requires_grad: False\n",
      "dino.encoder.layer.13.attention.attention.query.bias - requires_grad: False\n",
      "dino.encoder.layer.13.attention.attention.key.weight - requires_grad: False\n",
      "dino.encoder.layer.13.attention.attention.key.bias - requires_grad: False\n",
      "dino.encoder.layer.13.attention.attention.value.weight - requires_grad: False\n",
      "dino.encoder.layer.13.attention.attention.value.bias - requires_grad: False\n",
      "dino.encoder.layer.13.attention.output.dense.weight - requires_grad: False\n",
      "dino.encoder.layer.13.attention.output.dense.bias - requires_grad: False\n",
      "dino.encoder.layer.13.layer_scale1.lambda1 - requires_grad: False\n",
      "dino.encoder.layer.13.norm2.weight - requires_grad: False\n",
      "dino.encoder.layer.13.norm2.bias - requires_grad: False\n",
      "dino.encoder.layer.13.mlp.fc1.weight - requires_grad: False\n",
      "dino.encoder.layer.13.mlp.fc1.bias - requires_grad: False\n",
      "dino.encoder.layer.13.mlp.fc2.weight - requires_grad: False\n",
      "dino.encoder.layer.13.mlp.fc2.bias - requires_grad: False\n",
      "dino.encoder.layer.13.layer_scale2.lambda1 - requires_grad: False\n",
      "dino.encoder.layer.14.norm1.weight - requires_grad: False\n",
      "dino.encoder.layer.14.norm1.bias - requires_grad: False\n",
      "dino.encoder.layer.14.attention.attention.query.weight - requires_grad: False\n",
      "dino.encoder.layer.14.attention.attention.query.bias - requires_grad: False\n",
      "dino.encoder.layer.14.attention.attention.key.weight - requires_grad: False\n",
      "dino.encoder.layer.14.attention.attention.key.bias - requires_grad: False\n",
      "dino.encoder.layer.14.attention.attention.value.weight - requires_grad: False\n",
      "dino.encoder.layer.14.attention.attention.value.bias - requires_grad: False\n",
      "dino.encoder.layer.14.attention.output.dense.weight - requires_grad: False\n",
      "dino.encoder.layer.14.attention.output.dense.bias - requires_grad: False\n",
      "dino.encoder.layer.14.layer_scale1.lambda1 - requires_grad: False\n",
      "dino.encoder.layer.14.norm2.weight - requires_grad: False\n",
      "dino.encoder.layer.14.norm2.bias - requires_grad: False\n",
      "dino.encoder.layer.14.mlp.fc1.weight - requires_grad: False\n",
      "dino.encoder.layer.14.mlp.fc1.bias - requires_grad: False\n",
      "dino.encoder.layer.14.mlp.fc2.weight - requires_grad: False\n",
      "dino.encoder.layer.14.mlp.fc2.bias - requires_grad: False\n",
      "dino.encoder.layer.14.layer_scale2.lambda1 - requires_grad: False\n",
      "dino.encoder.layer.15.norm1.weight - requires_grad: False\n",
      "dino.encoder.layer.15.norm1.bias - requires_grad: False\n",
      "dino.encoder.layer.15.attention.attention.query.weight - requires_grad: False\n",
      "dino.encoder.layer.15.attention.attention.query.bias - requires_grad: False\n",
      "dino.encoder.layer.15.attention.attention.key.weight - requires_grad: False\n",
      "dino.encoder.layer.15.attention.attention.key.bias - requires_grad: False\n",
      "dino.encoder.layer.15.attention.attention.value.weight - requires_grad: False\n",
      "dino.encoder.layer.15.attention.attention.value.bias - requires_grad: False\n",
      "dino.encoder.layer.15.attention.output.dense.weight - requires_grad: False\n",
      "dino.encoder.layer.15.attention.output.dense.bias - requires_grad: False\n",
      "dino.encoder.layer.15.layer_scale1.lambda1 - requires_grad: False\n",
      "dino.encoder.layer.15.norm2.weight - requires_grad: False\n",
      "dino.encoder.layer.15.norm2.bias - requires_grad: False\n",
      "dino.encoder.layer.15.mlp.fc1.weight - requires_grad: False\n",
      "dino.encoder.layer.15.mlp.fc1.bias - requires_grad: False\n",
      "dino.encoder.layer.15.mlp.fc2.weight - requires_grad: False\n",
      "dino.encoder.layer.15.mlp.fc2.bias - requires_grad: False\n",
      "dino.encoder.layer.15.layer_scale2.lambda1 - requires_grad: False\n",
      "dino.encoder.layer.16.norm1.weight - requires_grad: False\n",
      "dino.encoder.layer.16.norm1.bias - requires_grad: False\n",
      "dino.encoder.layer.16.attention.attention.query.weight - requires_grad: False\n",
      "dino.encoder.layer.16.attention.attention.query.bias - requires_grad: False\n",
      "dino.encoder.layer.16.attention.attention.key.weight - requires_grad: False\n",
      "dino.encoder.layer.16.attention.attention.key.bias - requires_grad: False\n",
      "dino.encoder.layer.16.attention.attention.value.weight - requires_grad: False\n",
      "dino.encoder.layer.16.attention.attention.value.bias - requires_grad: False\n",
      "dino.encoder.layer.16.attention.output.dense.weight - requires_grad: False\n",
      "dino.encoder.layer.16.attention.output.dense.bias - requires_grad: False\n",
      "dino.encoder.layer.16.layer_scale1.lambda1 - requires_grad: False\n",
      "dino.encoder.layer.16.norm2.weight - requires_grad: False\n",
      "dino.encoder.layer.16.norm2.bias - requires_grad: False\n",
      "dino.encoder.layer.16.mlp.fc1.weight - requires_grad: False\n",
      "dino.encoder.layer.16.mlp.fc1.bias - requires_grad: False\n",
      "dino.encoder.layer.16.mlp.fc2.weight - requires_grad: False\n",
      "dino.encoder.layer.16.mlp.fc2.bias - requires_grad: False\n",
      "dino.encoder.layer.16.layer_scale2.lambda1 - requires_grad: False\n",
      "dino.encoder.layer.17.norm1.weight - requires_grad: False\n",
      "dino.encoder.layer.17.norm1.bias - requires_grad: False\n",
      "dino.encoder.layer.17.attention.attention.query.weight - requires_grad: False\n",
      "dino.encoder.layer.17.attention.attention.query.bias - requires_grad: False\n",
      "dino.encoder.layer.17.attention.attention.key.weight - requires_grad: False\n",
      "dino.encoder.layer.17.attention.attention.key.bias - requires_grad: False\n",
      "dino.encoder.layer.17.attention.attention.value.weight - requires_grad: False\n",
      "dino.encoder.layer.17.attention.attention.value.bias - requires_grad: False\n",
      "dino.encoder.layer.17.attention.output.dense.weight - requires_grad: False\n",
      "dino.encoder.layer.17.attention.output.dense.bias - requires_grad: False\n",
      "dino.encoder.layer.17.layer_scale1.lambda1 - requires_grad: False\n",
      "dino.encoder.layer.17.norm2.weight - requires_grad: False\n",
      "dino.encoder.layer.17.norm2.bias - requires_grad: False\n",
      "dino.encoder.layer.17.mlp.fc1.weight - requires_grad: False\n",
      "dino.encoder.layer.17.mlp.fc1.bias - requires_grad: False\n",
      "dino.encoder.layer.17.mlp.fc2.weight - requires_grad: False\n",
      "dino.encoder.layer.17.mlp.fc2.bias - requires_grad: False\n",
      "dino.encoder.layer.17.layer_scale2.lambda1 - requires_grad: False\n",
      "dino.encoder.layer.18.norm1.weight - requires_grad: False\n",
      "dino.encoder.layer.18.norm1.bias - requires_grad: False\n",
      "dino.encoder.layer.18.attention.attention.query.weight - requires_grad: False\n",
      "dino.encoder.layer.18.attention.attention.query.bias - requires_grad: False\n",
      "dino.encoder.layer.18.attention.attention.key.weight - requires_grad: False\n",
      "dino.encoder.layer.18.attention.attention.key.bias - requires_grad: False\n",
      "dino.encoder.layer.18.attention.attention.value.weight - requires_grad: False\n",
      "dino.encoder.layer.18.attention.attention.value.bias - requires_grad: False\n",
      "dino.encoder.layer.18.attention.output.dense.weight - requires_grad: False\n",
      "dino.encoder.layer.18.attention.output.dense.bias - requires_grad: False\n",
      "dino.encoder.layer.18.layer_scale1.lambda1 - requires_grad: False\n",
      "dino.encoder.layer.18.norm2.weight - requires_grad: False\n",
      "dino.encoder.layer.18.norm2.bias - requires_grad: False\n",
      "dino.encoder.layer.18.mlp.fc1.weight - requires_grad: False\n",
      "dino.encoder.layer.18.mlp.fc1.bias - requires_grad: False\n",
      "dino.encoder.layer.18.mlp.fc2.weight - requires_grad: False\n",
      "dino.encoder.layer.18.mlp.fc2.bias - requires_grad: False\n",
      "dino.encoder.layer.18.layer_scale2.lambda1 - requires_grad: False\n",
      "dino.encoder.layer.19.norm1.weight - requires_grad: False\n",
      "dino.encoder.layer.19.norm1.bias - requires_grad: False\n",
      "dino.encoder.layer.19.attention.attention.query.weight - requires_grad: False\n",
      "dino.encoder.layer.19.attention.attention.query.bias - requires_grad: False\n",
      "dino.encoder.layer.19.attention.attention.key.weight - requires_grad: False\n",
      "dino.encoder.layer.19.attention.attention.key.bias - requires_grad: False\n",
      "dino.encoder.layer.19.attention.attention.value.weight - requires_grad: False\n",
      "dino.encoder.layer.19.attention.attention.value.bias - requires_grad: False\n",
      "dino.encoder.layer.19.attention.output.dense.weight - requires_grad: False\n",
      "dino.encoder.layer.19.attention.output.dense.bias - requires_grad: False\n",
      "dino.encoder.layer.19.layer_scale1.lambda1 - requires_grad: False\n",
      "dino.encoder.layer.19.norm2.weight - requires_grad: False\n",
      "dino.encoder.layer.19.norm2.bias - requires_grad: False\n",
      "dino.encoder.layer.19.mlp.fc1.weight - requires_grad: False\n",
      "dino.encoder.layer.19.mlp.fc1.bias - requires_grad: False\n",
      "dino.encoder.layer.19.mlp.fc2.weight - requires_grad: False\n",
      "dino.encoder.layer.19.mlp.fc2.bias - requires_grad: False\n",
      "dino.encoder.layer.19.layer_scale2.lambda1 - requires_grad: False\n",
      "dino.encoder.layer.20.norm1.weight - requires_grad: False\n",
      "dino.encoder.layer.20.norm1.bias - requires_grad: False\n",
      "dino.encoder.layer.20.attention.attention.query.weight - requires_grad: False\n",
      "dino.encoder.layer.20.attention.attention.query.bias - requires_grad: False\n",
      "dino.encoder.layer.20.attention.attention.key.weight - requires_grad: False\n",
      "dino.encoder.layer.20.attention.attention.key.bias - requires_grad: False\n",
      "dino.encoder.layer.20.attention.attention.value.weight - requires_grad: False\n",
      "dino.encoder.layer.20.attention.attention.value.bias - requires_grad: False\n",
      "dino.encoder.layer.20.attention.output.dense.weight - requires_grad: False\n",
      "dino.encoder.layer.20.attention.output.dense.bias - requires_grad: False\n",
      "dino.encoder.layer.20.layer_scale1.lambda1 - requires_grad: False\n",
      "dino.encoder.layer.20.norm2.weight - requires_grad: False\n",
      "dino.encoder.layer.20.norm2.bias - requires_grad: False\n",
      "dino.encoder.layer.20.mlp.fc1.weight - requires_grad: False\n",
      "dino.encoder.layer.20.mlp.fc1.bias - requires_grad: False\n",
      "dino.encoder.layer.20.mlp.fc2.weight - requires_grad: False\n",
      "dino.encoder.layer.20.mlp.fc2.bias - requires_grad: False\n",
      "dino.encoder.layer.20.layer_scale2.lambda1 - requires_grad: False\n",
      "dino.encoder.layer.21.norm1.weight - requires_grad: False\n",
      "dino.encoder.layer.21.norm1.bias - requires_grad: False\n",
      "dino.encoder.layer.21.attention.attention.query.weight - requires_grad: False\n",
      "dino.encoder.layer.21.attention.attention.query.bias - requires_grad: False\n",
      "dino.encoder.layer.21.attention.attention.key.weight - requires_grad: False\n",
      "dino.encoder.layer.21.attention.attention.key.bias - requires_grad: False\n",
      "dino.encoder.layer.21.attention.attention.value.weight - requires_grad: False\n",
      "dino.encoder.layer.21.attention.attention.value.bias - requires_grad: False\n",
      "dino.encoder.layer.21.attention.output.dense.weight - requires_grad: False\n",
      "dino.encoder.layer.21.attention.output.dense.bias - requires_grad: False\n",
      "dino.encoder.layer.21.layer_scale1.lambda1 - requires_grad: False\n",
      "dino.encoder.layer.21.norm2.weight - requires_grad: False\n",
      "dino.encoder.layer.21.norm2.bias - requires_grad: False\n",
      "dino.encoder.layer.21.mlp.fc1.weight - requires_grad: False\n",
      "dino.encoder.layer.21.mlp.fc1.bias - requires_grad: False\n",
      "dino.encoder.layer.21.mlp.fc2.weight - requires_grad: False\n",
      "dino.encoder.layer.21.mlp.fc2.bias - requires_grad: False\n",
      "dino.encoder.layer.21.layer_scale2.lambda1 - requires_grad: False\n",
      "dino.encoder.layer.22.norm1.weight - requires_grad: False\n",
      "dino.encoder.layer.22.norm1.bias - requires_grad: False\n",
      "dino.encoder.layer.22.attention.attention.query.weight - requires_grad: False\n",
      "dino.encoder.layer.22.attention.attention.query.bias - requires_grad: False\n",
      "dino.encoder.layer.22.attention.attention.key.weight - requires_grad: False\n",
      "dino.encoder.layer.22.attention.attention.key.bias - requires_grad: False\n",
      "dino.encoder.layer.22.attention.attention.value.weight - requires_grad: False\n",
      "dino.encoder.layer.22.attention.attention.value.bias - requires_grad: False\n",
      "dino.encoder.layer.22.attention.output.dense.weight - requires_grad: False\n",
      "dino.encoder.layer.22.attention.output.dense.bias - requires_grad: False\n",
      "dino.encoder.layer.22.layer_scale1.lambda1 - requires_grad: False\n",
      "dino.encoder.layer.22.norm2.weight - requires_grad: False\n",
      "dino.encoder.layer.22.norm2.bias - requires_grad: False\n",
      "dino.encoder.layer.22.mlp.fc1.weight - requires_grad: False\n",
      "dino.encoder.layer.22.mlp.fc1.bias - requires_grad: False\n",
      "dino.encoder.layer.22.mlp.fc2.weight - requires_grad: False\n",
      "dino.encoder.layer.22.mlp.fc2.bias - requires_grad: False\n",
      "dino.encoder.layer.22.layer_scale2.lambda1 - requires_grad: False\n",
      "dino.encoder.layer.23.norm1.weight - requires_grad: False\n",
      "dino.encoder.layer.23.norm1.bias - requires_grad: False\n",
      "dino.encoder.layer.23.attention.attention.query.weight - requires_grad: False\n",
      "dino.encoder.layer.23.attention.attention.query.bias - requires_grad: False\n",
      "dino.encoder.layer.23.attention.attention.key.weight - requires_grad: False\n",
      "dino.encoder.layer.23.attention.attention.key.bias - requires_grad: False\n",
      "dino.encoder.layer.23.attention.attention.value.weight - requires_grad: False\n",
      "dino.encoder.layer.23.attention.attention.value.bias - requires_grad: False\n",
      "dino.encoder.layer.23.attention.output.dense.weight - requires_grad: False\n",
      "dino.encoder.layer.23.attention.output.dense.bias - requires_grad: False\n",
      "dino.encoder.layer.23.layer_scale1.lambda1 - requires_grad: False\n",
      "dino.encoder.layer.23.norm2.weight - requires_grad: False\n",
      "dino.encoder.layer.23.norm2.bias - requires_grad: False\n",
      "dino.encoder.layer.23.mlp.fc1.weight - requires_grad: False\n",
      "dino.encoder.layer.23.mlp.fc1.bias - requires_grad: False\n",
      "dino.encoder.layer.23.mlp.fc2.weight - requires_grad: False\n",
      "dino.encoder.layer.23.mlp.fc2.bias - requires_grad: False\n",
      "dino.encoder.layer.23.layer_scale2.lambda1 - requires_grad: False\n",
      "dino.layernorm.weight - requires_grad: False\n",
      "dino.layernorm.bias - requires_grad: False\n",
      "decoder.up1.1.weight - requires_grad: False\n",
      "decoder.up1.1.bias - requires_grad: False\n",
      "decoder.up1.2.weight - requires_grad: False\n",
      "decoder.up1.2.bias - requires_grad: False\n",
      "decoder.up2.1.weight - requires_grad: False\n",
      "decoder.up2.1.bias - requires_grad: False\n",
      "decoder.up2.2.weight - requires_grad: False\n",
      "decoder.up2.2.bias - requires_grad: False\n",
      "decoder.up3.1.weight - requires_grad: False\n",
      "decoder.up3.1.bias - requires_grad: False\n",
      "decoder.up3.2.weight - requires_grad: False\n",
      "decoder.up3.2.bias - requires_grad: False\n",
      "decoder.up4.1.weight - requires_grad: False\n",
      "decoder.up4.1.bias - requires_grad: False\n",
      "decoder.up4.2.weight - requires_grad: False\n",
      "decoder.up4.2.bias - requires_grad: False\n",
      "decoder.skip_32.weight - requires_grad: False\n",
      "decoder.skip_32.bias - requires_grad: False\n",
      "decoder.skip_64.weight - requires_grad: False\n",
      "decoder.skip_64.bias - requires_grad: False\n",
      "decoder.skip_128.weight - requires_grad: False\n",
      "decoder.skip_128.bias - requires_grad: False\n",
      "decoder.final_conv.weight - requires_grad: True\n",
      "decoder.final_conv.bias - requires_grad: True\n",
      "decoder.aux1_conv.weight - requires_grad: True\n",
      "decoder.aux1_conv.bias - requires_grad: True\n",
      "decoder.aux2_conv.weight - requires_grad: True\n",
      "decoder.aux2_conv.bias - requires_grad: True\n"
     ]
    }
   ],
   "source": [
    "# Confirm:\n",
    "for name, param in model.named_parameters():\n",
    "    print(f\"{name} - requires_grad: {param.requires_grad}\")"
   ]
  },
  {
   "cell_type": "code",
   "execution_count": 52,
   "id": "c517d895",
   "metadata": {},
   "outputs": [
    {
     "name": "stderr",
     "output_type": "stream",
     "text": [
      "Fine-tuning Epoch 1: 100%|██████████| 25/25 [00:03<00:00,  8.24it/s, loss=2.11]\n"
     ]
    },
    {
     "name": "stdout",
     "output_type": "stream",
     "text": [
      "Epoch 1 Loss: 2.0700\n"
     ]
    },
    {
     "name": "stderr",
     "output_type": "stream",
     "text": [
      "Fine-tuning Epoch 2: 100%|██████████| 25/25 [00:03<00:00,  8.27it/s, loss=2.13]\n"
     ]
    },
    {
     "name": "stdout",
     "output_type": "stream",
     "text": [
      "Epoch 2 Loss: 2.0436\n"
     ]
    },
    {
     "name": "stderr",
     "output_type": "stream",
     "text": [
      "Fine-tuning Epoch 3: 100%|██████████| 25/25 [00:03<00:00,  8.28it/s, loss=2.11]\n"
     ]
    },
    {
     "name": "stdout",
     "output_type": "stream",
     "text": [
      "Epoch 3 Loss: 2.0236\n"
     ]
    },
    {
     "name": "stderr",
     "output_type": "stream",
     "text": [
      "Fine-tuning Epoch 4: 100%|██████████| 25/25 [00:03<00:00,  8.18it/s, loss=2.12]\n"
     ]
    },
    {
     "name": "stdout",
     "output_type": "stream",
     "text": [
      "Epoch 4 Loss: 2.0131\n"
     ]
    },
    {
     "name": "stderr",
     "output_type": "stream",
     "text": [
      "Fine-tuning Epoch 5: 100%|██████████| 25/25 [00:03<00:00,  8.18it/s, loss=2.13]\n"
     ]
    },
    {
     "name": "stdout",
     "output_type": "stream",
     "text": [
      "Epoch 5 Loss: 2.0018\n"
     ]
    },
    {
     "name": "stderr",
     "output_type": "stream",
     "text": [
      "Fine-tuning Epoch 6: 100%|██████████| 25/25 [00:03<00:00,  8.31it/s, loss=2.07]\n"
     ]
    },
    {
     "name": "stdout",
     "output_type": "stream",
     "text": [
      "Epoch 6 Loss: 1.9800\n"
     ]
    },
    {
     "name": "stderr",
     "output_type": "stream",
     "text": [
      "Fine-tuning Epoch 7: 100%|██████████| 25/25 [00:03<00:00,  8.25it/s, loss=2.05]\n"
     ]
    },
    {
     "name": "stdout",
     "output_type": "stream",
     "text": [
      "Epoch 7 Loss: 1.9709\n"
     ]
    },
    {
     "name": "stderr",
     "output_type": "stream",
     "text": [
      "Fine-tuning Epoch 8: 100%|██████████| 25/25 [00:03<00:00,  8.26it/s, loss=2.03]\n"
     ]
    },
    {
     "name": "stdout",
     "output_type": "stream",
     "text": [
      "Epoch 8 Loss: 1.9591\n"
     ]
    },
    {
     "name": "stderr",
     "output_type": "stream",
     "text": [
      "Fine-tuning Epoch 9: 100%|██████████| 25/25 [00:03<00:00,  8.26it/s, loss=2.04]\n"
     ]
    },
    {
     "name": "stdout",
     "output_type": "stream",
     "text": [
      "Epoch 9 Loss: 1.9505\n"
     ]
    },
    {
     "name": "stderr",
     "output_type": "stream",
     "text": [
      "Fine-tuning Epoch 10: 100%|██████████| 25/25 [00:03<00:00,  8.23it/s, loss=2]   \n"
     ]
    },
    {
     "name": "stdout",
     "output_type": "stream",
     "text": [
      "Epoch 10 Loss: 1.9401\n"
     ]
    },
    {
     "name": "stderr",
     "output_type": "stream",
     "text": [
      "Fine-tuning Epoch 11: 100%|██████████| 25/25 [00:03<00:00,  8.22it/s, loss=2.01]\n"
     ]
    },
    {
     "name": "stdout",
     "output_type": "stream",
     "text": [
      "Epoch 11 Loss: 1.9257\n"
     ]
    },
    {
     "name": "stderr",
     "output_type": "stream",
     "text": [
      "Fine-tuning Epoch 12: 100%|██████████| 25/25 [00:03<00:00,  8.25it/s, loss=1.98]\n"
     ]
    },
    {
     "name": "stdout",
     "output_type": "stream",
     "text": [
      "Epoch 12 Loss: 1.9303\n"
     ]
    },
    {
     "name": "stderr",
     "output_type": "stream",
     "text": [
      "Fine-tuning Epoch 13: 100%|██████████| 25/25 [00:03<00:00,  8.24it/s, loss=1.99]\n"
     ]
    },
    {
     "name": "stdout",
     "output_type": "stream",
     "text": [
      "Epoch 13 Loss: 1.9121\n"
     ]
    },
    {
     "name": "stderr",
     "output_type": "stream",
     "text": [
      "Fine-tuning Epoch 14: 100%|██████████| 25/25 [00:03<00:00,  8.29it/s, loss=2]   \n"
     ]
    },
    {
     "name": "stdout",
     "output_type": "stream",
     "text": [
      "Epoch 14 Loss: 1.9171\n"
     ]
    },
    {
     "name": "stderr",
     "output_type": "stream",
     "text": [
      "Fine-tuning Epoch 15: 100%|██████████| 25/25 [00:03<00:00,  8.23it/s, loss=1.96]\n"
     ]
    },
    {
     "name": "stdout",
     "output_type": "stream",
     "text": [
      "Epoch 15 Loss: 1.9035\n"
     ]
    },
    {
     "name": "stderr",
     "output_type": "stream",
     "text": [
      "Fine-tuning Epoch 16: 100%|██████████| 25/25 [00:03<00:00,  8.24it/s, loss=1.99]\n"
     ]
    },
    {
     "name": "stdout",
     "output_type": "stream",
     "text": [
      "Epoch 16 Loss: 1.9024\n"
     ]
    },
    {
     "name": "stderr",
     "output_type": "stream",
     "text": [
      "Fine-tuning Epoch 17: 100%|██████████| 25/25 [00:03<00:00,  8.22it/s, loss=1.97]\n"
     ]
    },
    {
     "name": "stdout",
     "output_type": "stream",
     "text": [
      "Epoch 17 Loss: 1.9002\n"
     ]
    },
    {
     "name": "stderr",
     "output_type": "stream",
     "text": [
      "Fine-tuning Epoch 18: 100%|██████████| 25/25 [00:03<00:00,  8.24it/s, loss=1.97]\n"
     ]
    },
    {
     "name": "stdout",
     "output_type": "stream",
     "text": [
      "Epoch 18 Loss: 1.8929\n"
     ]
    },
    {
     "name": "stderr",
     "output_type": "stream",
     "text": [
      "Fine-tuning Epoch 19: 100%|██████████| 25/25 [00:03<00:00,  8.27it/s, loss=1.97]\n"
     ]
    },
    {
     "name": "stdout",
     "output_type": "stream",
     "text": [
      "Epoch 19 Loss: 1.8942\n"
     ]
    },
    {
     "name": "stderr",
     "output_type": "stream",
     "text": [
      "Fine-tuning Epoch 20: 100%|██████████| 25/25 [00:03<00:00,  8.20it/s, loss=1.96]\n"
     ]
    },
    {
     "name": "stdout",
     "output_type": "stream",
     "text": [
      "Epoch 20 Loss: 1.8910\n"
     ]
    },
    {
     "name": "stderr",
     "output_type": "stream",
     "text": [
      "Fine-tuning Epoch 21: 100%|██████████| 25/25 [00:03<00:00,  8.29it/s, loss=1.97]\n"
     ]
    },
    {
     "name": "stdout",
     "output_type": "stream",
     "text": [
      "Epoch 21 Loss: 1.8866\n"
     ]
    },
    {
     "name": "stderr",
     "output_type": "stream",
     "text": [
      "Fine-tuning Epoch 22: 100%|██████████| 25/25 [00:03<00:00,  8.30it/s, loss=1.97]\n"
     ]
    },
    {
     "name": "stdout",
     "output_type": "stream",
     "text": [
      "Epoch 22 Loss: 1.8798\n"
     ]
    },
    {
     "name": "stderr",
     "output_type": "stream",
     "text": [
      "Fine-tuning Epoch 23: 100%|██████████| 25/25 [00:03<00:00,  8.18it/s, loss=1.98]\n"
     ]
    },
    {
     "name": "stdout",
     "output_type": "stream",
     "text": [
      "Epoch 23 Loss: 1.8852\n"
     ]
    },
    {
     "name": "stderr",
     "output_type": "stream",
     "text": [
      "Fine-tuning Epoch 24: 100%|██████████| 25/25 [00:03<00:00,  8.22it/s, loss=1.95]\n"
     ]
    },
    {
     "name": "stdout",
     "output_type": "stream",
     "text": [
      "Epoch 24 Loss: 1.8702\n"
     ]
    },
    {
     "name": "stderr",
     "output_type": "stream",
     "text": [
      "Fine-tuning Epoch 25: 100%|██████████| 25/25 [00:03<00:00,  8.25it/s, loss=1.95]\n"
     ]
    },
    {
     "name": "stdout",
     "output_type": "stream",
     "text": [
      "Epoch 25 Loss: 1.8726\n"
     ]
    },
    {
     "name": "stderr",
     "output_type": "stream",
     "text": [
      "Fine-tuning Epoch 26: 100%|██████████| 25/25 [00:03<00:00,  8.20it/s, loss=1.97]\n"
     ]
    },
    {
     "name": "stdout",
     "output_type": "stream",
     "text": [
      "Epoch 26 Loss: 1.8675\n"
     ]
    },
    {
     "name": "stderr",
     "output_type": "stream",
     "text": [
      "Fine-tuning Epoch 27: 100%|██████████| 25/25 [00:03<00:00,  8.19it/s, loss=1.97]\n"
     ]
    },
    {
     "name": "stdout",
     "output_type": "stream",
     "text": [
      "Epoch 27 Loss: 1.8645\n"
     ]
    },
    {
     "name": "stderr",
     "output_type": "stream",
     "text": [
      "Fine-tuning Epoch 28: 100%|██████████| 25/25 [00:03<00:00,  8.21it/s, loss=1.97]\n"
     ]
    },
    {
     "name": "stdout",
     "output_type": "stream",
     "text": [
      "Epoch 28 Loss: 1.8586\n"
     ]
    },
    {
     "name": "stderr",
     "output_type": "stream",
     "text": [
      "Fine-tuning Epoch 29: 100%|██████████| 25/25 [00:03<00:00,  8.14it/s, loss=1.98]\n"
     ]
    },
    {
     "name": "stdout",
     "output_type": "stream",
     "text": [
      "Epoch 29 Loss: 1.8673\n"
     ]
    },
    {
     "name": "stderr",
     "output_type": "stream",
     "text": [
      "Fine-tuning Epoch 30: 100%|██████████| 25/25 [00:03<00:00,  8.20it/s, loss=1.92]\n"
     ]
    },
    {
     "name": "stdout",
     "output_type": "stream",
     "text": [
      "Epoch 30 Loss: 1.8617\n"
     ]
    },
    {
     "name": "stderr",
     "output_type": "stream",
     "text": [
      "Fine-tuning Epoch 31: 100%|██████████| 25/25 [00:03<00:00,  8.22it/s, loss=1.97]\n"
     ]
    },
    {
     "name": "stdout",
     "output_type": "stream",
     "text": [
      "Epoch 31 Loss: 1.8635\n"
     ]
    },
    {
     "name": "stderr",
     "output_type": "stream",
     "text": [
      "Fine-tuning Epoch 32: 100%|██████████| 25/25 [00:03<00:00,  8.16it/s, loss=1.96]\n"
     ]
    },
    {
     "name": "stdout",
     "output_type": "stream",
     "text": [
      "Epoch 32 Loss: 1.8535\n"
     ]
    },
    {
     "name": "stderr",
     "output_type": "stream",
     "text": [
      "Fine-tuning Epoch 33: 100%|██████████| 25/25 [00:03<00:00,  8.24it/s, loss=1.94]\n"
     ]
    },
    {
     "name": "stdout",
     "output_type": "stream",
     "text": [
      "Epoch 33 Loss: 1.8547\n"
     ]
    },
    {
     "name": "stderr",
     "output_type": "stream",
     "text": [
      "Fine-tuning Epoch 34: 100%|██████████| 25/25 [00:03<00:00,  8.19it/s, loss=1.93]\n"
     ]
    },
    {
     "name": "stdout",
     "output_type": "stream",
     "text": [
      "Epoch 34 Loss: 1.8506\n"
     ]
    },
    {
     "name": "stderr",
     "output_type": "stream",
     "text": [
      "Fine-tuning Epoch 35: 100%|██████████| 25/25 [00:03<00:00,  8.27it/s, loss=1.92]\n"
     ]
    },
    {
     "name": "stdout",
     "output_type": "stream",
     "text": [
      "Epoch 35 Loss: 1.8500\n"
     ]
    },
    {
     "name": "stderr",
     "output_type": "stream",
     "text": [
      "Fine-tuning Epoch 36: 100%|██████████| 25/25 [00:03<00:00,  8.21it/s, loss=1.94]\n"
     ]
    },
    {
     "name": "stdout",
     "output_type": "stream",
     "text": [
      "Epoch 36 Loss: 1.8435\n"
     ]
    },
    {
     "name": "stderr",
     "output_type": "stream",
     "text": [
      "Fine-tuning Epoch 37: 100%|██████████| 25/25 [00:03<00:00,  8.27it/s, loss=1.96]\n"
     ]
    },
    {
     "name": "stdout",
     "output_type": "stream",
     "text": [
      "Epoch 37 Loss: 1.8442\n"
     ]
    },
    {
     "name": "stderr",
     "output_type": "stream",
     "text": [
      "Fine-tuning Epoch 38: 100%|██████████| 25/25 [00:03<00:00,  8.23it/s, loss=1.96]\n"
     ]
    },
    {
     "name": "stdout",
     "output_type": "stream",
     "text": [
      "Epoch 38 Loss: 1.8417\n"
     ]
    },
    {
     "name": "stderr",
     "output_type": "stream",
     "text": [
      "Fine-tuning Epoch 39: 100%|██████████| 25/25 [00:03<00:00,  8.17it/s, loss=1.94]\n"
     ]
    },
    {
     "name": "stdout",
     "output_type": "stream",
     "text": [
      "Epoch 39 Loss: 1.8403\n"
     ]
    },
    {
     "name": "stderr",
     "output_type": "stream",
     "text": [
      "Fine-tuning Epoch 40: 100%|██████████| 25/25 [00:03<00:00,  8.18it/s, loss=1.95]\n"
     ]
    },
    {
     "name": "stdout",
     "output_type": "stream",
     "text": [
      "Epoch 40 Loss: 1.8433\n"
     ]
    },
    {
     "name": "stderr",
     "output_type": "stream",
     "text": [
      "Fine-tuning Epoch 41: 100%|██████████| 25/25 [00:03<00:00,  8.16it/s, loss=1.94]\n"
     ]
    },
    {
     "name": "stdout",
     "output_type": "stream",
     "text": [
      "Epoch 41 Loss: 1.8423\n"
     ]
    },
    {
     "name": "stderr",
     "output_type": "stream",
     "text": [
      "Fine-tuning Epoch 42: 100%|██████████| 25/25 [00:03<00:00,  8.25it/s, loss=1.93]\n"
     ]
    },
    {
     "name": "stdout",
     "output_type": "stream",
     "text": [
      "Epoch 42 Loss: 1.8415\n"
     ]
    },
    {
     "name": "stderr",
     "output_type": "stream",
     "text": [
      "Fine-tuning Epoch 43: 100%|██████████| 25/25 [00:03<00:00,  8.14it/s, loss=1.96]\n"
     ]
    },
    {
     "name": "stdout",
     "output_type": "stream",
     "text": [
      "Epoch 43 Loss: 1.8374\n"
     ]
    },
    {
     "name": "stderr",
     "output_type": "stream",
     "text": [
      "Fine-tuning Epoch 44: 100%|██████████| 25/25 [00:03<00:00,  8.18it/s, loss=1.92]\n"
     ]
    },
    {
     "name": "stdout",
     "output_type": "stream",
     "text": [
      "Epoch 44 Loss: 1.8351\n"
     ]
    },
    {
     "name": "stderr",
     "output_type": "stream",
     "text": [
      "Fine-tuning Epoch 45: 100%|██████████| 25/25 [00:03<00:00,  8.20it/s, loss=1.93]\n"
     ]
    },
    {
     "name": "stdout",
     "output_type": "stream",
     "text": [
      "Epoch 45 Loss: 1.8373\n"
     ]
    },
    {
     "name": "stderr",
     "output_type": "stream",
     "text": [
      "Fine-tuning Epoch 46: 100%|██████████| 25/25 [00:03<00:00,  8.17it/s, loss=1.94]\n"
     ]
    },
    {
     "name": "stdout",
     "output_type": "stream",
     "text": [
      "Epoch 46 Loss: 1.8373\n"
     ]
    },
    {
     "name": "stderr",
     "output_type": "stream",
     "text": [
      "Fine-tuning Epoch 47: 100%|██████████| 25/25 [00:03<00:00,  8.15it/s, loss=1.96]\n"
     ]
    },
    {
     "name": "stdout",
     "output_type": "stream",
     "text": [
      "Epoch 47 Loss: 1.8251\n"
     ]
    },
    {
     "name": "stderr",
     "output_type": "stream",
     "text": [
      "Fine-tuning Epoch 48: 100%|██████████| 25/25 [00:03<00:00,  8.15it/s, loss=1.95]\n"
     ]
    },
    {
     "name": "stdout",
     "output_type": "stream",
     "text": [
      "Epoch 48 Loss: 1.8273\n"
     ]
    },
    {
     "name": "stderr",
     "output_type": "stream",
     "text": [
      "Fine-tuning Epoch 49: 100%|██████████| 25/25 [00:03<00:00,  8.16it/s, loss=1.93]\n"
     ]
    },
    {
     "name": "stdout",
     "output_type": "stream",
     "text": [
      "Epoch 49 Loss: 1.8268\n"
     ]
    },
    {
     "name": "stderr",
     "output_type": "stream",
     "text": [
      "Fine-tuning Epoch 50: 100%|██████████| 25/25 [00:03<00:00,  8.13it/s, loss=1.93]"
     ]
    },
    {
     "name": "stdout",
     "output_type": "stream",
     "text": [
      "Epoch 50 Loss: 1.8299\n"
     ]
    },
    {
     "name": "stderr",
     "output_type": "stream",
     "text": [
      "\n"
     ]
    }
   ],
   "source": [
    "# Loss and Optimizer (only last layer is trainable)\n",
    "criterion = nn.CrossEntropyLoss(ignore_index=255)\n",
    "optimizer = optim.Adam(filter(lambda p: p.requires_grad, model.parameters()), lr=1e-4, weight_decay=1e-5)\n",
    "\n",
    "# Define device\n",
    "device = torch.device(\"cuda\" if torch.cuda.is_available() else \"cpu\")\n",
    "\n",
    "# Move model to device\n",
    "model = model.to(device)\n",
    "\n",
    "# Fine-tuning loop\n",
    "model.train()\n",
    "num_epochs = 50  # since you're just adapting the head\n",
    "for epoch in range(num_epochs):\n",
    "    total_loss = 0.0\n",
    "    loop = tqdm(kitti_loader, desc=f\"Fine-tuning Epoch {epoch+1}\")\n",
    "\n",
    "    for images, masks in loop:\n",
    "        images = images.to(device)\n",
    "        masks = masks.to(device)\n",
    "\n",
    "        images = T.Normalize(mean=[0.5]*3, std=[0.5]*3)(images)\n",
    "\n",
    "        out, _, _ = model(images)\n",
    "        loss = criterion(out, masks)\n",
    "\n",
    "        optimizer.zero_grad()\n",
    "        loss.backward()\n",
    "        optimizer.step()\n",
    "\n",
    "        total_loss += loss.item()\n",
    "        loop.set_postfix(loss=loss.item())\n",
    "\n",
    "    print(f\"Epoch {epoch+1} Loss: {total_loss/len(kitti_loader):.4f}\")\n"
   ]
  },
  {
   "cell_type": "markdown",
   "id": "9378505f",
   "metadata": {},
   "source": [
    "### Evaluating on KITTI Dataset after Fine-Tuning"
   ]
  },
  {
   "cell_type": "code",
   "execution_count": 53,
   "id": "59c56eca",
   "metadata": {},
   "outputs": [
    {
     "name": "stderr",
     "output_type": "stream",
     "text": [
      "Evaluating mIoU: 100%|██████████| 25/25 [00:03<00:00,  8.24it/s]"
     ]
    },
    {
     "name": "stdout",
     "output_type": "stream",
     "text": [
      "\n",
      "Mean IoU over validation set: 0.0446\n",
      "KITTI mIoU: 0.0446\n"
     ]
    },
    {
     "name": "stderr",
     "output_type": "stream",
     "text": [
      "\n"
     ]
    }
   ],
   "source": [
    "miou_metric = MulticlassJaccardIndex(num_classes=34, ignore_index=255).to(device)\n",
    "\n",
    "def evaluate_kitti(model, loader, device):\n",
    "    model.eval()\n",
    "    miou_metric.reset()\n",
    "\n",
    "    with torch.no_grad():\n",
    "        val_loop = tqdm(loader, desc=\"Evaluating mIoU\")\n",
    "\n",
    "        for step, (images, masks) in enumerate(val_loop):\n",
    "            images = images.to(device)\n",
    "            masks = masks.to(device)\n",
    "\n",
    "            images = T.Normalize(mean=[0.5]*3, std=[0.5]*3)(images)\n",
    "\n",
    "            outputs, _, _ = model(images) \n",
    "            preds = outputs.argmax(dim=1)\n",
    "\n",
    "            miou_metric.update(preds, masks)\n",
    "\n",
    "    mean_iou = miou_metric.compute().item()\n",
    "    print(f\"\\nMean IoU over validation set: {mean_iou:.4f}\")\n",
    "    return mean_iou\n",
    "\n",
    "val_miou = evaluate_kitti(model, kitti_loader, device)\n",
    "print(f\"KITTI mIoU: {val_miou:.4f}\")"
   ]
  },
  {
   "cell_type": "code",
   "execution_count": null,
   "id": "b0f45aae",
   "metadata": {},
   "outputs": [],
   "source": []
  },
  {
   "cell_type": "code",
   "execution_count": null,
   "id": "92594641",
   "metadata": {},
   "outputs": [],
   "source": []
  },
  {
   "cell_type": "code",
   "execution_count": null,
   "id": "49321b66",
   "metadata": {},
   "outputs": [],
   "source": [
    "# val_losses, val_ious, train_losses"
   ]
  },
  {
   "cell_type": "code",
   "execution_count": 20,
   "id": "74b4a485",
   "metadata": {},
   "outputs": [
    {
     "data": {
      "image/png": "[encoded data removed]",
      "text/plain": [
       "<Figure size 1200x400 with 2 Axes>"
      ]
     },
     "metadata": {},
     "output_type": "display_data"
    }
   ],
   "source": [
    "# Plot Loss and mIoU\n",
    "plt.figure(figsize=(12, 4))\n",
    "plt.subplot(1, 2, 1)\n",
    "plt.plot(train_losses, label=\"Train Loss\")\n",
    "plt.plot(val_losses, label=\"Val Loss\")\n",
    "plt.xlabel(\"Epoch\")\n",
    "plt.ylabel(\"Loss\")\n",
    "plt.title(\"Loss vs Epoch\")\n",
    "plt.legend()\n",
    "\n",
    "plt.subplot(1, 2, 2)\n",
    "plt.plot(val_ious, label=\"Val mIoU\", color=\"green\")\n",
    "plt.xlabel(\"Epoch\")\n",
    "plt.ylabel(\"mIoU\")\n",
    "plt.title(\"Validation mIoU\")\n",
    "plt.legend()\n",
    "\n",
    "plt.tight_layout()\n",
    "plt.show()"
   ]
  },
  {
   "cell_type": "code",
   "execution_count": 21,
   "id": "4aacd102",
   "metadata": {},
   "outputs": [
    {
     "data": {
      "image/png": "[encoded data removed]",
      "text/plain": [
       "<Figure size 640x480 with 1 Axes>"
      ]
     },
     "metadata": {},
     "output_type": "display_data"
    }
   ],
   "source": [
    "import matplotlib.pyplot as plt\n",
    "\n",
    "plt.figure()\n",
    "\n",
    "# Plot train loss (has value every epoch)\n",
    "plt.plot(range(num_epochs), train_losses, label='Train Loss')\n",
    "\n",
    "# Prepare filtered val loss and x-ticks\n",
    "val_epochs = [i for i, v in enumerate(val_losses) if v is not None]\n",
    "val_values = [v for v in val_losses if v is not None]\n",
    "\n",
    "plt.plot(val_epochs, val_values, label='Validation Loss', marker='o')\n",
    "\n",
    "plt.xlabel('Epoch')\n",
    "plt.ylabel('Loss')\n",
    "plt.title('Loss vs Epoch')\n",
    "plt.legend()\n",
    "plt.grid(True)\n",
    "# plt.savefig('loss_plot.png')\n",
    "# plt.close()\n"
   ]
  },
  {
   "cell_type": "markdown",
   "id": "ff04d52b",
   "metadata": {},
   "source": [
    "### Inference"
   ]
  }
 ],
 "metadata": {
  "kernelspec": {
   "display_name": "deeplearning",
   "language": "python",
   "name": "python3"
  },
  "language_info": {
   "codemirror_mode": {
    "name": "ipython",
    "version": 3
   },
   "file_extension": ".py",
   "mimetype": "text/x-python",
   "name": "python",
   "nbconvert_exporter": "python",
   "pygments_lexer": "ipython3",
   "version": "3.11.8"
  }
 },
 "nbformat": 4,
 "nbformat_minor": 5
}
