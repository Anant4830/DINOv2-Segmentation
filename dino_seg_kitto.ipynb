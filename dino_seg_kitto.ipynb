{
 "cells": [
  {
   "cell_type": "code",
   "execution_count": 3,
   "id": "9a2285c9",
   "metadata": {},
   "outputs": [],
   "source": [
    "import torch\n",
    "from torch.utils.data import DataLoader\n",
    "from torchvision.datasets import VOCSegmentation\n",
    "import torchvision.transforms as T\n",
    "from PIL import Image\n"
   ]
  },
  {
   "cell_type": "code",
   "execution_count": 82,
   "id": "c4ed3164",
   "metadata": {},
   "outputs": [],
   "source": [
    "#train_dataset = VOCSegmentation(root='data/', year='2012', image_set='train', download=True)\n",
    "\n",
    "# writing custom dataset, inheriting from VOCSegmentation dataset\n",
    "class VOCSegmentationWithPIL(VOCSegmentation):\n",
    "    def __init__(self, root='data', year='2012', image_set='train',\n",
    "                 download=True, image_size=(224, 224)):\n",
    "        super().__init__(root=root, year=year, image_set=image_set, download=download)\n",
    "        self.image_resize = T.Resize(image_size)\n",
    "        self.mask_transform = T.Compose([\n",
    "            T.Resize(image_size, interpolation=Image.NEAREST),\n",
    "            T.PILToTensor(),  # Keeps label values intact\n",
    "        ])\n",
    "\n",
    "    def __getitem__(self, index):\n",
    "        image, mask = super().__getitem__(index)\n",
    "        image = self.image_resize(image)  # still PIL.Image\n",
    "        mask = self.mask_transform(mask).squeeze(0).long()  # [H, W] as LongTensor\n",
    "        return image, mask"
   ]
  },
  {
   "cell_type": "code",
   "execution_count": 45,
   "id": "4aace71b",
   "metadata": {},
   "outputs": [],
   "source": [
    "def collate_fn_pil(batch):\n",
    "    images, masks = zip(*batch)  # tuple of lists\n",
    "    return list(images), torch.stack(masks)  # keep images as list of PIL\n"
   ]
  },
  {
   "cell_type": "code",
   "execution_count": 46,
   "id": "4b9259d3",
   "metadata": {},
   "outputs": [
    {
     "name": "stdout",
     "output_type": "stream",
     "text": [
      "Using downloaded and verified file: src/data_train/VOCtrainval_11-May-2012.tar\n",
      "Extracting src/data_train/VOCtrainval_11-May-2012.tar to src/data_train\n"
     ]
    }
   ],
   "source": [
    "train_dataset = VOCSegmentationWithPIL(\n",
    "    root='src/data_train',\n",
    "    year='2012',\n",
    "    image_set='train',\n",
    "    download=True,\n",
    "    image_size=(224, 224)\n",
    ")\n",
    "\n",
    "train_loader = DataLoader(\n",
    "    train_dataset,\n",
    "    batch_size=8,\n",
    "    shuffle=True,\n",
    "    num_workers=4,\n",
    "    collate_fn=collate_fn_pil,\n",
    "    pin_memory=True\n",
    ")"
   ]
  },
  {
   "cell_type": "code",
   "execution_count": 47,
   "id": "34c5e30d",
   "metadata": {},
   "outputs": [
    {
     "name": "stdout",
     "output_type": "stream",
     "text": [
      "Using downloaded and verified file: src/data_val/VOCtrainval_11-May-2012.tar\n",
      "Extracting src/data_val/VOCtrainval_11-May-2012.tar to src/data_val\n"
     ]
    }
   ],
   "source": [
    "val_dataset = VOCSegmentationWithPIL(\n",
    "    root='src/data_val',\n",
    "    year='2012',\n",
    "    image_set='val',\n",
    "    download=True,\n",
    "    image_size=(224, 224)\n",
    ")\n",
    "\n",
    "val_loader = DataLoader(\n",
    "    val_dataset,\n",
    "    batch_size=8,\n",
    "    shuffle=False,\n",
    "    num_workers=2,\n",
    "    collate_fn=collate_fn_pil,\n",
    "    pin_memory=True\n",
    ")"
   ]
  },
  {
   "cell_type": "code",
   "execution_count": 4,
   "metadata": {},
   "outputs": [],
   "source": [
    "import torch.nn as nn\n",
    "import torch.nn.functional as F\n",
    "\n",
    "class UNetDecoder(nn.Module):\n",
    "    def __init__(self, in_channels=1024, num_classes=21):\n",
    "        super().__init__()\n",
    "\n",
    "        # Upsample from 16x16 -> 32x32 -> 64x64 -> 128x128 -> 224x224\n",
    "        self.up1 = self._upsample_block(in_channels, 512)\n",
    "        self.up2 = self._upsample_block(512, 256)\n",
    "        self.up3 = self._upsample_block(256, 128)\n",
    "        self.up4 = self._upsample_block(128, 64)\n",
    "\n",
    "        # Skip connections\n",
    "        self.skip_32 = nn.Conv2d(in_channels, 512, kernel_size=1)\n",
    "        self.skip_64 = nn.Conv2d(512, 256, kernel_size=1)\n",
    "        self.skip_128 = nn.Conv2d(256, 128, kernel_size=1)\n",
    "\n",
    "        # Final prediction layer\n",
    "        self.final_conv = nn.Conv2d(64, num_classes, kernel_size=1)\n",
    "\n",
    "        # Auxiliary outputs (for deeper supervision)\n",
    "        self.aux1_conv = nn.Conv2d(128, num_classes, kernel_size=1)  # from x3\n",
    "        self.aux2_conv = nn.Conv2d(64, num_classes, kernel_size=1)   # from x4    \n",
    "    \n",
    "    def _upsample_block(self, in_ch, out_ch):\n",
    "        return nn.Sequential(\n",
    "            nn.Upsample(scale_factor=2, mode='bilinear', align_corners=False),\n",
    "            nn.Conv2d(in_ch, out_ch, kernel_size=3, padding=1),\n",
    "            nn.BatchNorm2d(out_ch),\n",
    "            nn.ReLU(inplace=True),\n",
    "            nn.Dropout2d(p=0.2)  # just Added dropout to regularize because it was observed after 20 epoch it was overfitting\n",
    "        )\n",
    "\n",
    "    def forward(self, x):\n",
    "        # x: [B, 1024, 16, 16]\n",
    "\n",
    "        x1 = self.up1(x)  # 16 -> 32\n",
    "        skip_32 = F.interpolate(self.skip_32(x), size=x1.shape[2:], mode='bilinear', align_corners=False)\n",
    "        x1 = x1 + skip_32\n",
    "\n",
    "        x2 = self.up2(x1)  # 32 -> 64\n",
    "        skip_64 = F.interpolate(self.skip_64(x1), size=x2.shape[2:], mode='bilinear', align_corners=False)\n",
    "        x2 = x2 + skip_64\n",
    "\n",
    "        x3 = self.up3(x2)  # 64 -> 128\n",
    "        skip_128 = F.interpolate(self.skip_128(x2), size=x3.shape[2:], mode='bilinear', align_corners=False)\n",
    "        x3 = x3 + skip_128\n",
    "\n",
    "        x4 = self.up4(x3)  # 128 -> 256\n",
    "\n",
    "        # Main output\n",
    "        x_out = F.interpolate(x4, size=(224, 224), mode='bilinear', align_corners=False)\n",
    "        x_out = self.final_conv(x_out)\n",
    "\n",
    "        # Auxiliary outputs\n",
    "        aux1 = F.interpolate(self.aux1_conv(x3), size=(224, 224), mode='bilinear', align_corners=False)\n",
    "        aux2 = F.interpolate(self.aux2_conv(x4), size=(224, 224), mode='bilinear', align_corners=False)\n",
    "\n",
    "        return x_out, aux1, aux2"
   ]
  },
  {
   "cell_type": "code",
   "execution_count": 5,
   "id": "b2124208",
   "metadata": {},
   "outputs": [],
   "source": [
    "import torch\n",
    "from transformers import AutoImageProcessor, Dinov2Model"
   ]
  },
  {
   "cell_type": "code",
   "execution_count": 6,
   "id": "168e5479",
   "metadata": {},
   "outputs": [],
   "source": [
    "class DinoSegModel(nn.Module):\n",
    "    def __init__(self, freeze_dino=True, num_classes=21):\n",
    "        super().__init__()\n",
    "        self.dino = Dinov2Model.from_pretrained(\"facebook/dinov2-large\")\n",
    "        self.decoder = UNetDecoder(in_channels=1024, num_classes=num_classes)\n",
    "\n",
    "        if freeze_dino:\n",
    "            # Step 1: Freeze all DINO weights\n",
    "            for param in self.dino.parameters():\n",
    "                param.requires_grad = False\n",
    "\n",
    "            # Step 2: Unfreeze last few transformer blocks for fine-tuning\n",
    "            # for name, param in self.dino.named_parameters():\n",
    "            #     if \"blocks.23\" in name or \"blocks.22\" in name:\n",
    "            #         param.requires_grad = True\n",
    "            \n",
    "            # Unfreeze last 6 blocks \n",
    "            for name, param in self.dino.named_parameters():\n",
    "                if any(f\"blocks.{i}\" in name for i in range(18, 24)):\n",
    "                    param.requires_grad = True\n",
    "\n",
    "\n",
    "    def forward(self, pixel_values):  # Input: [B, 3, 224, 224]\n",
    "        feats = self.dino(pixel_values).last_hidden_state  # [B, 257, 1024]\n",
    "        feats = feats[:, 1:, :]  # remove CLS token\n",
    "        feats = feats.reshape(-1, 16, 16, 1024).permute(0, 3, 1, 2)  # [B, 1024, 16, 16]\n",
    "\n",
    "        x_out, aux1, aux2 = self.decoder(feats)\n",
    "        return x_out, aux1, aux2"
   ]
  },
  {
   "cell_type": "code",
   "execution_count": 7,
   "id": "c0208f56",
   "metadata": {},
   "outputs": [],
   "source": [
    "device = torch.device('cuda' if torch.cuda.is_available() else 'cpu')"
   ]
  },
  {
   "cell_type": "code",
   "execution_count": null,
   "id": "57868d18",
   "metadata": {},
   "outputs": [],
   "source": [
    "import torch.nn as nn\n",
    "import torch.optim as optim\n",
    "import matplotlib.pyplot as plt\n",
    "from tqdm import tqdm  # progress bar\n",
    "\n",
    "# Model Setup\n",
    "image_processor = AutoImageProcessor.from_pretrained(\"facebook/dinov2-large\")\n",
    "model = DinoSegModel(freeze_dino=True).to(device)  # freeze_dino=False for fine-tuning\n",
    "\n",
    "# Criterion and Optimizer\n",
    "criterion = nn.CrossEntropyLoss(ignore_index=255)\n",
    "optimizer = optim.Adam(filter(lambda p: p.requires_grad, model.parameters()), lr=1e-4)\n",
    "\n",
    "num_epochs = 100\n",
    "train_losses = []\n",
    "val_losses = []\n",
    "\n",
    "model.train()\n",
    "\n",
    "def evaluate(model, val_loader, criterion, image_processor, device, epoch):\n",
    "    model.eval()\n",
    "    val_loss = 0.0\n",
    "    \n",
    "    val_loop = tqdm(val_loader, desc=f\"Validation Epoch {epoch+1}\")\n",
    "\n",
    "    with torch.no_grad():\n",
    "        for step, (images, masks) in enumerate(val_loop):\n",
    "            inputs = image_processor(images, return_tensors='pt').to(device)\n",
    "            masks = masks.to(device)\n",
    "\n",
    "            outputs, _, _ = model(inputs.pixel_values)\n",
    "            loss = criterion(outputs, masks)\n",
    "            val_loss += loss.item()\n",
    "\n",
    "            # if step == 0:\n",
    "            #     # Show predictions on first batch\n",
    "            #     preds = outputs.argmax(dim=1)\n",
    "            #     plt.figure(figsize=(10, 4))\n",
    "            #     plt.subplot(1, 3, 1)\n",
    "            #     plt.imshow(images[0])\n",
    "            #     plt.title(\"Input Image\")\n",
    "            #     plt.axis(\"off\")\n",
    "\n",
    "            #     plt.subplot(1, 3, 2)\n",
    "            #     plt.imshow(masks[0].cpu(), cmap='tab20')\n",
    "            #     plt.title(\"Ground Truth\")\n",
    "            #     plt.axis(\"off\")\n",
    "\n",
    "            #     plt.subplot(1, 3, 3)\n",
    "            #     plt.imshow(preds[0].cpu(), cmap='tab20')\n",
    "            #     plt.title(f\"Prediction (Epoch {epoch+1})\")\n",
    "            #     plt.axis(\"off\")\n",
    "            #     plt.tight_layout()\n",
    "            #     plt.show()\n",
    "\n",
    "    # model.train()\n",
    "    return val_loss / len(val_loader)\n",
    "\n",
    "for epoch in range(num_epochs):\n",
    "    model.train()\n",
    "    train_loss = 0.0\n",
    "    loop = tqdm(train_loader, desc=f\"Epoch {epoch+1}/{num_epochs}\")\n",
    "\n",
    "    for images, masks in loop:\n",
    "        inputs = image_processor(images, return_tensors='pt').to(device)\n",
    "        masks = masks.to(device)\n",
    "\n",
    "        outputs, _, _ = model(inputs.pixel_values)\n",
    "        loss = criterion(outputs, masks)\n",
    "\n",
    "        optimizer.zero_grad()\n",
    "        loss.backward()\n",
    "        optimizer.step()\n",
    "\n",
    "        train_loss += loss.item()\n",
    "        loop.set_postfix(loss=loss.item())\n",
    "\n",
    "    avg_train_loss = train_loss / len(train_loader)\n",
    "    #avg_val_loss = evaluate(model, val_loader, criterion, image_processor, device, epoch)\n",
    "    # Only evaluate every 10 epochs\n",
    "    if (epoch + 1) % 10 == 0:\n",
    "        avg_val_loss = evaluate(model, val_loader, criterion, image_processor, device, epoch)\n",
    "        val_losses.append(avg_val_loss)\n",
    "\n",
    "    train_losses.append(avg_train_loss)\n",
    "\n",
    "    print(f\"Epoch {epoch+1} | Train Loss: {avg_train_loss:.4f}\")\n",
    "    \n",
    "    if epoch >= 10:\n",
    "        print(f\"Epoch {epoch+1} | Val Loss: {avg_val_loss:.4f}\")\n"
   ]
  },
  {
   "cell_type": "code",
   "execution_count": 17,
   "id": "76e3c5ab",
   "metadata": {},
   "outputs": [
    {
     "data": {
      "text/plain": [
       "(100, 10)"
      ]
     },
     "execution_count": 17,
     "metadata": {},
     "output_type": "execute_result"
    }
   ],
   "source": [
    "len(train_losses), len(val_losses)"
   ]
  },
  {
   "cell_type": "code",
   "execution_count": 18,
   "id": "327f9894",
   "metadata": {},
   "outputs": [
    {
     "data": {
      "text/plain": [
       "[<matplotlib.lines.Line2D at 0x784e7954c950>]"
      ]
     },
     "execution_count": 18,
     "metadata": {},
     "output_type": "execute_result"
    },
    {
     "data": {
      "image/png": "[encoded data removed]",
      "text/plain": [
       "<Figure size 640x480 with 1 Axes>"
      ]
     },
     "metadata": {},
     "output_type": "display_data"
    }
   ],
   "source": [
    "plt.plot(range(num_epochs), train_losses, label='Train Loss')"
   ]
  },
  {
   "cell_type": "code",
   "execution_count": 19,
   "id": "15203be2",
   "metadata": {},
   "outputs": [
    {
     "data": {
      "text/plain": [
       "[<matplotlib.lines.Line2D at 0x784e79541210>]"
      ]
     },
     "execution_count": 19,
     "metadata": {},
     "output_type": "execute_result"
    },
    {
     "data": {
      "image/png": "[encoded data removed]",
      "text/plain": [
       "<Figure size 640x480 with 1 Axes>"
      ]
     },
     "metadata": {},
     "output_type": "display_data"
    }
   ],
   "source": [
    "plt.plot(range(10), val_losses, label='Train Loss')"
   ]
  },
  {
   "cell_type": "code",
   "execution_count": 20,
   "id": "7afa543a",
   "metadata": {},
   "outputs": [
    {
     "data": {
      "image/png": "[encoded data removed]",
      "text/plain": [
       "<Figure size 640x480 with 1 Axes>"
      ]
     },
     "metadata": {},
     "output_type": "display_data"
    }
   ],
   "source": [
    "import matplotlib.pyplot as plt\n",
    "\n",
    "plt.figure()\n",
    "\n",
    "# Plot train loss (has value every epoch)\n",
    "plt.plot(range(num_epochs), train_losses, label='Train Loss')\n",
    "\n",
    "# Prepare filtered val loss and x-ticks\n",
    "val_epochs = [i for i, v in enumerate(val_losses) if v is not None]\n",
    "val_values = [v for v in val_losses if v is not None]\n",
    "\n",
    "plt.plot(val_epochs, val_values, label='Validation Loss', marker='o')\n",
    "\n",
    "plt.xlabel('Epoch')\n",
    "plt.ylabel('Loss')\n",
    "plt.title('Loss vs Epoch')\n",
    "plt.legend()\n",
    "plt.grid(True)\n",
    "# plt.savefig('loss_plot.png')\n",
    "# plt.close()\n"
   ]
  },
  {
   "cell_type": "markdown",
   "id": "58a94f3b",
   "metadata": {},
   "source": [
    "### With checkpoints"
   ]
  },
  {
   "cell_type": "code",
   "execution_count": 99,
   "id": "cb758271",
   "metadata": {},
   "outputs": [],
   "source": [
    "from src.lovasz_losses import lovasz_softmax\n",
    "def hybrid_loss_fn(logits, target, ignore_index=255):\n",
    "    ce = F.cross_entropy(logits, target, ignore_index=ignore_index)\n",
    "    lv = lovasz_softmax(logits, target, ignore=ignore_index)\n",
    "    return ce + lv"
   ]
  },
  {
   "cell_type": "code",
   "execution_count": null,
   "id": "9ed5c854",
   "metadata": {},
   "outputs": [
    {
     "name": "stderr",
     "output_type": "stream",
     "text": [
      "Epoch 1/50: 100%|██████████| 183/183 [00:24<00:00,  7.39it/s, loss=2.94]\n"
     ]
    },
    {
     "name": "stdout",
     "output_type": "stream",
     "text": [
      "Checkpoint saved at epoch 1\n"
     ]
    },
    {
     "name": "stderr",
     "output_type": "stream",
     "text": [
      "Epoch 2/50: 100%|██████████| 183/183 [00:24<00:00,  7.39it/s, loss=1.87]\n"
     ]
    },
    {
     "name": "stdout",
     "output_type": "stream",
     "text": [
      "Checkpoint saved at epoch 2\n"
     ]
    },
    {
     "name": "stderr",
     "output_type": "stream",
     "text": [
      "Epoch 3/50: 100%|██████████| 183/183 [00:24<00:00,  7.38it/s, loss=1.29]\n"
     ]
    },
    {
     "name": "stdout",
     "output_type": "stream",
     "text": [
      "Checkpoint saved at epoch 3\n"
     ]
    },
    {
     "name": "stderr",
     "output_type": "stream",
     "text": [
      "Epoch 4/50: 100%|██████████| 183/183 [00:24<00:00,  7.33it/s, loss=1.03] \n"
     ]
    },
    {
     "name": "stdout",
     "output_type": "stream",
     "text": [
      "Checkpoint saved at epoch 4\n"
     ]
    },
    {
     "name": "stderr",
     "output_type": "stream",
     "text": [
      "Epoch 5/50: 100%|██████████| 183/183 [00:24<00:00,  7.33it/s, loss=0.727]\n"
     ]
    },
    {
     "name": "stdout",
     "output_type": "stream",
     "text": [
      "Checkpoint saved at epoch 5\n"
     ]
    },
    {
     "name": "stderr",
     "output_type": "stream",
     "text": [
      "Epoch 6/50: 100%|██████████| 183/183 [00:25<00:00,  7.31it/s, loss=0.713]\n"
     ]
    },
    {
     "name": "stdout",
     "output_type": "stream",
     "text": [
      "Checkpoint saved at epoch 6\n"
     ]
    },
    {
     "name": "stderr",
     "output_type": "stream",
     "text": [
      "Epoch 7/50: 100%|██████████| 183/183 [00:25<00:00,  7.30it/s, loss=0.59] \n"
     ]
    },
    {
     "name": "stdout",
     "output_type": "stream",
     "text": [
      "Checkpoint saved at epoch 7\n"
     ]
    },
    {
     "name": "stderr",
     "output_type": "stream",
     "text": [
      "Epoch 8/50: 100%|██████████| 183/183 [00:25<00:00,  7.29it/s, loss=0.46] \n"
     ]
    },
    {
     "name": "stdout",
     "output_type": "stream",
     "text": [
      "Checkpoint saved at epoch 8\n"
     ]
    },
    {
     "name": "stderr",
     "output_type": "stream",
     "text": [
      "Epoch 9/50: 100%|██████████| 183/183 [00:25<00:00,  7.31it/s, loss=0.453]\n"
     ]
    },
    {
     "name": "stdout",
     "output_type": "stream",
     "text": [
      "Checkpoint saved at epoch 9\n"
     ]
    },
    {
     "name": "stderr",
     "output_type": "stream",
     "text": [
      "Epoch 10/50: 100%|██████████| 183/183 [00:25<00:00,  7.28it/s, loss=0.39] \n",
      "Validation Epoch 10: 100%|██████████| 182/182 [00:25<00:00,  7.14it/s, val_loss=1.29] \n"
     ]
    },
    {
     "name": "stdout",
     "output_type": "stream",
     "text": [
      "Epoch 10 | Train Loss: 0.4374 | Val Loss: 0.3970 | Val mIoU: 0.7569\n",
      "Saved best model at epoch 10 with val loss 0.3970\n",
      "Checkpoint saved at epoch 10\n"
     ]
    },
    {
     "name": "stderr",
     "output_type": "stream",
     "text": [
      "Epoch 11/50: 100%|██████████| 183/183 [00:25<00:00,  7.31it/s, loss=0.355]\n"
     ]
    },
    {
     "name": "stdout",
     "output_type": "stream",
     "text": [
      "Checkpoint saved at epoch 11\n"
     ]
    },
    {
     "name": "stderr",
     "output_type": "stream",
     "text": [
      "Epoch 12/50: 100%|██████████| 183/183 [00:25<00:00,  7.31it/s, loss=0.484]\n"
     ]
    },
    {
     "name": "stdout",
     "output_type": "stream",
     "text": [
      "Checkpoint saved at epoch 12\n"
     ]
    },
    {
     "name": "stderr",
     "output_type": "stream",
     "text": [
      "Epoch 13/50: 100%|██████████| 183/183 [00:25<00:00,  7.29it/s, loss=0.344]\n"
     ]
    },
    {
     "name": "stdout",
     "output_type": "stream",
     "text": [
      "Checkpoint saved at epoch 13\n"
     ]
    },
    {
     "name": "stderr",
     "output_type": "stream",
     "text": [
      "Epoch 14/50: 100%|██████████| 183/183 [00:25<00:00,  7.30it/s, loss=0.283]\n"
     ]
    },
    {
     "name": "stdout",
     "output_type": "stream",
     "text": [
      "Checkpoint saved at epoch 14\n"
     ]
    },
    {
     "name": "stderr",
     "output_type": "stream",
     "text": [
      "Epoch 15/50: 100%|██████████| 183/183 [00:25<00:00,  7.30it/s, loss=0.364]\n"
     ]
    },
    {
     "name": "stdout",
     "output_type": "stream",
     "text": [
      "Checkpoint saved at epoch 15\n"
     ]
    },
    {
     "name": "stderr",
     "output_type": "stream",
     "text": [
      "Epoch 16/50: 100%|██████████| 183/183 [00:25<00:00,  7.30it/s, loss=0.302]\n"
     ]
    },
    {
     "name": "stdout",
     "output_type": "stream",
     "text": [
      "Checkpoint saved at epoch 16\n"
     ]
    },
    {
     "name": "stderr",
     "output_type": "stream",
     "text": [
      "Epoch 17/50: 100%|██████████| 183/183 [00:25<00:00,  7.29it/s, loss=0.186]\n"
     ]
    },
    {
     "name": "stdout",
     "output_type": "stream",
     "text": [
      "Checkpoint saved at epoch 17\n"
     ]
    },
    {
     "name": "stderr",
     "output_type": "stream",
     "text": [
      "Epoch 18/50: 100%|██████████| 183/183 [00:25<00:00,  7.26it/s, loss=0.167]\n"
     ]
    },
    {
     "name": "stdout",
     "output_type": "stream",
     "text": [
      "Checkpoint saved at epoch 18\n"
     ]
    },
    {
     "name": "stderr",
     "output_type": "stream",
     "text": [
      "Epoch 19/50: 100%|██████████| 183/183 [00:25<00:00,  7.29it/s, loss=0.305]\n"
     ]
    },
    {
     "name": "stdout",
     "output_type": "stream",
     "text": [
      "Checkpoint saved at epoch 19\n"
     ]
    },
    {
     "name": "stderr",
     "output_type": "stream",
     "text": [
      "Epoch 20/50: 100%|██████████| 183/183 [00:25<00:00,  7.28it/s, loss=0.233]\n",
      "Validation Epoch 20: 100%|██████████| 182/182 [00:25<00:00,  7.08it/s, val_loss=0.343] \n"
     ]
    },
    {
     "name": "stdout",
     "output_type": "stream",
     "text": [
      "Epoch 20 | Train Loss: 0.2232 | Val Loss: 0.2808 | Val mIoU: 0.7878\n",
      "Saved best model at epoch 20 with val loss 0.2808\n",
      "Checkpoint saved at epoch 20\n"
     ]
    },
    {
     "name": "stderr",
     "output_type": "stream",
     "text": [
      "Epoch 21/50: 100%|██████████| 183/183 [00:25<00:00,  7.29it/s, loss=0.186]\n"
     ]
    },
    {
     "name": "stdout",
     "output_type": "stream",
     "text": [
      "Checkpoint saved at epoch 21\n"
     ]
    },
    {
     "name": "stderr",
     "output_type": "stream",
     "text": [
      "Epoch 22/50: 100%|██████████| 183/183 [00:25<00:00,  7.26it/s, loss=0.331]\n"
     ]
    },
    {
     "name": "stdout",
     "output_type": "stream",
     "text": [
      "Checkpoint saved at epoch 22\n"
     ]
    },
    {
     "name": "stderr",
     "output_type": "stream",
     "text": [
      "Epoch 23/50: 100%|██████████| 183/183 [00:25<00:00,  7.28it/s, loss=0.152]\n"
     ]
    },
    {
     "name": "stdout",
     "output_type": "stream",
     "text": [
      "Checkpoint saved at epoch 23\n"
     ]
    },
    {
     "name": "stderr",
     "output_type": "stream",
     "text": [
      "Epoch 24/50: 100%|██████████| 183/183 [00:25<00:00,  7.30it/s, loss=0.241]\n"
     ]
    },
    {
     "name": "stdout",
     "output_type": "stream",
     "text": [
      "Checkpoint saved at epoch 24\n"
     ]
    },
    {
     "name": "stderr",
     "output_type": "stream",
     "text": [
      "Epoch 25/50: 100%|██████████| 183/183 [00:25<00:00,  7.29it/s, loss=0.166] \n"
     ]
    },
    {
     "name": "stdout",
     "output_type": "stream",
     "text": [
      "Checkpoint saved at epoch 25\n"
     ]
    },
    {
     "name": "stderr",
     "output_type": "stream",
     "text": [
      "Epoch 26/50: 100%|██████████| 183/183 [00:25<00:00,  7.29it/s, loss=0.126] \n"
     ]
    },
    {
     "name": "stdout",
     "output_type": "stream",
     "text": [
      "Checkpoint saved at epoch 26\n"
     ]
    },
    {
     "name": "stderr",
     "output_type": "stream",
     "text": [
      "Epoch 27/50: 100%|██████████| 183/183 [00:25<00:00,  7.30it/s, loss=0.195] \n"
     ]
    },
    {
     "name": "stdout",
     "output_type": "stream",
     "text": [
      "Checkpoint saved at epoch 27\n"
     ]
    },
    {
     "name": "stderr",
     "output_type": "stream",
     "text": [
      "Epoch 28/50: 100%|██████████| 183/183 [00:25<00:00,  7.29it/s, loss=0.132] \n"
     ]
    },
    {
     "name": "stdout",
     "output_type": "stream",
     "text": [
      "Checkpoint saved at epoch 28\n"
     ]
    },
    {
     "name": "stderr",
     "output_type": "stream",
     "text": [
      "Epoch 29/50: 100%|██████████| 183/183 [00:25<00:00,  7.30it/s, loss=0.216] \n"
     ]
    },
    {
     "name": "stdout",
     "output_type": "stream",
     "text": [
      "Checkpoint saved at epoch 29\n"
     ]
    },
    {
     "name": "stderr",
     "output_type": "stream",
     "text": [
      "Epoch 30/50: 100%|██████████| 183/183 [00:25<00:00,  7.26it/s, loss=0.149] \n",
      "Validation Epoch 30: 100%|██████████| 182/182 [00:25<00:00,  7.08it/s, val_loss=0.228] \n"
     ]
    },
    {
     "name": "stdout",
     "output_type": "stream",
     "text": [
      "Epoch 30 | Train Loss: 0.1555 | Val Loss: 0.2674 | Val mIoU: 0.7931\n",
      "Saved best model at epoch 30 with val loss 0.2674\n",
      "Checkpoint saved at epoch 30\n"
     ]
    },
    {
     "name": "stderr",
     "output_type": "stream",
     "text": [
      "Epoch 31/50: 100%|██████████| 183/183 [00:25<00:00,  7.31it/s, loss=0.123] \n"
     ]
    },
    {
     "name": "stdout",
     "output_type": "stream",
     "text": [
      "Checkpoint saved at epoch 31\n"
     ]
    },
    {
     "name": "stderr",
     "output_type": "stream",
     "text": [
      "Epoch 32/50: 100%|██████████| 183/183 [00:25<00:00,  7.29it/s, loss=0.137] \n"
     ]
    },
    {
     "name": "stdout",
     "output_type": "stream",
     "text": [
      "Checkpoint saved at epoch 32\n"
     ]
    },
    {
     "name": "stderr",
     "output_type": "stream",
     "text": [
      "Epoch 33/50: 100%|██████████| 183/183 [00:25<00:00,  7.28it/s, loss=0.125] \n"
     ]
    },
    {
     "name": "stdout",
     "output_type": "stream",
     "text": [
      "Checkpoint saved at epoch 33\n"
     ]
    },
    {
     "name": "stderr",
     "output_type": "stream",
     "text": [
      "Epoch 34/50: 100%|██████████| 183/183 [00:25<00:00,  7.30it/s, loss=0.134] \n"
     ]
    },
    {
     "name": "stdout",
     "output_type": "stream",
     "text": [
      "Checkpoint saved at epoch 34\n"
     ]
    },
    {
     "name": "stderr",
     "output_type": "stream",
     "text": [
      "Epoch 35/50: 100%|██████████| 183/183 [00:25<00:00,  7.28it/s, loss=0.327] \n"
     ]
    },
    {
     "name": "stdout",
     "output_type": "stream",
     "text": [
      "Checkpoint saved at epoch 35\n"
     ]
    },
    {
     "name": "stderr",
     "output_type": "stream",
     "text": [
      "Epoch 36/50: 100%|██████████| 183/183 [00:25<00:00,  7.28it/s, loss=0.195] \n"
     ]
    },
    {
     "name": "stdout",
     "output_type": "stream",
     "text": [
      "Checkpoint saved at epoch 36\n"
     ]
    },
    {
     "name": "stderr",
     "output_type": "stream",
     "text": [
      "Epoch 37/50: 100%|██████████| 183/183 [00:25<00:00,  7.26it/s, loss=0.146] \n"
     ]
    },
    {
     "name": "stdout",
     "output_type": "stream",
     "text": [
      "Checkpoint saved at epoch 37\n"
     ]
    },
    {
     "name": "stderr",
     "output_type": "stream",
     "text": [
      "Epoch 38/50: 100%|██████████| 183/183 [00:25<00:00,  7.27it/s, loss=0.0946]\n"
     ]
    },
    {
     "name": "stdout",
     "output_type": "stream",
     "text": [
      "Checkpoint saved at epoch 38\n"
     ]
    },
    {
     "name": "stderr",
     "output_type": "stream",
     "text": [
      "Epoch 39/50: 100%|██████████| 183/183 [00:25<00:00,  7.28it/s, loss=0.179] \n"
     ]
    },
    {
     "name": "stdout",
     "output_type": "stream",
     "text": [
      "Checkpoint saved at epoch 39\n"
     ]
    },
    {
     "name": "stderr",
     "output_type": "stream",
     "text": [
      "Epoch 40/50: 100%|██████████| 183/183 [00:25<00:00,  7.28it/s, loss=0.135] \n",
      "Validation Epoch 40: 100%|██████████| 182/182 [00:25<00:00,  7.07it/s, val_loss=0.281] \n"
     ]
    },
    {
     "name": "stdout",
     "output_type": "stream",
     "text": [
      "Epoch 40 | Train Loss: 0.1239 | Val Loss: 0.2745 | Val mIoU: 0.7929\n",
      "Checkpoint saved at epoch 40\n"
     ]
    },
    {
     "name": "stderr",
     "output_type": "stream",
     "text": [
      "Epoch 41/50: 100%|██████████| 183/183 [00:25<00:00,  7.27it/s, loss=0.0852]\n"
     ]
    },
    {
     "name": "stdout",
     "output_type": "stream",
     "text": [
      "Checkpoint saved at epoch 41\n"
     ]
    },
    {
     "name": "stderr",
     "output_type": "stream",
     "text": [
      "Epoch 42/50: 100%|██████████| 183/183 [00:25<00:00,  7.29it/s, loss=0.139] \n"
     ]
    },
    {
     "name": "stdout",
     "output_type": "stream",
     "text": [
      "Checkpoint saved at epoch 42\n"
     ]
    },
    {
     "name": "stderr",
     "output_type": "stream",
     "text": [
      "Epoch 43/50: 100%|██████████| 183/183 [00:25<00:00,  7.29it/s, loss=0.149] \n"
     ]
    },
    {
     "name": "stdout",
     "output_type": "stream",
     "text": [
      "Checkpoint saved at epoch 43\n"
     ]
    },
    {
     "name": "stderr",
     "output_type": "stream",
     "text": [
      "Epoch 44/50: 100%|██████████| 183/183 [00:25<00:00,  7.28it/s, loss=0.0788]\n"
     ]
    },
    {
     "name": "stdout",
     "output_type": "stream",
     "text": [
      "Checkpoint saved at epoch 44\n"
     ]
    },
    {
     "name": "stderr",
     "output_type": "stream",
     "text": [
      "Epoch 45/50: 100%|██████████| 183/183 [00:25<00:00,  7.27it/s, loss=0.0999]\n"
     ]
    },
    {
     "name": "stdout",
     "output_type": "stream",
     "text": [
      "Checkpoint saved at epoch 45\n"
     ]
    },
    {
     "name": "stderr",
     "output_type": "stream",
     "text": [
      "Epoch 46/50: 100%|██████████| 183/183 [00:25<00:00,  7.30it/s, loss=0.0983]\n"
     ]
    },
    {
     "name": "stdout",
     "output_type": "stream",
     "text": [
      "Checkpoint saved at epoch 46\n"
     ]
    },
    {
     "name": "stderr",
     "output_type": "stream",
     "text": [
      "Epoch 47/50: 100%|██████████| 183/183 [00:25<00:00,  7.30it/s, loss=0.115] \n"
     ]
    },
    {
     "name": "stdout",
     "output_type": "stream",
     "text": [
      "Checkpoint saved at epoch 47\n"
     ]
    },
    {
     "name": "stderr",
     "output_type": "stream",
     "text": [
      "Epoch 48/50: 100%|██████████| 183/183 [00:25<00:00,  7.31it/s, loss=0.0858]\n"
     ]
    },
    {
     "name": "stdout",
     "output_type": "stream",
     "text": [
      "Checkpoint saved at epoch 48\n"
     ]
    },
    {
     "name": "stderr",
     "output_type": "stream",
     "text": [
      "Epoch 49/50: 100%|██████████| 183/183 [00:25<00:00,  7.31it/s, loss=0.0943]\n"
     ]
    },
    {
     "name": "stdout",
     "output_type": "stream",
     "text": [
      "Checkpoint saved at epoch 49\n"
     ]
    },
    {
     "name": "stderr",
     "output_type": "stream",
     "text": [
      "Epoch 50/50: 100%|██████████| 183/183 [00:25<00:00,  7.31it/s, loss=0.0931]\n",
      "Validation Epoch 50: 100%|██████████| 182/182 [00:25<00:00,  7.07it/s, val_loss=0.229] \n"
     ]
    },
    {
     "name": "stdout",
     "output_type": "stream",
     "text": [
      "Epoch 50 | Train Loss: 0.1106 | Val Loss: 0.2759 | Val mIoU: 0.7931\n",
      "Checkpoint saved at epoch 50\n"
     ]
    }
   ],
   "source": [
    "import torch.nn as nn\n",
    "import torch.optim as optim\n",
    "from torchmetrics.classification import MulticlassJaccardIndex\n",
    "import matplotlib.pyplot as plt\n",
    "from tqdm import tqdm\n",
    "import os\n",
    "\n",
    "# ------------------ Setup ------------------\n",
    "num_classes = 21\n",
    "ignore_index = 255\n",
    "device = torch.device(\"cuda\" if torch.cuda.is_available() else \"cpu\")\n",
    "\n",
    "# Model\n",
    "model = DinoSegModel(freeze_dino=True).to(device)\n",
    "image_processor = AutoImageProcessor.from_pretrained(\"facebook/dinov2-large\")\n",
    "\n",
    "# Loss, Optimizer, Scheduler\n",
    "criterion = nn.CrossEntropyLoss(ignore_index=ignore_index)\n",
    "\n",
    "# from src.lovasz_losses import lovasz_softmax\n",
    "# def lovasz_loss_fn(logits, targets):\n",
    "#     return lovasz_softmax(logits, targets, ignore=255)\n",
    "# criterion = lovasz_loss_fn\n",
    "\n",
    "#criterion = hybrid_loss_fn\n",
    "\n",
    "optimizer = optim.Adam(filter(lambda p: p.requires_grad, model.parameters()), lr=1e-4)\n",
    "scheduler = optim.lr_scheduler.ReduceLROnPlateau(optimizer, mode='min', factor=0.5, patience=2, verbose=True)\n",
    "\n",
    "# Metric\n",
    "miou_metric = MulticlassJaccardIndex(num_classes=num_classes, ignore_index=ignore_index).to(device)\n",
    "\n",
    "# Training config\n",
    "num_epochs = 50\n",
    "train_losses, val_losses, val_ious = [], [], []\n",
    "\n",
    "# Paths\n",
    "best_model_path = \"best_model.pth\"\n",
    "checkpoint_path = \"last_checkpoint.pth\"\n",
    "best_val_loss = float('inf')\n",
    "start_epoch = 0\n",
    "\n",
    "# ------------------ Load from Checkpoint (if exists) ------------------\n",
    "if os.path.exists(checkpoint_path):\n",
    "    checkpoint = torch.load(checkpoint_path)\n",
    "    model.load_state_dict(checkpoint['model_state_dict'])\n",
    "    optimizer.load_state_dict(checkpoint['optimizer_state_dict'])\n",
    "    scheduler.load_state_dict(checkpoint['scheduler_state_dict'])\n",
    "    start_epoch = checkpoint['epoch'] + 1\n",
    "    best_val_loss = checkpoint['best_val_loss']\n",
    "    print(f\"Resumed training from checkpoint at epoch {start_epoch}\")\n",
    "\n",
    "# ------------------ Validation ------------------\n",
    "def evaluate(model, loader, criterion, image_processor, device, epoch):\n",
    "    model.eval()\n",
    "    val_loss = 0.0\n",
    "    miou_metric.reset()\n",
    "    save_dir = os.path.join(\"val_preds_kitto\", f\"epoch_{epoch+1}\")\n",
    "    os.makedirs(save_dir, exist_ok=True)\n",
    "\n",
    "    with torch.no_grad():\n",
    "        val_loop = tqdm(loader, desc=f\"Validation Epoch {epoch+1}\")\n",
    "        for step, (images, masks) in enumerate(val_loop):\n",
    "            #inputs = image_processor(images, return_tensors='pt').to(device)\n",
    "            inputs = torch.stack([T.ToTensor()(img) for img in images]).to(device)\n",
    "            inputs = T.Normalize(mean=[0.5]*3, std=[0.5]*3)(inputs)\n",
    "            masks = masks.to(device)\n",
    "            \n",
    "            # outputs, _, _ = model(inputs.pixel_values)\n",
    "            outputs, _, _ = model(inputs)\n",
    "            loss = criterion(outputs, masks)\n",
    "            \n",
    "            #out, aux1, aux2 = model(inputs.pixel_values) # if using AutoImageProcessor of DINO\n",
    "            # out, aux1, aux2 = model(inputs)\n",
    "            # main_loss = criterion(out, masks)\n",
    "            # aux_loss1 = criterion(aux1, F.interpolate(masks.unsqueeze(1).float(), size=aux1.shape[2:], mode='nearest').squeeze(1).long())\n",
    "            # aux_loss2 = criterion(aux2, F.interpolate(masks.unsqueeze(1).float(), size=aux2.shape[2:], mode='nearest').squeeze(1).long())\n",
    "            # loss = main_loss + 0.4 * aux_loss1 + 0.4 * aux_loss2\n",
    "        \n",
    "            val_loss += loss.item()\n",
    "            val_loop.set_postfix(val_loss=loss.item())\n",
    "\n",
    "            preds = outputs.argmax(dim=1)\n",
    "            #preds = out.argmax(dim=1)\n",
    "            miou_metric.update(preds, masks)\n",
    "\n",
    "            # Save every sample in the batch\n",
    "            for i in range(len(images)):\n",
    "                image_np = images[i]\n",
    "                mask_np = masks[i].cpu().numpy()\n",
    "                pred_np = preds[i].cpu().numpy()\n",
    "\n",
    "                #plt.imsave(os.path.join(save_dir, f\"image_{step}_{i}.jpg\"), image_np)\n",
    "                plt.imsave(os.path.join(save_dir, f\"gt_{step}_{i}.png\"), mask_np, cmap='nipy_spectral')\n",
    "                plt.imsave(os.path.join(save_dir, f\"pred_{step}_{i}.png\"), pred_np, cmap='nipy_spectral')\n",
    "\n",
    "    return val_loss / len(loader), miou_metric.compute().item()\n",
    "\n",
    "# ------------------ Training Loop ------------------\n",
    "for epoch in range(start_epoch, num_epochs):\n",
    "    model.train()\n",
    "    train_loss = 0.0\n",
    "    loop = tqdm(train_loader, desc=f\"Epoch {epoch+1}/{num_epochs}\")\n",
    "\n",
    "    for images, masks in loop:\n",
    "        #inputs = image_processor(images, return_tensors='pt').to(device)\n",
    "        \n",
    "        inputs = torch.stack([T.ToTensor()(img) for img in images]).to(device)\n",
    "        inputs = T.Normalize(mean=[0.5]*3, std=[0.5]*3)(inputs)\n",
    "        \n",
    "        masks = masks.to(device)\n",
    "\n",
    "        # outputs, _, _ = model(inputs.pixel_values)\n",
    "        outputs, _, _ = model(inputs)\n",
    "        loss = criterion(outputs, masks)\n",
    "        \n",
    "        #out, aux1, aux2 = model(inputs.pixel_values)\n",
    "        # out, aux1, aux2 = model(inputs)\n",
    "        # main_loss = criterion(out, masks)\n",
    "        # aux_loss1 = criterion(aux1, F.interpolate(masks.unsqueeze(1).float(), size=aux1.shape[2:], mode='nearest').squeeze(1).long())\n",
    "        # aux_loss2 = criterion(aux2, F.interpolate(masks.unsqueeze(1).float(), size=aux2.shape[2:], mode='nearest').squeeze(1).long())\n",
    "        # loss = main_loss + 0.4 * aux_loss1 + 0.4 * aux_loss2\n",
    "        \n",
    "        \n",
    "        optimizer.zero_grad()\n",
    "        loss.backward()\n",
    "        optimizer.step()\n",
    "\n",
    "        train_loss += loss.item()\n",
    "        loop.set_postfix(loss=loss.item())\n",
    "\n",
    "    avg_train_loss = train_loss / len(train_loader)\n",
    "    train_losses.append(avg_train_loss)\n",
    "\n",
    "    # Evaluate only every 10 epochs\n",
    "    if (epoch + 1) % 10 == 0:\n",
    "        avg_val_loss, val_miou = evaluate(model, val_loader, criterion, image_processor, device, epoch)\n",
    "        scheduler.step(avg_val_loss)\n",
    "        val_losses.append(avg_val_loss)\n",
    "        val_ious.append(val_miou)\n",
    "\n",
    "        print(f\"Epoch {epoch+1} | Train Loss: {avg_train_loss:.4f} | Val Loss: {avg_val_loss:.4f} | Val mIoU: {val_miou:.4f}\")\n",
    "\n",
    "        # Save best model\n",
    "        if avg_val_loss < best_val_loss:\n",
    "            best_val_loss = avg_val_loss\n",
    "            torch.save(model.state_dict(), best_model_path)\n",
    "            print(f\"Saved best model at epoch {epoch+1} with val loss {avg_val_loss:.4f}\")\n",
    "    else:\n",
    "        val_losses.append(None)\n",
    "        val_ious.append(None)\n",
    "\n",
    "    # Save checkpoint every epoch\n",
    "    checkpoint = {\n",
    "        'epoch': epoch,\n",
    "        'model_state_dict': model.state_dict(),\n",
    "        'optimizer_state_dict': optimizer.state_dict(),\n",
    "        'scheduler_state_dict': scheduler.state_dict(),\n",
    "        'best_val_loss': best_val_loss\n",
    "    }\n",
    "    torch.save(checkpoint, checkpoint_path)\n",
    "    print(f\"Checkpoint saved at epoch {epoch+1}\")\n"
   ]
  },
  {
   "cell_type": "code",
   "execution_count": 9,
   "id": "4e2734d2",
   "metadata": {},
   "outputs": [],
   "source": [
    "from torch.utils.data import Dataset\n",
    "from PIL import Image\n",
    "import os\n",
    "\n",
    "class KITTISegmentationDataset(Dataset):\n",
    "    def __init__(self, image_dir, mask_dir, image_size=(224, 224)):\n",
    "        self.image_paths = sorted([os.path.join(image_dir, fname) for fname in os.listdir(image_dir) if fname.endswith('.png') or fname.endswith('.jpg')])\n",
    "        self.mask_paths = sorted([os.path.join(mask_dir, fname) for fname in os.listdir(mask_dir) if fname.endswith('.png')])\n",
    "\n",
    "        self.image_transform = T.Compose([\n",
    "            T.Resize(image_size),\n",
    "            T.ToTensor(),\n",
    "            T.Normalize(mean=[0.5]*3, std=[0.5]*3)\n",
    "        ])\n",
    "        \n",
    "        self.mask_transform = T.Compose([\n",
    "            T.Resize(image_size, interpolation=Image.NEAREST),\n",
    "            T.PILToTensor()\n",
    "        ])\n",
    "\n",
    "    def __len__(self):\n",
    "        return len(self.image_paths)\n",
    "\n",
    "    def __getitem__(self, idx):\n",
    "        image = Image.open(self.image_paths[idx]).convert('RGB')\n",
    "        mask = Image.open(self.mask_paths[idx])  # Assumes masks are already in correct class format\n",
    "        return self.image_transform(image), self.mask_transform(mask).squeeze(0).long()\n"
   ]
  },
  {
   "cell_type": "code",
   "execution_count": 10,
   "id": "3720a106",
   "metadata": {},
   "outputs": [],
   "source": [
    "kitti_dataset = KITTISegmentationDataset(\n",
    "    image_dir='kitti_data/training/image_2',\n",
    "    mask_dir='kitti_data/training/semantic',\n",
    "    image_size=(224, 224)\n",
    ")\n",
    "\n",
    "\n",
    "kitti_loader = DataLoader(\n",
    "    kitti_dataset,\n",
    "    batch_size=8,\n",
    "    shuffle=False,\n",
    "    num_workers=4,\n",
    "    pin_memory=True\n",
    ")\n",
    "\n"
   ]
  },
  {
   "cell_type": "code",
   "execution_count": 11,
   "id": "82c19fd7",
   "metadata": {},
   "outputs": [
    {
     "data": {
      "text/plain": [
       "DinoSegModel(\n",
       "  (dino): Dinov2Model(\n",
       "    (embeddings): Dinov2Embeddings(\n",
       "      (patch_embeddings): Dinov2PatchEmbeddings(\n",
       "        (projection): Conv2d(3, 1024, kernel_size=(14, 14), stride=(14, 14))\n",
       "      )\n",
       "      (dropout): Dropout(p=0.0, inplace=False)\n",
       "    )\n",
       "    (encoder): Dinov2Encoder(\n",
       "      (layer): ModuleList(\n",
       "        (0-23): 24 x Dinov2Layer(\n",
       "          (norm1): LayerNorm((1024,), eps=1e-06, elementwise_affine=True)\n",
       "          (attention): Dinov2Attention(\n",
       "            (attention): Dinov2SelfAttention(\n",
       "              (query): Linear(in_features=1024, out_features=1024, bias=True)\n",
       "              (key): Linear(in_features=1024, out_features=1024, bias=True)\n",
       "              (value): Linear(in_features=1024, out_features=1024, bias=True)\n",
       "              (dropout): Dropout(p=0.0, inplace=False)\n",
       "            )\n",
       "            (output): Dinov2SelfOutput(\n",
       "              (dense): Linear(in_features=1024, out_features=1024, bias=True)\n",
       "              (dropout): Dropout(p=0.0, inplace=False)\n",
       "            )\n",
       "          )\n",
       "          (layer_scale1): Dinov2LayerScale()\n",
       "          (drop_path): Identity()\n",
       "          (norm2): LayerNorm((1024,), eps=1e-06, elementwise_affine=True)\n",
       "          (mlp): Dinov2MLP(\n",
       "            (fc1): Linear(in_features=1024, out_features=4096, bias=True)\n",
       "            (activation): GELUActivation()\n",
       "            (fc2): Linear(in_features=4096, out_features=1024, bias=True)\n",
       "          )\n",
       "          (layer_scale2): Dinov2LayerScale()\n",
       "        )\n",
       "      )\n",
       "    )\n",
       "    (layernorm): LayerNorm((1024,), eps=1e-06, elementwise_affine=True)\n",
       "  )\n",
       "  (decoder): UNetDecoder(\n",
       "    (up1): Sequential(\n",
       "      (0): Upsample(scale_factor=2.0, mode='bilinear')\n",
       "      (1): Conv2d(1024, 512, kernel_size=(3, 3), stride=(1, 1), padding=(1, 1))\n",
       "      (2): BatchNorm2d(512, eps=1e-05, momentum=0.1, affine=True, track_running_stats=True)\n",
       "      (3): ReLU(inplace=True)\n",
       "      (4): Dropout2d(p=0.2, inplace=False)\n",
       "    )\n",
       "    (up2): Sequential(\n",
       "      (0): Upsample(scale_factor=2.0, mode='bilinear')\n",
       "      (1): Conv2d(512, 256, kernel_size=(3, 3), stride=(1, 1), padding=(1, 1))\n",
       "      (2): BatchNorm2d(256, eps=1e-05, momentum=0.1, affine=True, track_running_stats=True)\n",
       "      (3): ReLU(inplace=True)\n",
       "      (4): Dropout2d(p=0.2, inplace=False)\n",
       "    )\n",
       "    (up3): Sequential(\n",
       "      (0): Upsample(scale_factor=2.0, mode='bilinear')\n",
       "      (1): Conv2d(256, 128, kernel_size=(3, 3), stride=(1, 1), padding=(1, 1))\n",
       "      (2): BatchNorm2d(128, eps=1e-05, momentum=0.1, affine=True, track_running_stats=True)\n",
       "      (3): ReLU(inplace=True)\n",
       "      (4): Dropout2d(p=0.2, inplace=False)\n",
       "    )\n",
       "    (up4): Sequential(\n",
       "      (0): Upsample(scale_factor=2.0, mode='bilinear')\n",
       "      (1): Conv2d(128, 64, kernel_size=(3, 3), stride=(1, 1), padding=(1, 1))\n",
       "      (2): BatchNorm2d(64, eps=1e-05, momentum=0.1, affine=True, track_running_stats=True)\n",
       "      (3): ReLU(inplace=True)\n",
       "      (4): Dropout2d(p=0.2, inplace=False)\n",
       "    )\n",
       "    (skip_32): Conv2d(1024, 512, kernel_size=(1, 1), stride=(1, 1))\n",
       "    (skip_64): Conv2d(512, 256, kernel_size=(1, 1), stride=(1, 1))\n",
       "    (skip_128): Conv2d(256, 128, kernel_size=(1, 1), stride=(1, 1))\n",
       "    (final_conv): Conv2d(64, 21, kernel_size=(1, 1), stride=(1, 1))\n",
       "    (aux1_conv): Conv2d(128, 21, kernel_size=(1, 1), stride=(1, 1))\n",
       "    (aux2_conv): Conv2d(64, 21, kernel_size=(1, 1), stride=(1, 1))\n",
       "  )\n",
       ")"
      ]
     },
     "execution_count": 11,
     "metadata": {},
     "output_type": "execute_result"
    }
   ],
   "source": [
    "model = DinoSegModel(freeze_dino=True, num_classes=21).to(device)\n",
    "model.load_state_dict(torch.load(\"/home/iiitb/Desktop/anant/playground/ProjectBytes/best_model1.pth\", map_location=device))\n",
    "model.eval()\n"
   ]
  },
  {
   "cell_type": "code",
   "execution_count": 12,
   "id": "fe657010",
   "metadata": {},
   "outputs": [
    {
     "name": "stdout",
     "output_type": "stream",
     "text": [
      "torch.Size([8, 3, 224, 224]) torch.Size([8, 224, 224])\n",
      "Unique labels in masks: tensor([ 0,  4,  7,  8,  9, 11, 12, 13, 17, 19, 20, 21, 22, 23, 24, 25, 26, 27,\n",
      "        28, 31, 32, 33])\n",
      "torch.Size([8, 3, 224, 224]) torch.Size([8, 224, 224])\n",
      "Unique labels in masks: tensor([ 0,  4,  6,  7,  8, 11, 13, 17, 19, 20, 21, 22, 23, 24, 25, 26, 27, 28,\n",
      "        33])\n",
      "torch.Size([8, 3, 224, 224]) torch.Size([8, 224, 224])\n",
      "Unique labels in masks: tensor([ 4,  7,  8, 10, 11, 12, 13, 15, 17, 19, 20, 21, 22, 23, 24, 26, 27, 28])\n",
      "torch.Size([8, 3, 224, 224]) torch.Size([8, 224, 224])\n",
      "Unique labels in masks: tensor([ 0,  4,  6,  7,  8, 10, 11, 12, 13, 17, 18, 19, 20, 21, 22, 23, 24, 25,\n",
      "        26, 28, 31, 32, 33])\n",
      "torch.Size([8, 3, 224, 224]) torch.Size([8, 224, 224])\n",
      "Unique labels in masks: tensor([ 0,  4,  6,  7,  8, 10, 11, 13, 17, 18, 19, 20, 21, 22, 23, 24, 25, 26,\n",
      "        27, 28, 33])\n",
      "torch.Size([8, 3, 224, 224]) torch.Size([8, 224, 224])\n",
      "Unique labels in masks: tensor([ 4,  7,  8, 10, 11, 15, 17, 19, 20, 21, 22, 23, 26, 27])\n",
      "torch.Size([8, 3, 224, 224]) torch.Size([8, 224, 224])\n",
      "Unique labels in masks: tensor([ 0,  4,  7,  8, 10, 11, 15, 17, 18, 19, 20, 21, 22, 23, 25, 26, 27, 33])\n",
      "torch.Size([8, 3, 224, 224]) torch.Size([8, 224, 224])\n",
      "Unique labels in masks: tensor([ 4,  7,  8, 11, 13, 17, 20, 21, 22, 23, 24, 25, 26, 27, 33])\n",
      "torch.Size([8, 3, 224, 224]) torch.Size([8, 224, 224])\n",
      "Unique labels in masks: tensor([ 4,  6,  7, 11, 13, 14, 17, 19, 20, 21, 22, 23, 24, 25, 26, 27])\n",
      "torch.Size([8, 3, 224, 224]) torch.Size([8, 224, 224])\n",
      "Unique labels in masks: tensor([ 0,  4,  5,  6,  7,  8, 11, 13, 14, 17, 19, 20, 21, 22, 23, 26, 27, 28])\n",
      "torch.Size([8, 3, 224, 224]) torch.Size([8, 224, 224])\n",
      "Unique labels in masks: tensor([ 0,  4,  5,  6,  7,  8,  9, 10, 11, 12, 13, 17, 19, 20, 21, 22, 23, 25,\n",
      "        26, 27, 29, 30])\n",
      "torch.Size([8, 3, 224, 224]) torch.Size([8, 224, 224])\n",
      "Unique labels in masks: tensor([ 4,  5,  7,  8,  9, 10, 11, 13, 17, 19, 20, 21, 22, 23, 25, 26, 27, 28,\n",
      "        31, 33])\n",
      "torch.Size([8, 3, 224, 224]) torch.Size([8, 224, 224])\n",
      "Unique labels in masks: tensor([ 0,  4,  5,  6,  7,  9, 11, 12, 14, 15, 16, 17, 19, 20, 21, 22, 23, 26,\n",
      "        27, 28, 29, 30, 31])\n",
      "torch.Size([8, 3, 224, 224]) torch.Size([8, 224, 224])\n",
      "Unique labels in masks: tensor([ 4,  5,  7,  8, 10, 11, 12, 13, 16, 17, 19, 20, 21, 22, 23, 24, 26, 27,\n",
      "        31])\n",
      "torch.Size([8, 3, 224, 224]) torch.Size([8, 224, 224])\n",
      "Unique labels in masks: tensor([ 4,  5,  6,  7,  8,  9, 11, 12, 13, 14, 17, 19, 20, 21, 22, 23, 24, 26,\n",
      "        27])\n",
      "torch.Size([8, 3, 224, 224]) torch.Size([8, 224, 224])\n",
      "Unique labels in masks: tensor([ 0,  4,  5,  6,  7,  8,  9, 11, 12, 17, 19, 20, 21, 22, 23, 24, 26, 27,\n",
      "        33])\n",
      "torch.Size([8, 3, 224, 224]) torch.Size([8, 224, 224])\n",
      "Unique labels in masks: tensor([ 0,  4,  5,  6,  7,  8,  9, 11, 12, 13, 17, 18, 19, 20, 21, 22, 23, 24,\n",
      "        25, 26, 29, 30, 32, 33])\n",
      "torch.Size([8, 3, 224, 224]) torch.Size([8, 224, 224])\n",
      "Unique labels in masks: tensor([ 0,  4,  6,  7,  8,  9, 11, 13, 17, 19, 20, 21, 22, 23, 24, 26, 27])\n",
      "torch.Size([8, 3, 224, 224]) torch.Size([8, 224, 224])\n",
      "Unique labels in masks: tensor([ 0,  4,  5,  6,  7,  8,  9, 10, 11, 13, 15, 17, 19, 20, 21, 22, 23, 24,\n",
      "        25, 26, 27, 28, 29, 31, 33])\n",
      "torch.Size([8, 3, 224, 224]) torch.Size([8, 224, 224])\n",
      "Unique labels in masks: tensor([ 4,  5,  6,  7,  8,  9, 11, 12, 13, 17, 19, 20, 21, 22, 23, 24, 25, 26,\n",
      "        27, 30, 32, 33])\n",
      "torch.Size([8, 3, 224, 224]) torch.Size([8, 224, 224])\n",
      "Unique labels in masks: tensor([ 0,  4,  6,  7,  8,  9, 11, 13, 17, 19, 20, 21, 22, 23, 24, 25, 26, 27,\n",
      "        29, 32, 33])\n",
      "torch.Size([8, 3, 224, 224]) torch.Size([8, 224, 224])\n",
      "Unique labels in masks: tensor([ 0,  4,  5,  6,  7,  8,  9, 11, 12, 13, 14, 17, 18, 19, 20, 21, 22, 23,\n",
      "        24, 26, 31, 33])\n",
      "torch.Size([8, 3, 224, 224]) torch.Size([8, 224, 224])\n",
      "Unique labels in masks: tensor([ 4,  6,  7,  8, 11, 13, 14, 15, 17, 19, 20, 21, 22, 23, 24, 25, 26, 27,\n",
      "        33])\n",
      "torch.Size([8, 3, 224, 224]) torch.Size([8, 224, 224])\n",
      "Unique labels in masks: tensor([ 4,  6,  7,  8,  9, 11, 12, 13, 14, 15, 17, 18, 19, 20, 21, 22, 23, 25,\n",
      "        26, 27, 28, 33])\n",
      "torch.Size([8, 3, 224, 224]) torch.Size([8, 224, 224])\n",
      "Unique labels in masks: tensor([ 4,  6,  7,  8, 12, 13, 14, 15, 17, 20, 21, 22, 23, 24, 26, 27, 28])\n",
      "25\n"
     ]
    }
   ],
   "source": [
    "count = 0\n",
    "for images, masks in kitti_loader:\n",
    "        print(images.shape, masks.shape)\n",
    "        print(\"Unique labels in masks:\", torch.unique(masks))\n",
    "        count += 1 \n",
    "        # if count ==100:\n",
    "        #         break\n",
    "        \n",
    "print(count)"
   ]
  },
  {
   "cell_type": "code",
   "execution_count": null,
   "id": "c08c7784",
   "metadata": {},
   "outputs": [
    {
     "name": "stderr",
     "output_type": "stream",
     "text": [
      "Evaluating mIoU:   0%|          | 0/25 [00:00<?, ?it/s]"
     ]
    },
    {
     "name": "stderr",
     "output_type": "stream",
     "text": [
      "Evaluating mIoU: 100%|██████████| 25/25 [00:02<00:00,  9.14it/s]"
     ]
    },
    {
     "name": "stdout",
     "output_type": "stream",
     "text": [
      "\n",
      "Mean IoU over validation set: 0.0005\n",
      "KITTI mIoU: 0.0005\n"
     ]
    },
    {
     "name": "stderr",
     "output_type": "stream",
     "text": [
      "\n"
     ]
    }
   ],
   "source": [
    "from torchmetrics.classification import MulticlassJaccardIndex\n",
    "\n",
    "NUM_CLASSES = 34   # 0 to 33 possible\n",
    "IGNORE_INDEX = 255\n",
    "\n",
    "device = torch.device('cuda' if torch.cuda.is_available() else 'cpu')\n",
    "\n",
    "# Initialize mIoU metric\n",
    "# miou_metric = MulticlassJaccardIndex(\n",
    "#     num_classes=NUM_CLASSES,\n",
    "#     ignore_index=IGNORE_INDEX,\n",
    "# ).to(device)\n",
    "\n",
    "miou_metric = MulticlassJaccardIndex(num_classes=34, ignore_index=255).to(device)\n",
    "\n",
    "def evaluate_kitti(model, loader, device):\n",
    "    model.eval()\n",
    "    miou_metric.reset()\n",
    "\n",
    "    with torch.no_grad():\n",
    "        val_loop = tqdm(loader, desc=\"Evaluating mIoU\")\n",
    "\n",
    "        for step, (images, masks) in enumerate(val_loop):\n",
    "            images = images.to(device)\n",
    "            masks = masks.to(device)\n",
    "\n",
    "            images = T.Normalize(mean=[0.5]*3, std=[0.5]*3)(images)\n",
    "\n",
    "            outputs, _, _ = model(images) \n",
    "            preds = outputs.argmax(dim=1)\n",
    "\n",
    "            miou_metric.update(preds, masks)\n",
    "\n",
    "    mean_iou = miou_metric.compute().item()\n",
    "    print(f\"\\nMean IoU over validation set: {mean_iou:.4f}\")\n",
    "    return mean_iou\n",
    "\n",
    "val_miou = evaluate_kitti(model, kitti_loader, device)\n",
    "print(f\"KITTI mIoU: {val_miou:.4f}\")\n"
   ]
  },
  {
   "cell_type": "code",
   "execution_count": null,
   "id": "cf1c46cd",
   "metadata": {},
   "outputs": [],
   "source": []
  },
  {
   "cell_type": "code",
   "execution_count": 108,
   "id": "49321b66",
   "metadata": {},
   "outputs": [
    {
     "data": {
      "text/plain": [
       "[None,\n",
       " None,\n",
       " None,\n",
       " None,\n",
       " None,\n",
       " None,\n",
       " None,\n",
       " None,\n",
       " None,\n",
       " 0.397011216033946,\n",
       " None,\n",
       " None,\n",
       " None,\n",
       " None,\n",
       " None,\n",
       " None,\n",
       " None,\n",
       " None,\n",
       " None,\n",
       " 0.2807839595927642,\n",
       " None,\n",
       " None,\n",
       " None,\n",
       " None,\n",
       " None,\n",
       " None,\n",
       " None,\n",
       " None,\n",
       " None,\n",
       " 0.2674014389842421,\n",
       " None,\n",
       " None,\n",
       " None,\n",
       " None,\n",
       " None,\n",
       " None,\n",
       " None,\n",
       " None,\n",
       " None,\n",
       " 0.2745082508158553,\n",
       " None,\n",
       " None,\n",
       " None,\n",
       " None,\n",
       " None,\n",
       " None,\n",
       " None,\n",
       " None,\n",
       " None,\n",
       " 0.2758915059800659]"
      ]
     },
     "execution_count": 108,
     "metadata": {},
     "output_type": "execute_result"
    }
   ],
   "source": [
    "val_losses"
   ]
  },
  {
   "cell_type": "code",
   "execution_count": 109,
   "id": "45e91060",
   "metadata": {},
   "outputs": [
    {
     "data": {
      "text/plain": [
       "[None,\n",
       " None,\n",
       " None,\n",
       " None,\n",
       " None,\n",
       " None,\n",
       " None,\n",
       " None,\n",
       " None,\n",
       " 0.756900429725647,\n",
       " None,\n",
       " None,\n",
       " None,\n",
       " None,\n",
       " None,\n",
       " None,\n",
       " None,\n",
       " None,\n",
       " None,\n",
       " 0.7877744436264038,\n",
       " None,\n",
       " None,\n",
       " None,\n",
       " None,\n",
       " None,\n",
       " None,\n",
       " None,\n",
       " None,\n",
       " None,\n",
       " 0.7931466102600098,\n",
       " None,\n",
       " None,\n",
       " None,\n",
       " None,\n",
       " None,\n",
       " None,\n",
       " None,\n",
       " None,\n",
       " None,\n",
       " 0.7928969860076904,\n",
       " None,\n",
       " None,\n",
       " None,\n",
       " None,\n",
       " None,\n",
       " None,\n",
       " None,\n",
       " None,\n",
       " None,\n",
       " 0.7931216955184937]"
      ]
     },
     "execution_count": 109,
     "metadata": {},
     "output_type": "execute_result"
    }
   ],
   "source": [
    "val_ious"
   ]
  },
  {
   "cell_type": "code",
   "execution_count": 110,
   "id": "cb802af0",
   "metadata": {},
   "outputs": [
    {
     "data": {
      "text/plain": [
       "[3.3017658900693467,\n",
       " 2.2418576622269843,\n",
       " 1.6404918927312548,\n",
       " 1.2029355542907298,\n",
       " 0.9187097155331262,\n",
       " 0.7507291931272204,\n",
       " 0.6450010179821911,\n",
       " 0.5576519427078018,\n",
       " 0.4910727442939425,\n",
       " 0.43741350201635415,\n",
       " 0.40406178931395215,\n",
       " 0.36425441983944734,\n",
       " 0.3360209233773862,\n",
       " 0.30995759880933604,\n",
       " 0.295253973271026,\n",
       " 0.27690230774097757,\n",
       " 0.2614204498425208,\n",
       " 0.23872487548270513,\n",
       " 0.23015329107397892,\n",
       " 0.22324426378545864,\n",
       " 0.20956332647735304,\n",
       " 0.19900025459912304,\n",
       " 0.2014072966135916,\n",
       " 0.18480507516470113,\n",
       " 0.18441755927162742,\n",
       " 0.17157224187108336,\n",
       " 0.1653711997338983,\n",
       " 0.1639689958649255,\n",
       " 0.16502071611705374,\n",
       " 0.1555203477867314,\n",
       " 0.14783788211847262,\n",
       " 0.14627523622551902,\n",
       " 0.1471713434884457,\n",
       " 0.14565281985235995,\n",
       " 0.13718269191315915,\n",
       " 0.13754930548736308,\n",
       " 0.13395286787077376,\n",
       " 0.13105200931348435,\n",
       " 0.1320030850058045,\n",
       " 0.12385824229059324,\n",
       " 0.12981282905395566,\n",
       " 0.12496666976662933,\n",
       " 0.1197212013960536,\n",
       " 0.11579769705244101,\n",
       " 0.11760692909115651,\n",
       " 0.11526916858032753,\n",
       " 0.11726093837797967,\n",
       " 0.10723602313731538,\n",
       " 0.10446754728998643,\n",
       " 0.11056783274223245]"
      ]
     },
     "execution_count": 110,
     "metadata": {},
     "output_type": "execute_result"
    }
   ],
   "source": [
    "train_losses"
   ]
  },
  {
   "cell_type": "code",
   "execution_count": 80,
   "id": "74b4a485",
   "metadata": {},
   "outputs": [
    {
     "data": {
      "image/png": "[encoded data removed]",
      "text/plain": [
       "<Figure size 1200x400 with 2 Axes>"
      ]
     },
     "metadata": {},
     "output_type": "display_data"
    }
   ],
   "source": [
    "# Plot Loss and mIoU\n",
    "plt.figure(figsize=(12, 4))\n",
    "plt.subplot(1, 2, 1)\n",
    "plt.plot(train_losses, label=\"Train Loss\")\n",
    "plt.plot(val_losses, label=\"Val Loss\")\n",
    "plt.xlabel(\"Epoch\")\n",
    "plt.ylabel(\"Loss\")\n",
    "plt.title(\"Loss vs Epoch\")\n",
    "plt.legend()\n",
    "\n",
    "plt.subplot(1, 2, 2)\n",
    "plt.plot(val_ious, label=\"Val mIoU\", color=\"green\")\n",
    "plt.xlabel(\"Epoch\")\n",
    "plt.ylabel(\"mIoU\")\n",
    "plt.title(\"Validation mIoU\")\n",
    "plt.legend()\n",
    "\n",
    "plt.tight_layout()\n",
    "plt.show()"
   ]
  },
  {
   "cell_type": "code",
   "execution_count": 81,
   "id": "4aacd102",
   "metadata": {},
   "outputs": [
    {
     "data": {
      "image/png": "[encoded data removed]",
      "text/plain": [
       "<Figure size 640x480 with 1 Axes>"
      ]
     },
     "metadata": {},
     "output_type": "display_data"
    }
   ],
   "source": [
    "import matplotlib.pyplot as plt\n",
    "\n",
    "plt.figure()\n",
    "\n",
    "# Plot train loss (has value every epoch)\n",
    "plt.plot(range(num_epochs), train_losses, label='Train Loss')\n",
    "\n",
    "# Prepare filtered val loss and x-ticks\n",
    "val_epochs = [i for i, v in enumerate(val_losses) if v is not None]\n",
    "val_values = [v for v in val_losses if v is not None]\n",
    "\n",
    "plt.plot(val_epochs, val_values, label='Validation Loss', marker='o')\n",
    "\n",
    "plt.xlabel('Epoch')\n",
    "plt.ylabel('Loss')\n",
    "plt.title('Loss vs Epoch')\n",
    "plt.legend()\n",
    "plt.grid(True)\n",
    "# plt.savefig('loss_plot.png')\n",
    "# plt.close()\n"
   ]
  },
  {
   "cell_type": "code",
   "execution_count": null,
   "id": "de925b55",
   "metadata": {},
   "outputs": [],
   "source": [
    "# for inferencing\n",
    "# model.load_state_dict(torch.load(\"best_model.pth\"))\n",
    "# model.eval()"
   ]
  },
  {
   "cell_type": "markdown",
   "id": "ff04d52b",
   "metadata": {},
   "source": [
    "### Inference"
   ]
  },
  {
   "cell_type": "code",
   "execution_count": 33,
   "id": "954d9510",
   "metadata": {},
   "outputs": [],
   "source": [
    "import PIL"
   ]
  },
  {
   "cell_type": "code",
   "execution_count": null,
   "metadata": {},
   "outputs": [
    {
     "ename": "",
     "evalue": "",
     "output_type": "error",
     "traceback": [
      "\u001b[1;31mThe Kernel crashed while executing code in the current cell or a previous cell. \n",
      "\u001b[1;31mPlease review the code in the cell(s) to identify a possible cause of the failure. \n",
      "\u001b[1;31mClick <a href='https://aka.ms/vscodeJupyterKernelCrash'>here</a> for more info. \n",
      "\u001b[1;31mView Jupyter <a href='command:jupyter.viewOutput'>log</a> for further details."
     ]
    }
   ],
   "source": [
    "\n",
    "#model = DinoSegModel().to(device)\n",
    "#model.load_state_dict(torch.load(\"checkpoints/best_model.pth\"))\n",
    "# model.eval()\n",
    "\n",
    "# image_processor = AutoImageProcessor.from_pretrained(\"facebook/dinov2-large\")\n",
    "# img = Image.open(\"/home/iiitb/Desktop/anant/playground/ProjectBytes/src/pred_airplane1.png\").convert(\"RGB\")\n",
    "# inputs = image_processor(img, return_tensors=\"pt\").to(device)\n",
    "\n",
    "# with torch.no_grad():\n",
    "#     output = model(inputs.pixel_values)\n",
    "#     pred = output.argmax(1).squeeze().cpu().numpy()\n",
    "\n",
    "# plt.imshow(pred, cmap='gray')\n",
    "# plt.title(\"Prediction\")\n",
    "# plt.show()\n"
   ]
  }
 ],
 "metadata": {
  "kernelspec": {
   "display_name": "deeplearning",
   "language": "python",
   "name": "python3"
  },
  "language_info": {
   "codemirror_mode": {
    "name": "ipython",
    "version": 3
   },
   "file_extension": ".py",
   "mimetype": "text/x-python",
   "name": "python",
   "nbconvert_exporter": "python",
   "pygments_lexer": "ipython3",
   "version": "3.11.8"
  }
 },
 "nbformat": 4,
 "nbformat_minor": 5
}
